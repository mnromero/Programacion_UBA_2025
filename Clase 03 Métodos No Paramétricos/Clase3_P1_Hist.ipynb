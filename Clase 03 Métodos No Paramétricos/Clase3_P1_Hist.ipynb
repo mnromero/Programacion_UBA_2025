{
 "cells": [
  {
   "cell_type": "markdown",
   "metadata": {
    "id": "ObeIwb_npgeZ"
   },
   "source": [
    "# Big Data y Machine Learning (UBA) 2025\n",
    "## Clase 3 - Parte I - Histogramas y Visualización de datos\n",
    "\n",
    "**Objetivo:**\n",
    "Que se familiaricen con métodos no paramétricos para estimacion de la distribución de densidad de una variable aleatoria."
   ]
  },
  {
   "cell_type": "markdown",
   "metadata": {},
   "source": [
    "### Métodos no paramétricos\n",
    "El objetivo es predecir distribución de una variable de interés \n",
    "- 𝑌 variable aleatoria de interés\n",
    "- 𝑓(𝑌) distribución de densidad 𝑌\n",
    "\n",
    "Métodos\n",
    "- Repaso a Numpy vs. Pandas\n",
    "- Histogramas con Matplotlib\n",
    "- Histogramas mejorados con Seaborn y sus opciones\n"
   ]
  },
  {
   "cell_type": "markdown",
   "metadata": {},
   "source": [
    "#### Repaso: NumPy y scikit-learn\n",
    "**El paquete NumPy** es fundamental en Python. Está escrito en lenguajes de bajo nivel, lo que permite realizar operaciones matemáticas de manera muy eficiente. Para más información, ver la [guía oficial de uso de NumPy](https://docs.scipy.org/doc/numpy/user/index.html).\n",
    "\n",
    "**El paquete scikit-learn** es una biblioteca de Python usada para machine learning, construida encima de NumPy y otros paquetes. Permite procesar datos, reducir la dimensionalidad de la base, implementar regresiones, clasificaciones, clustering y más. Pueden ver la [web de scikit-learn](https://scikit-learn.org/stable/)\n"
   ]
  },
  {
   "cell_type": "code",
   "execution_count": null,
   "metadata": {},
   "outputs": [],
   "source": [
    "#Installamos el paquete necesario\n",
    "!pip install scikit-learn\n",
    "\n",
    "# Alternativa\n",
    "#import sys\n",
    "#!{sys.executable} -m pip install scikit-learn"
   ]
  },
  {
   "cell_type": "code",
   "execution_count": null,
   "metadata": {},
   "outputs": [],
   "source": [
    "# Importamos paquetes\n",
    "import numpy as np\n",
    "import pandas as pd\n",
    "import matplotlib.pyplot as plt"
   ]
  },
  {
   "cell_type": "markdown",
   "metadata": {},
   "source": [
    "#### Repaso breve de Numpy\n",
    "\n",
    "A continuación crearemos dos vectores con los que trabajaremos en nuestra primera regresión lineal."
   ]
  },
  {
   "cell_type": "code",
   "execution_count": null,
   "metadata": {},
   "outputs": [],
   "source": [
    "x = np.array([5, 15, 25, 35, 45, 55])\n",
    "y = np.array([5, 20, 14, 32, 22, 38])\n",
    "\n",
    "print(x)\n",
    "print(y)\n",
    "# Ambos son vectores fila"
   ]
  },
  {
   "cell_type": "code",
   "execution_count": null,
   "metadata": {},
   "outputs": [],
   "source": [
    "# Reshape para transformar x en un vector columna\n",
    "x = x.reshape((-1, 1))   # El -1 indica el largo del array\n",
    "# Es equivalente a: x = x.reshape((6, 1))\n",
    "\n",
    "print(x)\n",
    "print(y)"
   ]
  },
  {
   "cell_type": "code",
   "execution_count": null,
   "metadata": {},
   "outputs": [],
   "source": [
    "# Generamos datos aleatorios con distribucion normal\n",
    "np.random.seed(20)\n",
    "X = np.concatenate([np.random.normal(0,1,500), np.random.normal(5,1,500)]).reshape(-1,1)\n",
    "\n"
   ]
  },
  {
   "cell_type": "markdown",
   "metadata": {},
   "source": [
    "##### Estastistica descriptiva en Numpy vs. Pandas"
   ]
  },
  {
   "cell_type": "code",
   "execution_count": null,
   "metadata": {},
   "outputs": [],
   "source": [
    "# Estadistica descriptiva en Numpy\n",
    "print(\"Media\", np.mean(X).round(2))\n",
    "print(\"Desvío Estándar (s.d.)\", np.std(X).round(2))\n",
    "print(\"Mínimo\", np.min(X).round(2))\n",
    "print(\"Mediana\", np.percentile(X,50).round(2))\n",
    "print(\"Máximo\", np.max(X).round(2))"
   ]
  },
  {
   "cell_type": "code",
   "execution_count": null,
   "metadata": {},
   "outputs": [],
   "source": [
    "# convertimos la matriz en un base de datos (\"DataFrame\")\n",
    "df_X = pd.DataFrame(X,columns=['Var_Normal'])\n",
    "\n",
    "# Visualizamos\n",
    "print(df_X.head(3))\n",
    "\n",
    "# Obtenemos estadistica descriptiva de las variables\n",
    "df_X.describe().round(2)"
   ]
  },
  {
   "cell_type": "markdown",
   "metadata": {},
   "source": [
    "## Histogramas con Matplotlib\n",
    "Como introducimos en clases anteriores, el módulo de Matplotlib nos ayuda a hacer gráficos y visualización de datos"
   ]
  },
  {
   "cell_type": "markdown",
   "metadata": {},
   "source": [
    "Nuestro objetivo es estimar la distribucion de densidad $f(Y)$ una variable aleatoria Y, con la siguiente aproximación no parametrica:\n",
    "\n",
    "$$\n",
    "\\hat{f}(y) = \\frac{M}{n} ∑^𝑛_i I(𝑌_𝑖 \\in B_l)  \n",
    "$$\n",
    "Con $B_l$ barra (bin) $l$-ésimo\n",
    "\n",
    "Podemos usar el atributo `hist` de Matplotlib. Ver documentación [acá](https://matplotlib.org/stable/api/_as_gen/matplotlib.pyplot.hist.html)"
   ]
  },
  {
   "cell_type": "code",
   "execution_count": null,
   "metadata": {},
   "outputs": [],
   "source": [
    "# Grafico\n",
    "plt.figure(figsize=(10,6))\n",
    "plt.hist(X, alpha=0.5, color='blue') # por default, 10 bins\n",
    "plt.xlabel('Valores')\n",
    "plt.ylabel('Frecuencia')\n",
    "plt.show()"
   ]
  },
  {
   "cell_type": "markdown",
   "metadata": {},
   "source": [
    "A mayor número de barras (bins en ingles), menos observaciones se acumulan en cada bin (notar diferencia de escala en el eje y), como muestra el siguiente gráfico"
   ]
  },
  {
   "cell_type": "code",
   "execution_count": null,
   "metadata": {},
   "outputs": [],
   "source": [
    "# Grafico\n",
    "plt.figure(figsize=(10,6))\n",
    "plt.hist(X, bins=50, alpha=0.5, color='blue', label='Histograma')\n",
    "plt.xlabel('Valores')\n",
    "plt.ylabel('Frecuencia')\n",
    "plt.show()"
   ]
  },
  {
   "cell_type": "code",
   "execution_count": null,
   "metadata": {},
   "outputs": [],
   "source": [
    "# Grafico\n",
    "plt.figure(figsize=(10,6))\n",
    "plt.hist(X, bins=30, alpha=0.5, color='blue', label='Histograma')\n",
    "plt.xlabel('Valores')\n",
    "plt.ylabel('Frecuencia')\n",
    "\n",
    "# Agregamos línea vertical con la media\n",
    "mean_value = np.mean(X)\n",
    "plt.axvline(mean_value, color='red', linestyle='dashed', linewidth=1, label='Media')\n",
    "plt.legend()  # Show legend with label for the mean line\n",
    "plt.show()"
   ]
  },
  {
   "cell_type": "code",
   "execution_count": null,
   "metadata": {},
   "outputs": [],
   "source": [
    "# Definimos un criterio para \"cortar\" outliers (por ejemplo, a 2 DE de la media)\n",
    "mean_value = np.mean(X)\n",
    "std_dev = np.std(X)\n",
    "lower_bound = mean_value - 2 * std_dev\n",
    "upper_bound = mean_value + 2 * std_dev\n",
    "\n",
    "# Filtramos los datos\n",
    "X_filtered = X[(X >= lower_bound) & (X <= upper_bound)]\n",
    "\n",
    "# Plot histogram of filtered data\n",
    "plt.hist(X, bins=30, alpha=0.3, color='blue', label='Histograma')\n",
    "plt.hist(X_filtered, bins=30, alpha=0.7, color='orange', label='Histograma')\n",
    "plt.xlabel('Valores')\n",
    "plt.ylabel('Frecuencia')\n",
    "plt.show()"
   ]
  },
  {
   "cell_type": "markdown",
   "metadata": {},
   "source": [
    "También podemos usar algunas funciones de seaborn para graficar histogramas. Ver documentación [acá](https://seaborn.pydata.org/generated/seaborn.histplot.html#seaborn.histplot)\n"
   ]
  },
  {
   "cell_type": "markdown",
   "metadata": {},
   "source": [
    "## Histogramas con Seaborn\n",
    "En este ejemplop utilizaremos una base de datos del modulo de `seaborn`, también muy utilizada en procesamiento y visualización de datos en Python. Para más información ver [seaborn](https://seaborn.pydata.org/)"
   ]
  },
  {
   "cell_type": "code",
   "execution_count": null,
   "metadata": {
    "scrolled": true
   },
   "outputs": [],
   "source": [
    "# Primero, installamos el paquete\n",
    "#!pip install seaborn"
   ]
  },
  {
   "cell_type": "code",
   "execution_count": null,
   "metadata": {},
   "outputs": [],
   "source": [
    "import seaborn as sns"
   ]
  },
  {
   "cell_type": "code",
   "execution_count": null,
   "metadata": {},
   "outputs": [],
   "source": [
    "tips = sns.load_dataset(\"tips\")\n",
    "tips"
   ]
  },
  {
   "cell_type": "markdown",
   "metadata": {},
   "source": [
    "##### Pregunta: Como verían la estadistica descriptiva de esta base de datos de propinas?"
   ]
  },
  {
   "cell_type": "code",
   "execution_count": null,
   "metadata": {},
   "outputs": [],
   "source": [
    "# resolver aquí"
   ]
  },
  {
   "cell_type": "markdown",
   "metadata": {},
   "source": [
    "#### Visualización de dos variables con Seaborn"
   ]
  },
  {
   "cell_type": "markdown",
   "metadata": {},
   "source": [
    "Podemos hacer un lindo gráfico de dispersión entre dos variables rápidamente. Por ejemplo entre la cuenta total (`total_bill`) y las propinas (`tips`)."
   ]
  },
  {
   "cell_type": "code",
   "execution_count": null,
   "metadata": {},
   "outputs": [],
   "source": [
    "# Gráfico de dispersión\n",
    "sns.relplot(data=tips, x=\"total_bill\", y=\"tip\")"
   ]
  },
  {
   "cell_type": "markdown",
   "metadata": {},
   "source": [
    "Ahora sí, utilicemos seaborn para hacer un histogramas"
   ]
  },
  {
   "cell_type": "code",
   "execution_count": null,
   "metadata": {},
   "outputs": [],
   "source": [
    "sns.histplot(data=tips['tip'], stat='density') # funcion de histograma de Seaborn"
   ]
  },
  {
   "cell_type": "markdown",
   "metadata": {},
   "source": [
    "Podemos alterar los ejes y opciones usando las opciones de **Matplotlib**"
   ]
  },
  {
   "cell_type": "code",
   "execution_count": null,
   "metadata": {},
   "outputs": [],
   "source": [
    "sns.histplot(data=tips['tip'], stat='density') # funcion de histograma de Seaborn\n",
    "mean_tips = np.mean(tips['tip'])\n",
    "plt.axvline(mean_tips, color='red', linestyle='dashed', linewidth=1, label='Propinas promedio')\n",
    "plt.title(\"Distribución de propinas (en USD)\")\n",
    "plt.xlabel(\"Propinas (en USD)\")\n",
    "plt.legend()  # Nos muestra la leyenda para la media de tips"
   ]
  },
  {
   "cell_type": "markdown",
   "metadata": {},
   "source": [
    "#### Histograma para dos categorías\n",
    "Podemos hacer el histograma por grupos como varon y mujer, utilizando la opcion `hue`."
   ]
  },
  {
   "cell_type": "code",
   "execution_count": null,
   "metadata": {},
   "outputs": [],
   "source": [
    "sns.histplot(data=tips, x=\"tip\", stat='density', hue=\"sex\", multiple=\"stack\") \n",
    "plt.title(\"Distribución de propinas (en USD)\")\n",
    "plt.xlabel(\"Propinas (en USD)\")"
   ]
  },
  {
   "cell_type": "markdown",
   "metadata": {},
   "source": [
    "Tambien podemos hacerlo como dos paneles separados con la funcion `displot()` "
   ]
  },
  {
   "cell_type": "code",
   "execution_count": null,
   "metadata": {},
   "outputs": [],
   "source": [
    "sns.displot(data=tips, x=\"tip\", stat='density', hue=\"sex\", col=\"sex\") "
   ]
  },
  {
   "cell_type": "code",
   "execution_count": null,
   "metadata": {},
   "outputs": [],
   "source": [
    "# Ahora le agregamos la media a cada distribucion\n",
    "g = sns.displot(data=tips, x=\"tip\", stat='density', hue=\"sex\", col=\"sex\") \n",
    "\n",
    "for ax, sex in zip(g.axes[0], tips['sex'].unique()):\n",
    "    media = tips[tips['sex'] == sex]['tip'].mean()\n",
    "    ax.axvline(media, color='r', linestyle='--', label=f'Media {sex}')\n",
    "    ax.legend\n",
    "plt.show()"
   ]
  },
  {
   "cell_type": "code",
   "execution_count": null,
   "metadata": {},
   "outputs": [],
   "source": [
    "# Ahora le agregamos la media y el valor a cada distribucion\n",
    "g = sns.displot(data=tips, x=\"tip\", stat='density', hue=\"sex\", col=\"sex\") \n",
    "\n",
    "for ax, sex in zip(g.axes[0], tips['sex'].unique()):\n",
    "    media = tips[tips['sex'] == sex]['tip'].mean()\n",
    "    ax.axvline(media, color='r', linestyle='--', label=f'Media {sex}')\n",
    "    ax.text(media, ax.get_ylim()[1], f'{media:.2f}', ha='left', va='top', color='r')\n",
    "\n",
    "g.axes[0][-1].legend() #muestra la leyenda en el último panel\n",
    "\n",
    "plt.show()"
   ]
  },
  {
   "cell_type": "markdown",
   "metadata": {},
   "source": [
    "### Opciones de distribución de la variable\n",
    "En lugar es estimas la densidad $\\hat{f}(y)$, podemos mostrar la cantidad de observaciones en cada barrita (en cada bin) como:\n",
    "- `density`: La función de densidad esta *normalizada* para que el área total del histograma de 1 (esta es la que hicimos)\n",
    "- `count`: cuenta el número de observaciones en cada barrita (bin)\n",
    "- `frequency`: muestra el número de observaciones dividido el ancho de cada barrita (bin)\n",
    "- `probability or proportion`: normalizada de modo tal que la suma de las alturas de 1.\n",
    "- `percent`: normalizada de modo tal que la suma de las alturas de 100%\n"
   ]
  },
  {
   "cell_type": "code",
   "execution_count": null,
   "metadata": {},
   "outputs": [],
   "source": [
    "sns.histplot(data=tips['tip'], stat='count') # funcion de histograma de Seaborn\n",
    "mean_tips = np.mean(tips['tip'])\n",
    "plt.axvline(mean_tips, color='red', linestyle='dashed', linewidth=1, label='Tips promedio')\n",
    "plt.title(\"Distribución de propinas (en USD)\")\n",
    "plt.xlabel(\"Propinas (en USD)\")\n",
    "plt.legend()  # Nos muestra la leyenda para la media de tips"
   ]
  },
  {
   "cell_type": "code",
   "execution_count": null,
   "metadata": {},
   "outputs": [],
   "source": [
    "sns.histplot(data=tips['tip'], stat='frequency') # funcion de histograma de Seaborn\n",
    "mean_tips = np.mean(tips['tip'])\n",
    "plt.axvline(mean_tips, color='red', linestyle='dashed', linewidth=1, label='Tips promedio')\n",
    "plt.title(\"Distribución de propinas (en USD)\")\n",
    "plt.xlabel(\"Propinas (en USD)\")\n",
    "plt.legend()  # Nos muestra la leyenda para la media de tips"
   ]
  },
  {
   "cell_type": "code",
   "execution_count": null,
   "metadata": {},
   "outputs": [],
   "source": [
    "sns.histplot(data=tips['tip'], stat='probability') # funcion de histograma de Seaborn\n",
    "mean_tips = np.mean(tips['tip'])\n",
    "plt.axvline(mean_tips, color='red', linestyle='dashed', linewidth=1, label='Tips promedio')\n",
    "plt.title(\"Distribución de propinas (en USD)\")\n",
    "plt.xlabel(\"Propinas (en USD)\")\n",
    "plt.legend()  # Nos muestra la leyenda para la media de tips"
   ]
  },
  {
   "cell_type": "markdown",
   "metadata": {},
   "source": [
    "### Barritas (bins)\n",
    "Ahora juguemos con las opciones del número de barritas (`bins`)"
   ]
  },
  {
   "cell_type": "code",
   "execution_count": null,
   "metadata": {},
   "outputs": [],
   "source": [
    "sns.histplot(data=tips['tip'], stat='probability',bins=100) # funcion de histograma de Seaborn\n",
    "mean_tips = np.mean(tips['tip'])\n",
    "plt.axvline(mean_tips, color='red', linestyle='dashed', linewidth=1, label='Tips promedio')\n",
    "plt.title(\"Distribución de propinas (en USD)\")\n",
    "plt.xlabel(\"Propinas (en USD)\")\n",
    "plt.legend()  # Nos muestra la leyenda para la media de tips"
   ]
  },
  {
   "cell_type": "markdown",
   "metadata": {},
   "source": [
    "### Ancho de banda (binwidth)\n",
    "Ahora juguemos con las opciones del ancho de banda (`binwidth`)"
   ]
  },
  {
   "cell_type": "code",
   "execution_count": null,
   "metadata": {},
   "outputs": [],
   "source": [
    "sns.histplot(data=tips['tip'], stat='probability',binwidth=0.5) # funcion de histograma de Seaborn\n",
    "mean_tips = np.mean(tips['tip'])\n",
    "plt.axvline(mean_tips, color='red', linestyle='dashed', linewidth=1, label='Tips promedio')\n",
    "plt.title(\"Distribución de propinas (en USD)\")\n",
    "plt.xlabel(\"Propinas (en USD)\")\n",
    "plt.legend()  # Nos muestra la leyenda para la media de tips"
   ]
  },
  {
   "cell_type": "markdown",
   "metadata": {},
   "source": [
    "### Clase Parte 2: Kernels\n",
    "Podemos sumar la estimación de la densidad usando un Kernel (Gaussiano) del cual veremos mas la clase que viene. "
   ]
  },
  {
   "cell_type": "code",
   "execution_count": null,
   "metadata": {},
   "outputs": [],
   "source": [
    "sns.histplot(data=tips, x=\"tip\", hue=\"sex\", stat=\"density\", multiple=\"stack\",  kde=True)"
   ]
  },
  {
   "cell_type": "code",
   "execution_count": null,
   "metadata": {},
   "outputs": [],
   "source": []
  }
 ],
 "metadata": {
  "colab": {
   "provenance": []
  },
  "kernelspec": {
   "display_name": "Python [conda env:base] *",
   "language": "python",
   "name": "conda-base-py"
  },
  "language_info": {
   "codemirror_mode": {
    "name": "ipython",
    "version": 3
   },
   "file_extension": ".py",
   "mimetype": "text/x-python",
   "name": "python",
   "nbconvert_exporter": "python",
   "pygments_lexer": "ipython3",
   "version": "3.12.4"
  }
 },
 "nbformat": 4,
 "nbformat_minor": 4
}
