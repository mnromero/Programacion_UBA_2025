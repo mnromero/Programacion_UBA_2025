{
 "cells": [
  {
   "cell_type": "markdown",
   "id": "d08df7a6-567f-47d4-b64d-a81a584c1a36",
   "metadata": {},
   "source": [
    "# Big Data y Machine Learning (UBA) 2025\n",
    "## Clase 2 - Parte III - Visualización de NaNs\n",
    "En esta tutorial, simularemos datos con algunas variables muy parecidas a la Encuesta Permanente de Hogares (EPH). También, simularemos valores faltantes, como contabilizarlos y visualizarlos para una limpieza posterior de la base de datos. Este paso es muy util en el momento de **procesamiento y preparación** de la muestra analítica antes de correr cualquier modelo predictivo o método no supervisado.\n",
    "Para dicha visualización de NaN usaremos el modulo de `seaborn`, también muy utilizada en procesamiento y visualización de datos en Python. Para más información ver [seaborn](https://seaborn.pydata.org/)"
   ]
  },
  {
   "cell_type": "code",
   "execution_count": null,
   "id": "cad87b9a-921f-495e-9bef-2f45e2008d9c",
   "metadata": {},
   "outputs": [],
   "source": [
    "# Primero, installamos el paquete\n",
    "!pip install seaborn"
   ]
  },
  {
   "cell_type": "code",
   "execution_count": null,
   "id": "108ecfda",
   "metadata": {
    "lines_to_next_cell": 2
   },
   "outputs": [],
   "source": [
    "import pandas as pd\n",
    "import numpy as np\n",
    "import seaborn as sns\n",
    "import matplotlib.pyplot as plt"
   ]
  },
  {
   "cell_type": "markdown",
   "id": "ef9b56e1-80b8-4de5-8c21-38e2afd84114",
   "metadata": {},
   "source": [
    "### Paso 1: Simulamos los datos"
   ]
  },
  {
   "cell_type": "code",
   "execution_count": null,
   "id": "ceedafaa",
   "metadata": {},
   "outputs": [],
   "source": [
    "# Fijamos la semilla para obtener resultados reproducibles\n",
    "np.random.seed(123)"
   ]
  },
  {
   "cell_type": "code",
   "execution_count": null,
   "id": "02018351",
   "metadata": {},
   "outputs": [],
   "source": [
    "# Creamos un arreglo de números enteros del 1 al 1000 para identificar a 1000 personas\n",
    "personas = np.arange(1, 1000)"
   ]
  },
  {
   "cell_type": "code",
   "execution_count": null,
   "id": "0716f8cf",
   "metadata": {},
   "outputs": [],
   "source": [
    "# Creamos un arreglo de años desde 2005 hasta 2025\n",
    "anios = np.arange(2005, 2025)"
   ]
  },
  {
   "cell_type": "code",
   "execution_count": null,
   "id": "63e8882e",
   "metadata": {},
   "outputs": [],
   "source": [
    "# Creamos un DataFrame con todas las combinaciones posibles de personas y años\n",
    "panel = pd.DataFrame([(persona, anio) for persona in personas for anio in anios], \n",
    "                     columns=['id_persona', 'anio'])"
   ]
  },
  {
   "cell_type": "code",
   "execution_count": null,
   "id": "f6a6d0e5",
   "metadata": {},
   "outputs": [],
   "source": [
    "# Generamos edades aleatorias entre 18 y 64 años para cada observación\n",
    "panel['edad'] = np.random.randint(18, 65, size=len(panel))"
   ]
  },
  {
   "cell_type": "code",
   "execution_count": null,
   "id": "41c2dd5a",
   "metadata": {},
   "outputs": [],
   "source": [
    "# Generamos alturas aleatorias con una distribución normal, media de 170cm y desviación estándar de 10cm\n",
    "panel['altura'] = np.round(np.random.normal(170, 10, size=len(panel)), 1)"
   ]
  },
  {
   "cell_type": "code",
   "execution_count": null,
   "id": "1fb7807d",
   "metadata": {},
   "outputs": [],
   "source": [
    "# Creamos una variable dummy para secundaria completa (0 o 1), con probabilidad del 70% para el valor 1\n",
    "panel['secundaria_completa'] = np.random.choice([0, 1], size=len(panel), p=[0.3, 0.7])"
   ]
  },
  {
   "cell_type": "code",
   "execution_count": null,
   "id": "6f7ec339",
   "metadata": {},
   "outputs": [],
   "source": [
    "# Generamos salarios aleatorios siguiendo una distribución normal con media de 60,000 y desviación estándar de 15,000\n",
    "panel['salario'] = np.round(np.random.normal(60000, 15000, size=len(panel)), 2)"
   ]
  },
  {
   "cell_type": "code",
   "execution_count": null,
   "id": "d5db3249-538f-4098-90ac-69e8baa7ccbd",
   "metadata": {},
   "outputs": [],
   "source": [
    "panel.shape"
   ]
  },
  {
   "cell_type": "code",
   "execution_count": null,
   "id": "c74e3a7d-d18f-4b06-96ce-2c1fa1cf7630",
   "metadata": {},
   "outputs": [],
   "source": [
    "panel.info(verbose=True)"
   ]
  },
  {
   "cell_type": "markdown",
   "id": "80799d35-afb7-4622-a30e-e5bb0330efe7",
   "metadata": {},
   "source": [
    "#### Simulamos los valores faltantes (NaN)"
   ]
  },
  {
   "cell_type": "code",
   "execution_count": null,
   "id": "4b572ddb",
   "metadata": {
    "lines_to_next_cell": 2
   },
   "outputs": [],
   "source": [
    "# Introducimos valores faltantes (NaN) en cada columna, según los porcentajes especificados\n",
    "for col, prop in {'edad': 0.10, 'altura': 0.23, 'secundaria_completa': 0.05, 'salario': 0.30}.items():\n",
    "    # Calculamos la cantidad de valores faltantes a introducir en la columna actual\n",
    "    n_missing = int(np.floor(prop * len(panel)))\n",
    "    # Seleccionamos índices aleatorios donde insertaremos los valores faltantes\n",
    "    missing_indices = np.random.choice(panel.index, size=n_missing, replace=False)\n",
    "    # Asignamos valores faltantes (NaN) a los índices seleccionados en la columna actual\n",
    "    panel.loc[missing_indices, col] = np.nan"
   ]
  },
  {
   "cell_type": "markdown",
   "id": "6d3b5abc-46c9-4470-96c4-68f55e255a0c",
   "metadata": {},
   "source": [
    "#### Base de datos \"raw\""
   ]
  },
  {
   "cell_type": "markdown",
   "id": "91fcfde1-33fa-4ed6-b146-f87048dc9b02",
   "metadata": {},
   "source": [
    "Ahora, recuerden lo que vimos en tutoriales para inspeccionar la base de datos"
   ]
  },
  {
   "cell_type": "code",
   "execution_count": null,
   "id": "a4c2bf40-4bd3-4e65-ad6a-5f8fed62e22d",
   "metadata": {},
   "outputs": [],
   "source": [
    "# Visualizamos los datos\n",
    "panel.sample(10)"
   ]
  },
  {
   "cell_type": "code",
   "execution_count": null,
   "id": "eab29d5d-8cc3-4f5f-8b25-30f0a84cfd59",
   "metadata": {},
   "outputs": [],
   "source": [
    "panel.info(verbose = True) #con esto, ya podemos ver la canrisas de valores no nulos por variable"
   ]
  },
  {
   "cell_type": "markdown",
   "id": "3e66c1b4-dd28-4c79-8f83-2eff9e228622",
   "metadata": {},
   "source": [
    "Veamos la estadistica descriptiva de la base de datos raw"
   ]
  },
  {
   "cell_type": "code",
   "execution_count": null,
   "id": "4bb2ceca-37ea-4060-b3a1-61e10238d3d9",
   "metadata": {},
   "outputs": [],
   "source": [
    "panel.describe().round(2)"
   ]
  },
  {
   "cell_type": "markdown",
   "id": "cab8e14a-9938-414a-a20a-06ce084ceb57",
   "metadata": {},
   "source": [
    "### Paso 2: Contabilizamos y visualizamos los NaN"
   ]
  },
  {
   "cell_type": "code",
   "execution_count": null,
   "id": "312e1245",
   "metadata": {},
   "outputs": [],
   "source": [
    "# Calcular el porcentaje de datos no nulos por año\n",
    "percentage_data = panel.groupby('anio').apply(lambda x: x.notnull().mean() * 100)"
   ]
  },
  {
   "cell_type": "code",
   "execution_count": null,
   "id": "45ede99a",
   "metadata": {},
   "outputs": [],
   "source": [
    "# Eliminar las columnas innecesarias antes de graficar\n",
    "percentage_data = percentage_data.drop(columns=['anio'])  # Eliminar 'anio' del DataFrame calculado"
   ]
  },
  {
   "cell_type": "code",
   "execution_count": null,
   "id": "0bd0ed03",
   "metadata": {},
   "outputs": [],
   "source": [
    "# Crear el heatmap sin etiquetas en las celdas\n",
    "plt.figure(figsize=(12, 8))\n",
    "sns.heatmap(percentage_data.T, annot=False, cmap=\"coolwarm_r\",cbar_kws={'label': 'Porcentaje de datos no-nulos'})\n",
    "plt.title(\"Figura 1. Porcentaje de información disponible por año\")\n",
    "plt.xlabel(\"Año\")\n",
    "plt.xticks(rotation=45, ha='right')\n",
    "plt.ylabel(\"Variables\")\n",
    "plt.yticks(rotation=0)\n",
    "plt.show()"
   ]
  },
  {
   "cell_type": "code",
   "execution_count": null,
   "id": "43dd1754-72a0-4423-8f6d-b4f9fc9582c3",
   "metadata": {},
   "outputs": [],
   "source": []
  }
 ],
 "metadata": {
  "jupytext": {
   "cell_metadata_filter": "-all",
   "encoding": "# -*- coding: utf-8 -*-",
   "executable": "/usr/bin/env python3",
   "main_language": "python",
   "notebook_metadata_filter": "-all"
  },
  "kernelspec": {
   "display_name": "Python [conda env:base] *",
   "language": "python",
   "name": "conda-base-py"
  },
  "language_info": {
   "codemirror_mode": {
    "name": "ipython",
    "version": 3
   },
   "file_extension": ".py",
   "mimetype": "text/x-python",
   "name": "python",
   "nbconvert_exporter": "python",
   "pygments_lexer": "ipython3",
   "version": "3.12.4"
  }
 },
 "nbformat": 4,
 "nbformat_minor": 5
}
