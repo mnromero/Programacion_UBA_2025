{
 "cells": [
  {
   "cell_type": "markdown",
   "metadata": {},
   "source": [
    "# Big Data y Machine Learning (UBA) - 2025\n",
    "## Clase 2: Introducción a Python II\n",
    "\n",
    "El objetivo de esta clase es continuar conociendo cómo trabajar en Python\n",
    "* Funciones\n",
    "* Manejo de errores\n",
    "* Módulos\n",
    "* Importar/exportar distintos tipos de archivos\n",
    "* Breve introducción a **pandas** para mandejo de base de datos"
   ]
  },
  {
   "cell_type": "markdown",
   "metadata": {},
   "source": [
    "## Funciones \n",
    "\n",
    "Las funciones permiten definir un bloque de código reutilizable que se puede ejecutar muchas veces dentro de un programa. \n",
    "Sirven para modularizar el código, hacerlo más reutilizable y fácil de leer, corregir y mantener.\n",
    "\n",
    "Las funciones toman argumentos (inputs) y devuelven (o no) outputs.\n",
    "\n",
    "Para crear una función comenzamos con 'def', luego un nombre para la función, luego entre ( ) ponemos los argumentos o parámetros y finalmente ':'\n",
    "\n",
    "<img src=\"https://media.geeksforgeeks.org/wp-content/uploads/20220721172423/51.png\" />"
   ]
  },
  {
   "cell_type": "code",
   "execution_count": null,
   "metadata": {},
   "outputs": [],
   "source": [
    "def pbi_per_capita(pbi_millones, pob_millones):\n",
    "    pbi_pc = round(pbi_millones/pob_millones) # Hay que respetar la sangría\n",
    "    return pbi_pc"
   ]
  },
  {
   "cell_type": "code",
   "execution_count": null,
   "metadata": {},
   "outputs": [],
   "source": [
    "bra_carac = {'cod':'BRA', 'pob_millones':211, 'pbi_millones':1810612}\n",
    "chl_carac = {'cod':'CHL', 'pob_millones':18.9, 'pbi_millones':352664}\n",
    "pry_carac = {'cod':'PRY', 'pob_millones':7, 'pbi_millones':39197}\n",
    "ury_carac = {'cod':'URY', 'pob_millones':3.4, 'pbi_millones':63741}"
   ]
  },
  {
   "cell_type": "markdown",
   "metadata": {},
   "source": [
    "Para usar una función, escribimos el nombre y entre ( ) ponemos los argumentos"
   ]
  },
  {
   "cell_type": "code",
   "execution_count": null,
   "metadata": {},
   "outputs": [],
   "source": [
    "pbi_per_capita(63741, 3.4)"
   ]
  },
  {
   "cell_type": "code",
   "execution_count": null,
   "metadata": {},
   "outputs": [],
   "source": [
    "# Para el caso de Uruguay podríamos calcular el PBI de disntas formas:\n",
    "print(pbi_per_capita(63741, 3.4)) # si no se indica el nombre del argumento, respetar el orden en que se definieron\n",
    "print(pbi_per_capita(pob_millones=3.4, pbi_millones=63741)) # si se aclara el nombre del argumento, el orden es indistinto\n",
    "print(pbi_per_capita(pbi_millones=63741, pob_millones=3.4)) \n",
    "print(pbi_per_capita(ury_carac['pbi_millones'], ury_carac['pob_millones']))"
   ]
  },
  {
   "cell_type": "markdown",
   "metadata": {},
   "source": [
    "Los argumentos de las funciones pueden tener un valor predefinido (por defecto) o no.\n",
    "\n",
    "Los argumentos que no tienen un valor predefinido se llaman **argumentos posicionales**, mientras que los que sí tienen un valor predefinido se llaman **argumentos por nombre**. \n",
    "Un punto importante a la hora de definir la función es que si para algún atributo queremos poner un valor por defecto, este debe presentarse luego de los atributos que estén si un valor predefinido"
   ]
  },
  {
   "cell_type": "code",
   "execution_count": null,
   "metadata": {},
   "outputs": [],
   "source": [
    "def pbi_per_capita(pbi, pob, pbi_mm = False): # pbi y pob son argum. posicionales mientras que pbi_mm es un argum. por nombre\n",
    "    if pbi_mm == True: # equivale a if pbi_mm == True :\n",
    "        pbi_pc = round(pbi*1000/pob)\n",
    "    else:\n",
    "        pbi_pc = round(pbi/pob)\n",
    "    return pbi_pc"
   ]
  },
  {
   "cell_type": "code",
   "execution_count": null,
   "metadata": {},
   "outputs": [],
   "source": [
    "print(pbi_per_capita(1810612, 211)) # pbi_mm = False\n",
    "print(pbi_per_capita(1810.612, 211, pbi_mm=True))\n",
    "print(pbi_per_capita(pob=211, pbi=1810612))\n",
    "print(pbi_per_capita(1810.612, 211, True))"
   ]
  },
  {
   "cell_type": "markdown",
   "metadata": {},
   "source": [
    "Los valores predefinidos generan que a veces no sea suficiente con especificar los valores de los atributos solo por la posición"
   ]
  },
  {
   "cell_type": "code",
   "execution_count": null,
   "metadata": {},
   "outputs": [],
   "source": [
    "def pbi_per_capita(pbi, pob, pbi_mm = False, pbi_billon = False):\n",
    "    if pbi_mm: # equivale a if pbi_mm == True :\n",
    "        pbi_pc = round(pbi*1000/pob)\n",
    "    elif pbi_billon: # equivale a if pbi_billon == True\n",
    "        pbi_pc = round(pbi*1000000/pob)\n",
    "    else:\n",
    "        pbi_pc = round(pbi/pob)\n",
    "    return pbi_pc"
   ]
  },
  {
   "cell_type": "code",
   "execution_count": null,
   "metadata": {},
   "outputs": [],
   "source": [
    "print(pbi_per_capita(1810612, 211)) #pbi_mm = False, pbi_billon = False\n",
    "print(pbi_per_capita(1810.612, 211, True, False))\n",
    "print(pbi_per_capita(1.810612, 211, pbi_billon=True)) # Como ahora hay 2 argumentos booleanos, tenemos que indicar a cuál nos referimos"
   ]
  },
  {
   "cell_type": "code",
   "execution_count": null,
   "metadata": {},
   "outputs": [],
   "source": [
    "# Notar que: \n",
    "# 1. Si invertimos el orden, el resultado cambia\n",
    "pbi_per_capita(211, 1810612)"
   ]
  },
  {
   "cell_type": "code",
   "execution_count": null,
   "metadata": {},
   "outputs": [],
   "source": [
    "# 2. Si al llamar a la función definimos los argumentos por nombre antes de los posicionales, tendremos un error\n",
    "pbi_per_capita(pbi_billon=True, 1.810612, 211)"
   ]
  },
  {
   "cell_type": "markdown",
   "metadata": {},
   "source": [
    "Un **DocString** es una de cadena de caracteres (*strings*) o varias líneas, delimitado por comillas, que aparece al comienzo de un módulo, clase, método o función y describe lo que hace la función, sirven para documentar el código.\n",
    "\n",
    "A diferencia de los comentarios, los DocStrings los definimos con comillas y podemos \"acceder\" a ellos con el método .__doc__ luego del nombre de la función/método creado.\n",
    "\n",
    "(También podemos usar los comentarios de varias lineas con las comillas)"
   ]
  },
  {
   "cell_type": "code",
   "execution_count": null,
   "metadata": {},
   "outputs": [],
   "source": [
    "def pbi_per_capita(pbi_millones, pob_millones):\n",
    "    \"\"\"\n",
    "    Esta función calcula el PBI per cápita\n",
    "    Input:\n",
    "    pbi_millones: el PBI en millones de un país 'X'\n",
    "    pob_millones: la población en millones de un país 'X'\n",
    "    Output :\n",
    "    pbi_pc: el PBI per cápita del país 'X'\n",
    "    \"\"\"\n",
    "    pbi_pc = round(pbi_millones/pob_millones)\n",
    "    return pbi_pc"
   ]
  },
  {
   "cell_type": "markdown",
   "metadata": {},
   "source": [
    "Dos formas de acceder al DocString de la función:"
   ]
  },
  {
   "cell_type": "code",
   "execution_count": null,
   "metadata": {},
   "outputs": [],
   "source": [
    "# Accedemos al Docstring\n",
    "help(pbi_per_capita)"
   ]
  },
  {
   "cell_type": "code",
   "execution_count": null,
   "metadata": {},
   "outputs": [],
   "source": [
    "# Accedemos al Docstring\n",
    "print(pbi_per_capita.__doc__)"
   ]
  },
  {
   "cell_type": "markdown",
   "metadata": {},
   "source": [
    "Vamos con otro ejemplo"
   ]
  },
  {
   "cell_type": "code",
   "execution_count": null,
   "metadata": {},
   "outputs": [],
   "source": [
    "# Definimos un diccionario con la información de algunos países\n",
    "\n",
    "bra_carac = {'cod':'BRA', 'pob_millones':211, 'pbi_millones':1810612}\n",
    "chl_carac = {'cod':'CHL', 'pob_millones':18.9, 'pbi_millones':352664}\n",
    "pry_carac = {'cod':'PRY', 'pob_millones':7, 'pbi_millones':39197}\n",
    "ury_carac = {'cod':'URY', 'pob_millones':3.4, 'pbi_millones':63741}\n",
    "\n",
    "paises_info = {'brasil':bra_carac, \n",
    "               'chile':chl_carac, \n",
    "               'paraguay':pry_carac, \n",
    "               'uruguay':ury_carac}"
   ]
  },
  {
   "cell_type": "code",
   "execution_count": null,
   "metadata": {},
   "outputs": [],
   "source": [
    "paises_info['brasil']"
   ]
  },
  {
   "cell_type": "markdown",
   "metadata": {},
   "source": [
    "Podemos usar la función pbi_per_capita para agregar ese dato para cada país del diccionario 'paises_info'. Armemos un loop"
   ]
  },
  {
   "cell_type": "code",
   "execution_count": null,
   "metadata": {
    "scrolled": true
   },
   "outputs": [],
   "source": [
    "# Recordemos algunos métodos básicos propios de los diccionarios:\n",
    "# El método keys nos devuelve una lista con las keys del diccionario\n",
    "print(paises_info.keys())\n",
    "# El método values nos devuelve una lista con los valores\n",
    "print(paises_info.values())\n",
    "# El método items nos devuelve una lista con tuplas conformadas por cada par de key y value\n",
    "print(paises_info.items())"
   ]
  },
  {
   "cell_type": "code",
   "execution_count": null,
   "metadata": {},
   "outputs": [],
   "source": [
    "print(paises_info.items())"
   ]
  },
  {
   "cell_type": "code",
   "execution_count": null,
   "metadata": {},
   "outputs": [],
   "source": [
    "for key, val in paises_info.items():\n",
    "    paises_info[key]['pbi_pc'] = pbi_per_capita(val['pbi_millones'], val['pob_millones'])\n",
    "    \n",
    "'''\n",
    "Como usamos el método items, tenemos una lista con tuplas (key, value) del diccionario. El loop itera por esa lista. \n",
    "En cada iteración el loop reemplaza: \n",
    "- key por el primer elemento de cada una de las tuplas (nombre el país) y \n",
    "- val por el segundo elemento de cada una de las tuplas (diccionario de cada país)\n",
    "'''\n",
    "\n",
    "paises_info"
   ]
  },
  {
   "cell_type": "code",
   "execution_count": null,
   "metadata": {},
   "outputs": [],
   "source": [
    "# Podemos ver qué otros métodos hay disponibles para este tipo de objeto (diccionarios) y que propiedades tienen usando dir\n",
    "paises_info.__dir__() "
   ]
  },
  {
   "cell_type": "markdown",
   "metadata": {},
   "source": [
    "Funciones: ámbito interno vs ámbito global\n",
    "\n",
    "- **Ámbito interno**: contiene las variables locales (por ejemplo, de una función)\n",
    "- **Ámbito global**: contiene las variables globales del módulo actual"
   ]
  },
  {
   "cell_type": "code",
   "execution_count": null,
   "metadata": {},
   "outputs": [],
   "source": [
    "a = 3 # a definida en ámbito global\n",
    "\n",
    "def suma_uno(numero):\n",
    "    a = numero + 1 # a definida en ámbito interno\n",
    "    print(a)"
   ]
  },
  {
   "cell_type": "code",
   "execution_count": null,
   "metadata": {},
   "outputs": [],
   "source": [
    "suma_uno(10)"
   ]
  },
  {
   "cell_type": "code",
   "execution_count": null,
   "metadata": {},
   "outputs": [],
   "source": [
    "print(a)"
   ]
  },
  {
   "cell_type": "code",
   "execution_count": null,
   "metadata": {},
   "outputs": [],
   "source": [
    "a = 49\n",
    "suma_uno(a)"
   ]
  },
  {
   "cell_type": "markdown",
   "metadata": {},
   "source": [
    "El ámbito interno de la función \"tapa\" al ámbito global (al convocar a la función la variable a que se imprime es la que definimos en el ámbito local)"
   ]
  },
  {
   "cell_type": "markdown",
   "metadata": {},
   "source": [
    "Otro ejemplo más de una función para que indaguen"
   ]
  },
  {
   "cell_type": "code",
   "execution_count": null,
   "metadata": {},
   "outputs": [],
   "source": [
    "def es_par(x):\n",
    "    string_x = str(x)\n",
    "    if x % 2 == 0:\n",
    "        frase_par = \"El número \" + string_x + \" es Par\"\n",
    "        print(frase_par)\n",
    "    else:\n",
    "        frase_impar = \"El número \" + string_x + \" es Impar\"\n",
    "        print(frase_impar)\n",
    "           \n",
    "es_par(3)"
   ]
  },
  {
   "cell_type": "markdown",
   "metadata": {},
   "source": [
    "## Manejo de errores\n",
    "\n",
    "Al momento de aprender, cometer errores e ir viendo los motivos por los cuales surgieron nos ayuda a entender mejor cómo funciona Python\n",
    "\n",
    "Los `print()` son útiles para esto"
   ]
  },
  {
   "cell_type": "code",
   "execution_count": null,
   "metadata": {},
   "outputs": [],
   "source": [
    "def suma_uno(lista):\n",
    "    for elem in lista:\n",
    "        elem + 1"
   ]
  },
  {
   "cell_type": "code",
   "execution_count": null,
   "metadata": {},
   "outputs": [],
   "source": [
    "mi_lista = [1, 2, 'a']\n",
    "suma_uno(mi_lista) # vemos que el error es que intentamos concatenar un número (int)"
   ]
  },
  {
   "cell_type": "code",
   "execution_count": null,
   "metadata": {},
   "outputs": [],
   "source": [
    "def suma_uno(lista, depurar=False):\n",
    "    for elem in lista:\n",
    "        if depurar:\n",
    "            print('item:', elem, 'tipo:', type(elem))\n",
    "        elem + 1"
   ]
  },
  {
   "cell_type": "code",
   "execution_count": null,
   "metadata": {},
   "outputs": [],
   "source": [
    "suma_uno(mi_lista, depurar=True)"
   ]
  },
  {
   "cell_type": "markdown",
   "metadata": {},
   "source": [
    "Hay algunos mecanismos para actuar cuando hay un comportamiento erróneo o inesperado.\n",
    "Para esto, se utiliza la declaración `try`/`except`"
   ]
  },
  {
   "cell_type": "code",
   "execution_count": null,
   "metadata": {},
   "outputs": [],
   "source": [
    "def suma_uno(lista):\n",
    "    for elem in lista:\n",
    "        try:\n",
    "            print(elem + 1)\n",
    "        except:\n",
    "            print('No se puede sumar', elem, 'con 1')"
   ]
  },
  {
   "cell_type": "code",
   "execution_count": null,
   "metadata": {},
   "outputs": [],
   "source": [
    "mi_lista = [1, 2, 'a', 4, 5]\n",
    "suma_uno(mi_lista)"
   ]
  },
  {
   "cell_type": "markdown",
   "metadata": {},
   "source": [
    "# Módulos\n",
    "\n",
    "Un módulo es un archivo de Python (con extensión .py) que puede contener definiciones de funciones o sentencias ejecutables, y puede ser *importado* desde otros módulos o desde una sesión interactiva (y en particular, desde una sesión de Jupyter).\n",
    "\n",
    "Un módulo puede ser escrito por el usuario, y también pueden utilizarse módulos escritos por otras personas (instalándolos previamente).\n",
    "\n",
    "Permiten ampliar las funcionalidades nativas de Python y también almacenar código que uno puede querer reutilizar en el futuro (un Jupyter Notebook también permite esto último, pero los notebooks no son importables de manera directa). Así, ayudan a organizar el código y evitar repetición."
   ]
  },
  {
   "cell_type": "markdown",
   "metadata": {},
   "source": [
    "Python se distribuye con una *biblioteca estándar* preinstalada. Esta biblioteca contiene un conjunto muy amplio de paquetes para resolver problemas usuales en programación. \n",
    "\n",
    "Algunos de estos paquetes son:\n",
    "- `math`: para funciones matemáticas\n",
    "- `os`: para acceder a funcionalidades del sistema operativo\n",
    "- `csv`: para manejo de archivos tabulares separados por comas\n",
    "\n",
    "La lista completa se puede consultar acá: https://docs.python.org/es/3/library/index.html"
   ]
  },
  {
   "cell_type": "markdown",
   "metadata": {},
   "source": [
    "### ¿Cómo importamos un módulo?\n",
    "\n",
    "Usando la palabra `import` seguida del nombre del módulo (que es el nombre del archivo sin la extensión .py). Por ejemplo, importemos el módulo math de la biblioteca estándar"
   ]
  },
  {
   "cell_type": "code",
   "execution_count": null,
   "metadata": {},
   "outputs": [],
   "source": [
    "import math"
   ]
  },
  {
   "cell_type": "markdown",
   "metadata": {},
   "source": [
    "Ahora podemos usar el módulo de esta forma:"
   ]
  },
  {
   "cell_type": "code",
   "execution_count": null,
   "metadata": {},
   "outputs": [],
   "source": [
    "# log devuelve el logaritmo natural de un número\n",
    "print(math.log(2.7183))\n",
    "print(math.log(1))"
   ]
  },
  {
   "cell_type": "markdown",
   "metadata": {},
   "source": [
    "Podemos importar otros módulos. Vamos ahora con el módulo os, también de la biblioteca estándar de Python"
   ]
  },
  {
   "cell_type": "code",
   "execution_count": null,
   "metadata": {},
   "outputs": [],
   "source": [
    "import os # Entre otras cosas, este módulo nos permite manipular rutas"
   ]
  },
  {
   "cell_type": "code",
   "execution_count": null,
   "metadata": {},
   "outputs": [],
   "source": [
    "# Veamos nuestro directorio actual\n",
    "print(os.getcwd())"
   ]
  },
  {
   "cell_type": "code",
   "execution_count": null,
   "metadata": {},
   "outputs": [],
   "source": [
    "# Podemos modificar el directorio a otra carpeta: \n",
    "os.chdir(\"/Users/mnromero/Dropbox/COURSES/\") # Para Windows, usar \\, completar aqui su direccion. \n",
    "print(os.getcwd())"
   ]
  },
  {
   "cell_type": "code",
   "execution_count": null,
   "metadata": {},
   "outputs": [],
   "source": [
    "# Vuelvo a mi carpeta de esta clase\n",
    "os.chdir(\"/Users/mnromero/Dropbox/COURSES/2025 - S2 - Big Data y Machines Learning (UBA)/Clases/Clase 02 Visualizacion II_Hist & Kernels/Clase2_P0_Funciones & Carga de Datos\") \n",
    "print(os.getcwd())"
   ]
  },
  {
   "cell_type": "markdown",
   "metadata": {},
   "source": [
    "Notar que por la forma en la que importamos el módulo, si queremos usar un **atributo** o **función** del módulo tenemos que cumplir este formato:\n",
    "\n",
    "`<modulo>.<atributo>`\n",
    "\n",
    "Pero hay otra forma de importar, que es usando la sintaxis `from <modulo> import <atributo>`. Con esta forma, solo importamos especificamente dicha función y no podremos acceder a todas las demás funciones del módulo. Esto puede ser conveniente para librerias que son muy pesadas con muchas funciones. \n",
    "\n",
    "Veamos un ejemplo:"
   ]
  },
  {
   "cell_type": "code",
   "execution_count": null,
   "metadata": {},
   "outputs": [],
   "source": [
    "from os import getcwd\n",
    "\n",
    "getcwd()"
   ]
  },
  {
   "cell_type": "code",
   "execution_count": null,
   "metadata": {},
   "outputs": [],
   "source": [
    "# Otro ejemplo\n",
    "\n",
    "from math import log"
   ]
  },
  {
   "cell_type": "markdown",
   "metadata": {},
   "source": [
    "Es decir, de esta manera no necesitamos usar el nombre del módulo (math) para acceder a su atributo (log)."
   ]
  },
  {
   "cell_type": "code",
   "execution_count": null,
   "metadata": {},
   "outputs": [],
   "source": [
    "print(log(2.7183))\n",
    "print(log(1))"
   ]
  },
  {
   "cell_type": "markdown",
   "metadata": {},
   "source": [
    "También se puede usar un alias para el atributo, de la forma `from <modulo> import <atributo> as <alias>`"
   ]
  },
  {
   "cell_type": "code",
   "execution_count": null,
   "metadata": {},
   "outputs": [],
   "source": [
    "from math import log as ln"
   ]
  },
  {
   "cell_type": "code",
   "execution_count": null,
   "metadata": {},
   "outputs": [],
   "source": [
    "print(ln(2.7183))\n",
    "print(ln(1))"
   ]
  },
  {
   "cell_type": "markdown",
   "metadata": {},
   "source": [
    "## Importar/Exportar distintos tipos de archivos \n",
    "\n",
    "### Importar/Exportar un `.csv`"
   ]
  },
  {
   "cell_type": "markdown",
   "metadata": {},
   "source": [
    "El módulo `csv` nos sera de gran utilidad para imporar bases de datos de extensión *.csv*. Para ello, primero debemos importar el modulo `csv` (como importamos los modulos anteriores), luego podemos importar o exportar dicho tipo de archivos."
   ]
  },
  {
   "cell_type": "code",
   "execution_count": null,
   "metadata": {},
   "outputs": [],
   "source": [
    "import csv"
   ]
  },
  {
   "cell_type": "code",
   "execution_count": null,
   "metadata": {},
   "outputs": [],
   "source": [
    "with open(\"ejemplo.csv\", 'r') as file:\n",
    "    archivo = csv.reader(file)\n",
    "    for row in archivo:\n",
    "        print(row)"
   ]
  },
  {
   "cell_type": "code",
   "execution_count": null,
   "metadata": {},
   "outputs": [],
   "source": [
    "from csv import reader, writer # Podemos importar más de un atributo de un módulo a la vez\n",
    "\n",
    "with open(\"ejemplo.csv\", 'r') as file:\n",
    "    archivo = reader(file)\n",
    "    for row in archivo:\n",
    "        print(row)"
   ]
  },
  {
   "cell_type": "markdown",
   "metadata": {},
   "source": [
    "### Importar/Exportar archivos `.txt`\n",
    "\n",
    "La función `open()` nos permite leer un archivo, mientras que la funcion `write()` nos permite escribir un archivo desde Jupyter Notebook."
   ]
  },
  {
   "cell_type": "code",
   "execution_count": null,
   "metadata": {},
   "outputs": [],
   "source": [
    "f = open(\"archivo.txt\", \"w\") # write (sobreescribe)\n",
    "f.write(\"Escribimos las primeras palabras en el archivo. \\n\")\n",
    "f.close()"
   ]
  },
  {
   "cell_type": "code",
   "execution_count": null,
   "metadata": {},
   "outputs": [],
   "source": [
    "f = open(\"archivo.txt\", \"a\") # append (agrega al final)\n",
    "f.write(\"Luego, estas palabras se agregarán al final del archivo.\")\n",
    "f.close()\n"
   ]
  },
  {
   "cell_type": "code",
   "execution_count": null,
   "metadata": {},
   "outputs": [],
   "source": [
    "f = open(\"archivo.txt\", \"a\") # append (agrega al final)\n",
    "f.write(\"Luego, estas palabras se agregarán al final del archivo.\")\n",
    "f.close()"
   ]
  },
  {
   "cell_type": "code",
   "execution_count": null,
   "metadata": {},
   "outputs": [],
   "source": [
    "f = open(\"archivo.txt\")\n",
    "print(f.read())\n",
    "\n",
    "f.close() # es importante cerrarlo!"
   ]
  },
  {
   "cell_type": "markdown",
   "metadata": {},
   "source": [
    "##  Instalación e introducción a Pandas\n",
    "\n",
    "Hasta acá, trabajamos con módulos que están en la biblioteca estándar de Python. Pero hay muchos otros.\n",
    "\n",
    "Para poder seguir esta clase a la par, con la consola o un Jupyter Notebook, por favor, como primer paso instalen la librería **pandas**.\n",
    "\n",
    "**Pandas** es la librería más usada para manejo de datos, que nos permitirá trabajar con datos en formato estructurados (en la jerga de Python estos datos estructurados se les llama *dataframes*). Es decir con tablas de datos como las que estamos acostumbrados a trabajar en Excel o Stata, que contienen la información organizada en filas y columnas. Este mismo módulo también permite importar y exportar bases de datos con distintas extensiones. Tanto como *.csv* y *.txt* como vimos arriba, como otros formatos como *.dta* (de Stata) o *.parquet* (más info abajo)\n",
    "\n",
    "En esta clase vamos a usarla para:\n",
    "- importar/exportar archivos de distintos formatos\n",
    "- exportar la tablas de datos (*dataframes*)\n"
   ]
  },
  {
   "cell_type": "markdown",
   "metadata": {},
   "source": [
    "En la consola de Anaconda (Anaconda prompt), abran una nueva consola y escriban:\n",
    "\n",
    "`pip install pandas`\n"
   ]
  },
  {
   "cell_type": "markdown",
   "metadata": {},
   "source": [
    "Otra opción es: en el Jupyter Notebook:"
   ]
  },
  {
   "cell_type": "code",
   "execution_count": null,
   "metadata": {},
   "outputs": [],
   "source": [
    "pip install pandas"
   ]
  },
  {
   "cell_type": "code",
   "execution_count": null,
   "metadata": {},
   "outputs": [],
   "source": [
    "# Alternativa para instalar si no funciona pip\n",
    "import sys\n",
    "!{sys.executable} -m pip install pandas"
   ]
  },
  {
   "cell_type": "markdown",
   "metadata": {},
   "source": [
    "### Importar pandas\n",
    "Por convención:\n",
    "- pandas se importa con el alias `'pd'`"
   ]
  },
  {
   "cell_type": "code",
   "execution_count": null,
   "metadata": {},
   "outputs": [],
   "source": [
    "import pandas as pd "
   ]
  },
  {
   "cell_type": "markdown",
   "metadata": {},
   "source": [
    "### Abrir un DataFrame \n",
    "\n",
    "Primer paso. Abrimos un archivo. Ya vimos una forma de abrir txt, ahora vamos a abrir una tabla con Pandas\n",
    "\n",
    "Por convención:\n",
    "- la base importada se refiere como dataframe y se abrevia `'df'` (abreviación de *DataFrame*)\n",
    "\n",
    "Pandas tiene funciones para abrir muchos tipos de archivos estructurados. Algunos ejemplos son:\n",
    "- `pd.read_excel()`\n",
    "- `pd.read_csv()`\n",
    "- `pd.read_stata()`\n",
    "- `pd.read_spss()`\n",
    "- `pd.read_parquet()`"
   ]
  },
  {
   "cell_type": "markdown",
   "metadata": {},
   "source": [
    "### Importamos un Excel"
   ]
  },
  {
   "cell_type": "code",
   "execution_count": null,
   "metadata": {},
   "outputs": [],
   "source": [
    "#!pip install openpyxl  # para trabajar con excel debemos antes instalar esta dependencia"
   ]
  },
  {
   "cell_type": "code",
   "execution_count": null,
   "metadata": {},
   "outputs": [],
   "source": [
    "pd.read_excel('ejemplo.xlsx')"
   ]
  },
  {
   "cell_type": "markdown",
   "metadata": {},
   "source": [
    "Por default, Pandas abre la primera hoja del archivo (esté visible o escondida). Para indicar otra hoja:"
   ]
  },
  {
   "cell_type": "code",
   "execution_count": null,
   "metadata": {},
   "outputs": [],
   "source": [
    "pd.read_excel('ejemplo.xlsx', sheet_name = 'ejemplo')"
   ]
  },
  {
   "cell_type": "markdown",
   "metadata": {},
   "source": [
    "Ahora, esa función abre el archivo pero no lo guarda en memoria. Para eso, hay que asignarle un nombre de variable:"
   ]
  },
  {
   "cell_type": "code",
   "execution_count": null,
   "metadata": {},
   "outputs": [],
   "source": [
    "df = pd.read_excel('ejemplo.xlsx', sheet_name = 'ejemplo')"
   ]
  },
  {
   "cell_type": "code",
   "execution_count": null,
   "metadata": {},
   "outputs": [],
   "source": [
    "df"
   ]
  },
  {
   "cell_type": "code",
   "execution_count": null,
   "metadata": {},
   "outputs": [],
   "source": [
    "df.head(3)\n"
   ]
  },
  {
   "cell_type": "code",
   "execution_count": null,
   "metadata": {},
   "outputs": [],
   "source": [
    "df.tail(3)"
   ]
  },
  {
   "cell_type": "markdown",
   "metadata": {},
   "source": [
    "### Importamos un .csv\n",
    "Abrir un *.csv* es prácticamente lo mismo:"
   ]
  },
  {
   "cell_type": "code",
   "execution_count": null,
   "metadata": {},
   "outputs": [],
   "source": [
    "df = pd.read_csv('ejemplo.csv')\n",
    "df"
   ]
  },
  {
   "cell_type": "markdown",
   "metadata": {},
   "source": [
    "Al abrir un csv, python intenta inferir el separador. El separador es el símbolo que separa los valores: \",\", \";\", etc. Si hay algún inconveniente se puede especificar el separador con sep:\n",
    "\n",
    "(Pueden ver la documentación de la función en este enlace: https://pandas.pydata.org/docs/reference/api/pandas.read_csv.html)"
   ]
  },
  {
   "cell_type": "code",
   "execution_count": null,
   "metadata": {},
   "outputs": [],
   "source": [
    "df = pd.read_csv('ejemplo.csv', sep = ';')\n",
    "df\n"
   ]
  },
  {
   "cell_type": "markdown",
   "metadata": {},
   "source": [
    "### Importamos un archivo .dta (de Stata)\n",
    "Abrir un archivo de *Stata* es similar"
   ]
  },
  {
   "cell_type": "code",
   "execution_count": null,
   "metadata": {},
   "outputs": [],
   "source": [
    "df = pd.read_stata('ejemplo.dta')\n",
    "df"
   ]
  },
  {
   "cell_type": "markdown",
   "metadata": {},
   "source": [
    "### Importamos un archivo `'.parquet'`\n",
    "\n",
    "**Parquet** es un formato de almacenamiento columnar optimizado para análisis de datos.\n",
    "A diferencia de formatos como CSV, que guardan la información fila por fila, Parquet almacena los datos columna por columna ([para mas info ver este blog en inglés](https://last9.io/blog/parquet-vs-csv/)), lo que:\n",
    "- Reduce el tamaño en disco gracias a la compresión eficiente.\n",
    "- Acelera la lectura de columnas específicas.\n",
    "- Facilita el trabajo con grandes volúmenes de datos en entornos como **pandas**, **Spark** [link](https://gravitar.biz/datawarehouse/apache-parquet) o **Dask**.\n",
    "\n",
    "En Python, librerías como **PyArrow** o **fastparquet** permiten leer y escribir archivos `.parquet` desde un DataFrame de forma rápida y con compatibilidad entre distintos lenguajes y plataformas."
   ]
  },
  {
   "cell_type": "code",
   "execution_count": null,
   "metadata": {},
   "outputs": [],
   "source": [
    "df = pd.read_parquet('ejemplo.parquet')\n",
    "df"
   ]
  },
  {
   "cell_type": "markdown",
   "metadata": {},
   "source": [
    "###  Explorar los datos\n",
    "\n",
    "¿Cómo exploramos los datos que importamos? Hay muchas maneras.\n",
    "Primero veamos las funciones de pandas que sirven para hacer una inspección general y una primera visualización de los datos importados:\n",
    "\n",
    "- `df.head(N)`: nos muestra las primeras N líneas\n",
    "- `df.tail(N)`: nos muestra las últimas N líneas\n",
    "- `df.sample(N)`: muestra aleatoria de N líneas"
   ]
  },
  {
   "cell_type": "code",
   "execution_count": null,
   "metadata": {},
   "outputs": [],
   "source": [
    "df.head(3) # imprime nombres de las columnas y las 3 primeras lineas"
   ]
  },
  {
   "cell_type": "code",
   "execution_count": null,
   "metadata": {},
   "outputs": [],
   "source": [
    "df.tail(3) # igual que head pero empieza desde el fondo"
   ]
  },
  {
   "cell_type": "code",
   "execution_count": null,
   "metadata": {},
   "outputs": [],
   "source": [
    "df.sample(5) # muestra aleatoria de n=5"
   ]
  },
  {
   "cell_type": "markdown",
   "metadata": {},
   "source": [
    "### Crear un DataFrame"
   ]
  },
  {
   "cell_type": "code",
   "execution_count": null,
   "metadata": {},
   "outputs": [],
   "source": [
    "# Creamos el df\n",
    "df_estud = pd.DataFrame({'Apellido':['García', 'Rucci', 'López'],\n",
    "                         'Curso':['Big Data', 'Big Data', 'Big Data'],\n",
    "                         'Grupo':[1, 3, 2]})\n",
    " \n",
    "# Creamos el índice\n",
    "index_ = ['Row_1', 'Row_2', 'Row_3']\n",
    " \n",
    "# Seteamos el índice\n",
    "df_estud.index = index_\n",
    "\n",
    "print(df_estud)\n",
    "df_estud # Notar que en este caso sí se ve el 'formato/estilo' de Pandas"
   ]
  },
  {
   "cell_type": "markdown",
   "metadata": {},
   "source": [
    "### Exportar un DataFrame \n",
    "\n",
    "Exportar un `df` también es sencillo con pandas. Dos opciones comunes:\n",
    "- `df.to_excel()`\n",
    "- `df.to_csv()`\n",
    "- `df.to_parquet()`\n",
    "\n",
    "Por default, el dataframe exportado se guardará en directorio en el que se está trabajando, con el nombre de archivo que especifiquemos."
   ]
  },
  {
   "cell_type": "code",
   "execution_count": null,
   "metadata": {},
   "outputs": [],
   "source": [
    "df.to_excel(\"exportar_ejemplo.xlsx\", index = False)"
   ]
  },
  {
   "cell_type": "code",
   "execution_count": null,
   "metadata": {},
   "outputs": [],
   "source": [
    "df_estud.to_parquet(\"export_parquet.parquet\", index = False)"
   ]
  },
  {
   "cell_type": "markdown",
   "metadata": {},
   "source": [
    "## Algunos ejercicios"
   ]
  },
  {
   "cell_type": "markdown",
   "metadata": {},
   "source": [
    "1. Escribir una función llamada 'saludar' que toma como argumento el nombre de una persona e imprime el saludo \"Hola, (nombre)!\""
   ]
  },
  {
   "cell_type": "markdown",
   "metadata": {},
   "source": [
    "2. Ahora modificar la función del ejercicio anterior tal que tenga el argumento de nombre predefinido. \n",
    "Si no se define un nombre debería imprimir \"Hola, amigo\".\n"
   ]
  },
  {
   "cell_type": "markdown",
   "metadata": {},
   "source": [
    "3. Escribir una función llamada 'calcular_area' que toma los parámetros de base y altura de un rectángulo y devuelve el área."
   ]
  },
  {
   "cell_type": "markdown",
   "metadata": {},
   "source": [
    "4. Escribir una función 'sumar_nros' que toma como argumentos dos números y devuelve su suma. Incluir un docstring que describe qué hace la función.\n"
   ]
  },
  {
   "cell_type": "markdown",
   "metadata": {},
   "source": [
    "5. Escribir una función llamada 'ver_info' que toma dos argumentos, nombre y edad, e imprime un mensaje de la forma: \"Nombre: (nombre) Edad: (edad)\"."
   ]
  },
  {
   "cell_type": "markdown",
   "metadata": {},
   "source": [
    "6. Modificar la función del ejercicio anterior para que tenga valores por default para nombre y edad. \n",
    "Si no se especifica un valor, la función debería imprimir \"Nombre: Desconocido, Edad: Desconocida\"."
   ]
  },
  {
   "cell_type": "markdown",
   "metadata": {},
   "source": [
    "Ahora veamos un ejercicio cuando la cantidad de parámetros de la función no es fija\n",
    "\n",
    "7. Escribir una función llamada 'equipo' que tome una cantidad variable de argumentos (nombres de los miembros de un equipo) e imprima 'Hola, (miembro)'\n",
    "\n",
    "Ayuda: El símbolo * permite indicar que habrá un número variable de argumentos posicionales para la función.\n",
    "Se usa el asterisco antes del nombre del parámetro (sería: ``def funcion(*args):`` )\n",
    "Esto se usa para evitar errores en el código cuando no sabemos cuántos argumentos se pasarán a la función. "
   ]
  },
  {
   "cell_type": "markdown",
   "metadata": {},
   "source": [
    "Ahora veamos un ejercicio cuando la cantidad de parámetros de la función no es fija y podemos definirlos por su nombre\n",
    "\n",
    "8. Crear una nueva función llamada 'equipo' que permita pasar parámetros con distintos nombres e imprima el nombre de cada parámetro y su valor\n",
    "\n",
    "Ayuda: Con doble asterisco ** podemos indicar que habrá un **número variable de argumentos por nombre** (keyword) en la función.\n",
    "Se usa el asterisco antes del nombre del parámetro (sería: ``def funcion(**kwargs)``: )\n",
    "En este caso los argumentos se pasan como un diccionario, los argumentos conforman un diccionario dentro de la función"
   ]
  },
  {
   "cell_type": "code",
   "execution_count": null,
   "metadata": {},
   "outputs": [],
   "source": []
  }
 ],
 "metadata": {
  "kernelspec": {
   "display_name": "Python [conda env:base] *",
   "language": "python",
   "name": "conda-base-py"
  },
  "language_info": {
   "codemirror_mode": {
    "name": "ipython",
    "version": 3
   },
   "file_extension": ".py",
   "mimetype": "text/x-python",
   "name": "python",
   "nbconvert_exporter": "python",
   "pygments_lexer": "ipython3",
   "version": "3.12.4"
  }
 },
 "nbformat": 4,
 "nbformat_minor": 4
}
