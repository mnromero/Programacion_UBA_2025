{
 "cells": [
  {
   "cell_type": "markdown",
   "metadata": {
    "id": "FjZT3QZcKOuf"
   },
   "source": [
    "# Big Data y Machine Learning (UBA) 2025\n",
    "## Clase 2 - Parte 2\n",
    "\n",
    "El objetivo es graficar con matplotlib."
   ]
  },
  {
   "cell_type": "markdown",
   "metadata": {},
   "source": [
    "## Matplotlib\n",
    "**Matplotlib** es la librería base de graficación, sobre la cual se montan otras librerías. Dentro de Matplotlib, usamos la dependencia \"pyplot\" que se instala con la librería. Por convención importamos así:"
   ]
  },
  {
   "cell_type": "code",
   "execution_count": null,
   "metadata": {},
   "outputs": [],
   "source": [
    "# Primero, instalar la libreria:\n",
    "#pip install matplotlib\n",
    "import matplotlib.pyplot as plt # importamos la librería gráfica. plt es el nombre por convención que se le asigna"
   ]
  },
  {
   "cell_type": "markdown",
   "metadata": {},
   "source": [
    "**Matplotlib** genera los gráficos sobre dos objetos interrelacionados:\n",
    "- Figura (*Figure*): la hoja en blanco, el recuadro que contiene hacia adentro el/los gráfico/s. En términos prácticos esto ocurre detrás de escenas, pero es lo que permite dibujar el gráfico.\n",
    "- Ejes (*Axes*): el gráfico en sí, los ejes y la informacíon graficada. La representación de la información sobre ejes."
   ]
  },
  {
   "cell_type": "markdown",
   "metadata": {},
   "source": [
    "Las partes de un gráfico\n",
    "<img src=\"https://matplotlib.org/stable/_images/anatomy.png\"\n",
    "     width=500/>"
   ]
  },
  {
   "cell_type": "markdown",
   "metadata": {},
   "source": [
    "Hay esencialmente dos maneras de graficar con Matplotlib:\n",
    "- **Estilo pyplot**: simple y rápida para figuras que no son muy avanzadas. Quizás más fácil para empezar.\n",
    "- **Estilo orientado-objetos**: un poco más complejo pero necesario para figuras que requieren mucha personalización.\n",
    "\n",
    "En cuanto al resultado estético, con ambos se puede lograr la misma calidad. Para dar los primeros pasos es indistinto cual se use. Sin embargo, el estilo orientado a objetos es necesario para figuras más complejas donde hay varios gráficos (subplots) y es necesario definir parámetros distintos para cada par de ejes (2D)"
   ]
  },
  {
   "cell_type": "markdown",
   "metadata": {
    "id": "_wHJy23yKOuh"
   },
   "source": [
    "### Graficar con matplotlib"
   ]
  },
  {
   "cell_type": "code",
   "execution_count": null,
   "metadata": {
    "executionInfo": {
     "elapsed": 1094,
     "status": "ok",
     "timestamp": 1661282643386,
     "user": {
      "displayName": "Belén Michel Torino",
      "userId": "16232771333703850174"
     },
     "user_tz": 240
    },
    "id": "nrMwI5vWKOuh"
   },
   "outputs": [],
   "source": [
    "import matplotlib.pyplot as plt\n",
    "import pandas as pd\n",
    "import os"
   ]
  },
  {
   "cell_type": "markdown",
   "metadata": {},
   "source": [
    "Ubicar la carpeta donde hayan descargado el archivo para esta parte de visualización"
   ]
  },
  {
   "cell_type": "code",
   "execution_count": null,
   "metadata": {},
   "outputs": [],
   "source": [
    "os.getcwd()"
   ]
  },
  {
   "cell_type": "code",
   "execution_count": null,
   "metadata": {},
   "outputs": [],
   "source": [
    "\n",
    "os.chdir(\"/Users/mnromero/Dropbox/COURSES/2025 - S2 - Big Data y Machines Learning (UBA)/Clases/Clase 02 Visualizacion II_Hist & Kernels/archivos P2_Matplotlib\")"
   ]
  },
  {
   "cell_type": "code",
   "execution_count": null,
   "metadata": {
    "colab": {
     "base_uri": "https://localhost:8080/",
     "height": 353
    },
    "executionInfo": {
     "elapsed": 289,
     "status": "error",
     "timestamp": 1661282644488,
     "user": {
      "displayName": "Belén Michel Torino",
      "userId": "16232771333703850174"
     },
     "user_tz": 240
    },
    "id": "JCYTjWGHKOui",
    "outputId": "4b13c0cd-44ad-47f2-d28e-9a79fc39c177"
   },
   "outputs": [],
   "source": [
    "# Abrimos el archivo de potencia energética instalada en el país\n",
    "df = pd.read_excel(\"potencia_instalada.xlsx\")"
   ]
  },
  {
   "cell_type": "code",
   "execution_count": null,
   "metadata": {},
   "outputs": [],
   "source": [
    " # exploren aqui la base. Hint: tail, head, sample, info...\n",
    "df"
   ]
  },
  {
   "cell_type": "code",
   "execution_count": null,
   "metadata": {
    "id": "XdiLXPy2KOui",
    "outputId": "b96cd9f3-7cb1-4f18-bc49-8a3ec1d1fb5c"
   },
   "outputs": [],
   "source": [
    "# Agregamos (collapse) a nivel de tipo de fuente\n",
    "df_fuente = df.groupby(by=[\"periodo\",\"fuente_generacion\"]).agg({\"potencia_instalada_mw\":\"sum\"})\n",
    "df_fuente.reset_index(inplace=True)\n",
    "df_fuente.sample(5)\n"
   ]
  },
  {
   "cell_type": "code",
   "execution_count": null,
   "metadata": {
    "id": "NJ9utAqzKOuj",
    "outputId": "8bd123af-e0ba-4bc9-be38-52f1a3cb02ee"
   },
   "outputs": [],
   "source": [
    "df_fuente.shape"
   ]
  },
  {
   "cell_type": "markdown",
   "metadata": {},
   "source": [
    "### Grafico de tendencia\n",
    "Vamos a graficar dos líneas, así que definimos vector X (*periodo*) e Y (*series de tiempo*) para cada una. Vamos a graficar la potencia instalada de generación por fuente *Renovable* y *Térmica*.\n",
    "\n",
    "*Nota*: `df[condicion][columna]` selecciona la \"columna\" de la base que resulta de aplicar el filtro `df[condicion]`."
   ]
  },
  {
   "cell_type": "code",
   "execution_count": null,
   "metadata": {
    "id": "jhirJJclKOuk"
   },
   "outputs": [],
   "source": [
    "# Definimos  vectores  de datos  para  serie 1 (renovable)\n",
    "y1 = df_fuente[df_fuente[\"fuente_generacion\"]==\"Renovable\"][\"potencia_instalada_mw\"]\n",
    "x1 = df_fuente[df_fuente[\"fuente_generacion\"]==\"Renovable\"][\"periodo\"]\n",
    "# Definimos  vectores  de datos  para  serie 2 (térmica)\n",
    "y2 = df_fuente[df_fuente[\"fuente_generacion\"]==\"Térmica\"][\"potencia_instalada_mw\"]\n",
    "x2 = df_fuente[df_fuente[\"fuente_generacion\"]==\"Térmica\"][\"periodo\"]"
   ]
  },
  {
   "cell_type": "markdown",
   "metadata": {},
   "source": [
    "#### Gráfico al estilo `pyplot`"
   ]
  },
  {
   "cell_type": "code",
   "execution_count": null,
   "metadata": {
    "id": "Jriw9yo0KOul",
    "outputId": "439d3efc-8ea0-4cc0-a6d4-a815a549946c"
   },
   "outputs": [],
   "source": [
    "# Creamos el gráfico al estilo pyplot\n",
    "plt.plot(x1, y1, label=\"Renovable\") # serie 1\n",
    "plt.plot(x2, y2, label=\"Térmica\") # serie 2\n",
    "# Estas  dos  líneas  estaran  sobre  el mismo  gráfico\n",
    "\n",
    "# Modifico  labels\n",
    "plt.xlabel(\"Período\")\n",
    "plt.ylabel(\"Potencia  Instalada (en MW)\")\n",
    "plt.title(\"Figura 1. Producción Energética Argentina\\nsegún Fuente\")\n",
    "\n",
    "# Agrego  leyenda\n",
    "plt.legend()\n",
    "plt.show() #esto es necesario para visualizar\n"
   ]
  },
  {
   "cell_type": "markdown",
   "metadata": {},
   "source": [
    "Una buena practica es exportar todas las figuras en una carpeta por aparte para ser ordenados. Lo que haremos ahora es guardar el directorio de ubicación de dicha carpeta y, si no existe la carpeta, que cree nuestra carpeta de figuras."
   ]
  },
  {
   "cell_type": "code",
   "execution_count": null,
   "metadata": {},
   "outputs": [],
   "source": [
    "# Ruta de la carpeta donde se guardará el gráfico\n",
    "carpeta = '/Users/mnromero/Dropbox/COURSES/2025 - S2 - Big Data y Machines Learning (UBA)/Clases/Clase 02 Visualizacion II_Hist & Kernels/figuras'\n",
    "\n",
    "# Verifica si la carpeta existe, si no, créala\n",
    "if not os.path.exists(carpeta):\n",
    "    os.makedirs(carpeta)"
   ]
  },
  {
   "cell_type": "code",
   "execution_count": null,
   "metadata": {},
   "outputs": [],
   "source": [
    "# Volvemos a graficar\n",
    "plt.plot(x1, y1, label=\"Renovable\") # serie 1\n",
    "plt.plot(x2, y2, label=\"Térmica\") # serie 2\n",
    "# Estas  dos  líneas  estaran  sobre  el mismo  gráfico\n",
    "\n",
    "# Modifico  labels\n",
    "plt.xlabel(\"Período\")\n",
    "plt.ylabel(\"Potencia  Instalada (en MW)\")\n",
    "plt.title(\"Figura 1. Producción Energética Argentina\\nsegún Fuente\")\n",
    "\n",
    "# Agrego  leyenda\n",
    "plt.legend()\n",
    "\n",
    "# Guardamos el gráfico en la carpeta (no usamos la funcion .show() para ahora guardarla)\n",
    "plt.savefig(os.path.join(carpeta, 'figura_1.pdf'), bbox_inches='tight', dpi=300)"
   ]
  },
  {
   "cell_type": "markdown",
   "metadata": {},
   "source": [
    "#### Creamos el gráfico al estilo OO (orientado-objetos)"
   ]
  },
  {
   "cell_type": "code",
   "execution_count": null,
   "metadata": {
    "id": "GBdj3IlTKOum",
    "outputId": "e58796c6-687e-4229-ccfd-373f4f1352d5"
   },
   "outputs": [],
   "source": [
    "# Creamos la figura y los axes\n",
    "fig, ax = plt.subplots() # crear objetos\n",
    "\n",
    "# Definimos series\n",
    "ax.plot(x1, y1, label=\"Renovable\") # Serie 1\n",
    "ax.plot(x2, y2, label=\"Térmica\") # Serie 2\n",
    "\n",
    "# Modificamos labels y título\n",
    "ax.set_xlabel(\"Período\")\n",
    "ax.set_ylabel(\"Potencia  Instalada (en MW)\")\n",
    "ax.set_title(\"Producción Energética Argentina\\nsegún Fuente (v2)\")\n",
    "\n",
    "# Agregamos leyenda\n",
    "ax.legend()\n",
    "# Guardamos el gráfico en la carpeta (no usamos la funcion .show() para ahora guardarla)\n",
    "plt.savefig(os.path.join(carpeta, 'figura_2.png'), bbox_inches='tight', dpi=300)"
   ]
  },
  {
   "cell_type": "markdown",
   "metadata": {},
   "source": [
    "#### Graficar múltiples gráficos estilo `pyplot`"
   ]
  },
  {
   "cell_type": "code",
   "execution_count": null,
   "metadata": {
    "id": "bFHB0axvKOum",
    "outputId": "5cd4d1c0-5cbe-408c-8060-0db99a254b5d"
   },
   "outputs": [],
   "source": [
    "# ejemplo 2 ax en un fig\n",
    "plt.figure(figsize=(14, 5))\n",
    "\n",
    "# Definimos primer panel\n",
    "plt.subplot(121) # subplot(nrows, ncols, index, **kwargs) donde nrows=1, ncols=2, index=1\n",
    "plt.plot(x1, y1)\n",
    "plt.title(\"A. Fuente Renovable\")\n",
    "\n",
    "# Definimos segundo panel\n",
    "plt.subplot(122)\n",
    "plt.plot(x2, y2)\n",
    "plt.title(\"B. Fuente Térmica\")\n",
    "\n",
    "# Definimos título general de la figura\n",
    "plt.suptitle(\"Ejemplo dos paneles en una figura\")\n",
    "# Guardamos el gráfico en la carpeta (no usamos la funcion .show() para ahora guardarla)\n",
    "plt.savefig(os.path.join(carpeta, 'figura_3_paneles.png'), bbox_inches='tight', dpi=300)"
   ]
  },
  {
   "cell_type": "markdown",
   "metadata": {},
   "source": [
    "#### Graficar múltiples gráficos estilo orientado a objetos (o-o)"
   ]
  },
  {
   "cell_type": "code",
   "execution_count": null,
   "metadata": {
    "id": "bFHB0axvKOum",
    "outputId": "5cd4d1c0-5cbe-408c-8060-0db99a254b5d"
   },
   "outputs": [],
   "source": [
    "# ejemplo 2 ax en un fig\n",
    "fig, ax = plt.subplots(figsize=(14, 5), ncols=2, nrows=1)\n",
    "\n",
    "# Definimos primer panel\n",
    "ax[0].plot(x1, y1)\n",
    "ax[0].set_title(\"A. Fuente Renovable\")\n",
    "\n",
    "# Definimos segundo panel\n",
    "ax[1].plot(x2, y2)\n",
    "ax[1].set_title(\"B. Fuente Térmica\")\n",
    "\n",
    "# Definimos título general de la figura\n",
    "fig.suptitle(\"Ejemplo dos gráficos en una figura\")\n",
    "# Guardamos el gráfico en la carpeta (no usamos la funcion .show() para ahora guardarla)\n",
    "plt.savefig(os.path.join(carpeta, 'figura_4_paneles_o-o.png'), bbox_inches='tight', dpi=300)"
   ]
  },
  {
   "cell_type": "markdown",
   "metadata": {},
   "source": [
    "*Comentario*: un gráfico orientado a objetos (O-O) en Matplotlib se refiere al uso explícito de los objetos `Figure` y `Axes` para crear y controlar un gráfico. Esto contrasta con el enfoque stateful (`pyplot`), que modifica el estado global de la visualización.\n"
   ]
  },
  {
   "cell_type": "markdown",
   "metadata": {},
   "source": [
    "### Gráficos avanzados con `ipywidgets`\n",
    "\n",
    "Los widgets en Python son objetos que tienen una representación en el navegador. Por ejemplo, los widgets pueden tener forma de una caja de texto, un desplegable, una casilla de verificación, etc.\n",
    "Más info sobre ipywidgets [acá](https://ipywidgets.readthedocs.io/en/latest/examples/Widget%20Basics.html)"
   ]
  },
  {
   "cell_type": "code",
   "execution_count": null,
   "metadata": {
    "scrolled": true
   },
   "outputs": [],
   "source": [
    "pip install ipywidgets"
   ]
  },
  {
   "cell_type": "code",
   "execution_count": null,
   "metadata": {},
   "outputs": [],
   "source": [
    "import matplotlib.pyplot as plt\n",
    "import ipywidgets as widgets\n",
    "from IPython.display import display\n",
    "\n",
    "import datetime"
   ]
  },
  {
   "cell_type": "code",
   "execution_count": null,
   "metadata": {},
   "outputs": [],
   "source": [
    "boton = widgets.Button(description='Haz clic')\n",
    "display(boton)"
   ]
  },
  {
   "cell_type": "code",
   "execution_count": null,
   "metadata": {},
   "outputs": [],
   "source": [
    "widgets.IntSlider()"
   ]
  },
  {
   "cell_type": "code",
   "execution_count": null,
   "metadata": {},
   "outputs": [],
   "source": [
    "lista_fuentes = list(set(df_fuente['fuente_generacion']))\n",
    "lista_fuentes"
   ]
  },
  {
   "cell_type": "code",
   "execution_count": null,
   "metadata": {},
   "outputs": [],
   "source": [
    "# Seleccionar tipo de fuente\n",
    "print(\"Seleccionar Fuente:\")\n",
    "fuente = widgets.Dropdown(\n",
    "    options=['Nuclear','Renovable',  'Hidráulica', 'Térmica'],\n",
    "    value='Nuclear', # \"Nuclear\" es la opción seleccionada de forma predeterminada cuando se crea el widget\n",
    "    description='Fuente:',\n",
    "    disabled=False # widget activo. si disabled=True, el widget se vuelve inactivo y el usuario no puede interactuar con él.\n",
    ")\n",
    "display(fuente) # Muestra el widget"
   ]
  },
  {
   "cell_type": "code",
   "execution_count": null,
   "metadata": {},
   "outputs": [],
   "source": [
    "fechas = list(set(df_fuente['periodo'].dt.strftime(\"%y-%m\"))) \n",
    "# set para eliminar duplicados\n",
    "# strftime() para formatear la fechas en un string según un formato deseado. \n",
    "# \"%y-%m\" formato tal que se muestren los últimos dos dígitos del año (%y) seguidos por el mes (%m).\n",
    "fechas.sort()\n",
    "fechas"
   ]
  },
  {
   "cell_type": "code",
   "execution_count": null,
   "metadata": {},
   "outputs": [],
   "source": [
    "select_fecha = widgets.SelectionRangeSlider(\n",
    "    options=fechas,\n",
    "    index=(0, len(fechas)-1),\n",
    "    description='Fechas',\n",
    "    disabled=False\n",
    ")\n",
    "display(select_fecha)"
   ]
  },
  {
   "cell_type": "code",
   "execution_count": null,
   "metadata": {},
   "outputs": [],
   "source": [
    "# Probamos si los valores quedaron actualizados\n",
    "# Para usar los valores definidos usamos .value\n",
    "\n",
    "print(\"El rango de fechas a usar es: \", select_fecha.value)\n",
    "print(\"La fuente a mostrar es: \", fuente.value)"
   ]
  },
  {
   "cell_type": "code",
   "execution_count": null,
   "metadata": {},
   "outputs": [],
   "source": [
    "# Creamos un dataframe con la selección de filas de la fuente elegida\n",
    "df_temp =  df_fuente[df_fuente['fuente_generacion'] == fuente.value]\n",
    "\n",
    "# Extraemos el objeto fecha del string creado a partir del widget\n",
    "fecha_min = datetime.datetime.strptime(select_fecha.value[0], \"%y-%m\") \n",
    "fecha_max = datetime.datetime.strptime(select_fecha.value[1], \"%y-%m\")\n",
    "# con el módulo datetime y su función strptime creamos un objeto datetime (que contiene info de date y time)\n",
    "\n",
    "# Filtramos según fechas elegidas\n",
    "df_temp = df_temp[(df_temp['periodo']>fecha_min)&(df_temp['periodo']<fecha_max)]\n",
    "\n",
    "print(\"Evolución de la potencia instalada de fuente: {}\".format(fuente.value))\n",
    "# Creamos el grafico\n",
    "plt.plot(df_temp['periodo'], df_temp['potencia_instalada_mw'], label=fuente.value) \n",
    "# Modificamos labels\n",
    "plt.xlabel('Periodo')\n",
    "plt.xticks(rotation=20)\n",
    "plt.ylabel('Potencia Instalada (MW)')\n",
    "\n",
    "# Agregamos leyenda\n",
    "plt.legend()\n",
    "plt.show()"
   ]
  },
  {
   "cell_type": "code",
   "execution_count": null,
   "metadata": {},
   "outputs": [],
   "source": []
  }
 ],
 "metadata": {
  "colab": {
   "name": "Tutorial4.ipynb",
   "provenance": []
  },
  "kernelspec": {
   "display_name": "Python [conda env:base] *",
   "language": "python",
   "name": "conda-base-py"
  },
  "language_info": {
   "codemirror_mode": {
    "name": "ipython",
    "version": 3
   },
   "file_extension": ".py",
   "mimetype": "text/x-python",
   "name": "python",
   "nbconvert_exporter": "python",
   "pygments_lexer": "ipython3",
   "version": "3.12.4"
  },
  "varInspector": {
   "cols": {
    "lenName": 16,
    "lenType": 16,
    "lenVar": 40
   },
   "kernels_config": {
    "python": {
     "delete_cmd_postfix": "",
     "delete_cmd_prefix": "del ",
     "library": "var_list.py",
     "varRefreshCmd": "print(var_dic_list())"
    },
    "r": {
     "delete_cmd_postfix": ") ",
     "delete_cmd_prefix": "rm(",
     "library": "var_list.r",
     "varRefreshCmd": "cat(var_dic_list()) "
    }
   },
   "types_to_exclude": [
    "module",
    "function",
    "builtin_function_or_method",
    "instance",
    "_Feature"
   ],
   "window_display": false
  },
  "widgets": {
   "application/vnd.jupyter.widget-state+json": {
    "4c6b2da7d7b041ce8d6a49dceba48670": {
     "model_module": "@jupyter-widgets/controls",
     "model_module_version": "1.5.0",
     "model_name": "DescriptionStyleModel",
     "state": {
      "_model_module": "@jupyter-widgets/controls",
      "_model_module_version": "1.5.0",
      "_model_name": "DescriptionStyleModel",
      "_view_count": null,
      "_view_module": "@jupyter-widgets/base",
      "_view_module_version": "1.2.0",
      "_view_name": "StyleView",
      "description_width": ""
     }
    },
    "5ece28cc8e5743c3a107c5fb1401947b": {
     "model_module": "@jupyter-widgets/controls",
     "model_module_version": "1.5.0",
     "model_name": "ToggleButtonModel",
     "state": {
      "_dom_classes": [],
      "_model_module": "@jupyter-widgets/controls",
      "_model_module_version": "1.5.0",
      "_model_name": "ToggleButtonModel",
      "_view_count": null,
      "_view_module": "@jupyter-widgets/controls",
      "_view_module_version": "1.5.0",
      "_view_name": "ToggleButtonView",
      "button_style": "",
      "description": "Show code",
      "description_tooltip": null,
      "disabled": false,
      "icon": "",
      "layout": "IPY_MODEL_d21ed9b6131846e7b852cc4c958148b3",
      "style": "IPY_MODEL_4c6b2da7d7b041ce8d6a49dceba48670",
      "tooltip": "",
      "value": false
     }
    },
    "d21ed9b6131846e7b852cc4c958148b3": {
     "model_module": "@jupyter-widgets/base",
     "model_module_version": "1.2.0",
     "model_name": "LayoutModel",
     "state": {
      "_model_module": "@jupyter-widgets/base",
      "_model_module_version": "1.2.0",
      "_model_name": "LayoutModel",
      "_view_count": null,
      "_view_module": "@jupyter-widgets/base",
      "_view_module_version": "1.2.0",
      "_view_name": "LayoutView",
      "align_content": null,
      "align_items": null,
      "align_self": null,
      "border": null,
      "bottom": null,
      "display": null,
      "flex": null,
      "flex_flow": null,
      "grid_area": null,
      "grid_auto_columns": null,
      "grid_auto_flow": null,
      "grid_auto_rows": null,
      "grid_column": null,
      "grid_gap": null,
      "grid_row": null,
      "grid_template_areas": null,
      "grid_template_columns": null,
      "grid_template_rows": null,
      "height": null,
      "justify_content": null,
      "justify_items": null,
      "left": null,
      "margin": null,
      "max_height": null,
      "max_width": null,
      "min_height": null,
      "min_width": null,
      "object_fit": null,
      "object_position": null,
      "order": null,
      "overflow": null,
      "overflow_x": null,
      "overflow_y": null,
      "padding": null,
      "right": null,
      "top": null,
      "visibility": null,
      "width": null
     }
    }
   }
  }
 },
 "nbformat": 4,
 "nbformat_minor": 4
}
