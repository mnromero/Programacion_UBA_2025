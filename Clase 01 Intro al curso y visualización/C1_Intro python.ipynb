{
 "cells": [
  {
   "cell_type": "markdown",
   "metadata": {},
   "source": [
    "# Big Data y Machine Learning (UBA) 2025\n",
    "\n",
    "\n",
    "## Clase 1. Introducción a Python\n",
    "\n",
    "El objetivo de esta clase es que puedan familiarizarse con algunos objetos de Python y que empiecen a usar Jupyter Notebook."
   ]
  },
  {
   "cell_type": "markdown",
   "metadata": {},
   "source": [
    "### Sobre Jupyter Notebook (JN)\n",
    "\n",
    "JN trabaja con celdas. Éstas pueden ser de distintos tipos: código (*Code*) y texto (*Markdown*). Así, podemos combinar bloques de texto y bloques de código fácilmente en un mismo archivo (.ipynb). Notar que esta celda dice \"Markdown\" en la barra superior."
   ]
  },
  {
   "cell_type": "code",
   "execution_count": null,
   "metadata": {},
   "outputs": [],
   "source": [
    "# Esta es una celda de codigo (con # ponemos comentarios). En la siguiente linea tenemos una funcion. \n",
    "# En esta celda de codigo, vemos unos corchetes del lado izquierdo []:\n",
    "print(\"Mi primer linea de codigo\")  "
   ]
  },
  {
   "cell_type": "markdown",
   "metadata": {},
   "source": [
    "En el margen de cada celda vemos un color (verde o azul). El <font color=lightgreen>verde</font> nos indica que estamos en modo edición, mientras que el <font color=blue>azul</font>, que estamos en modo navegación. \n",
    "\n",
    "Cuando estamos en modo navegación (<font color=blue>azul</font>) podemos cambiar de celda, agregar y quitar celdas con las flechas del teclado. Si queremos pasar a modo edición (<font color=lightgreen>verde</font>) presionamos enter o clickeamos. \n",
    "Si estamos en modo edición y queremos pasar a modo navegación, presionamos Esc en el teclado.\n",
    "\n",
    "Para agregar celdas, si estamos en modo navegación, podemos presionar la tecla 'a' para crear una celda sobre la celda actual  y 'b' para crear una celda luego de la celda en la que estamos. Con '$x$' eliminamos la celda actual.\n",
    "Para definir que la celda en la que estamos sea de texto, presionamos la tecla 'm'. Para determinar que sea de código, presionamos 'y'.\n",
    "\n",
    "A diferencia de la consola o de otros programas, el código no se ejecuta apretando *'enter'*. El código no se ejecuta por línea, sino que por bloque o celda. Presionando las teclas *'shift'+'enter'* corremos el código de la celda actual y pasamos a la siguiente. Presionando *'control'+'enter'* (o *'Cmd+return'* en Mac) corremos el código y nos mantenemos en la misma celda. "
   ]
  },
  {
   "cell_type": "markdown",
   "metadata": {},
   "source": [
    "# Ahora sí, sobre algunos objetos en Python\n",
    "## Datos numéricos, de texto y booleanos\n",
    "\n",
    "### <u>Datos numéricos<u>\n",
    "\n",
    "**Enteros**: o *integer*, son valores númericos enteros, positivos o negativos, de longitud ilimitada.\n",
    "\n",
    "**De coma flotante**: o *float* son valores númericos con decimales, positivos o negativos. En su versión nativa guarda hasta 16 decimales."
   ]
  },
  {
   "cell_type": "code",
   "execution_count": null,
   "metadata": {
    "scrolled": true
   },
   "outputs": [],
   "source": [
    "# Enteros\n",
    "-10\n"
   ]
  },
  {
   "cell_type": "code",
   "execution_count": null,
   "metadata": {},
   "outputs": [],
   "source": [
    "# De coma flotante\n",
    "1.689355"
   ]
  },
  {
   "cell_type": "code",
   "execution_count": null,
   "metadata": {},
   "outputs": [],
   "source": [
    "# Creamos un objeto con el número 3\n",
    "myint = 3"
   ]
  },
  {
   "cell_type": "code",
   "execution_count": null,
   "metadata": {},
   "outputs": [],
   "source": [
    "print(myint)"
   ]
  },
  {
   "cell_type": "code",
   "execution_count": null,
   "metadata": {},
   "outputs": [],
   "source": [
    "myint"
   ]
  },
  {
   "cell_type": "code",
   "execution_count": null,
   "metadata": {},
   "outputs": [],
   "source": [
    "# Cuidado al convertir uno al otro: \n",
    "myfloat = float(myint)"
   ]
  },
  {
   "cell_type": "code",
   "execution_count": null,
   "metadata": {},
   "outputs": [],
   "source": [
    "print(myfloat)"
   ]
  },
  {
   "cell_type": "code",
   "execution_count": null,
   "metadata": {},
   "outputs": [],
   "source": [
    "# Reescribimos sobre el objeto creado (OJO)\n",
    "myint = int(7.8)"
   ]
  },
  {
   "cell_type": "code",
   "execution_count": null,
   "metadata": {},
   "outputs": [],
   "source": [
    "print(myint)"
   ]
  },
  {
   "cell_type": "code",
   "execution_count": null,
   "metadata": {},
   "outputs": [],
   "source": [
    "print(int(36.89))\n",
    "print(round(36.89))"
   ]
  },
  {
   "cell_type": "markdown",
   "metadata": {},
   "source": [
    "Noten que:\n",
    "- el programa nos resalta las palabras de distintos colores. `print` es un termino **\"protegido\"** y lo resalta en verde. El color dependerá del programa que usemos.\n",
    "- los comentarios se hacen usando #\n",
    "- para hacer comentarios más largos podemos usar los DocStrings (son otros tipo de comentarios, se usan más cuando se quiere dar una descripción de un módulo, función, etc. Esos se definen con comillas. Lo veremos más adelante)"
   ]
  },
  {
   "cell_type": "markdown",
   "metadata": {},
   "source": [
    "### <u>Datos  de Texto<u>\n",
    "\n",
    "*Caracteres*: son valores enmarcados entre comillas simples (' ') o dobles (\" \"). Al estar enmarcados, los valores son interpretados como texto (y no como números o operadores arimétricos). \n",
    "\n",
    "*Cadenas de caracteres*: o _string_ son una sucesión de caracteres enmarcados entre '' o \"\"."
   ]
  },
  {
   "cell_type": "code",
   "execution_count": null,
   "metadata": {},
   "outputs": [],
   "source": [
    "# Caracteres\n",
    "print(\"A\")\n",
    "print(\"b\")\n",
    "print(\"10\")\n",
    "print('r')"
   ]
  },
  {
   "cell_type": "code",
   "execution_count": null,
   "metadata": {},
   "outputs": [],
   "source": [
    "# Cadenas de caracteres\n",
    "print(\"Hola, mundo!\")\n",
    "print(\"Bienvenidos al curso de Big Data\")"
   ]
  },
  {
   "cell_type": "markdown",
   "metadata": {},
   "source": [
    "### <u>Booleanos<u>\n",
    "\n",
    "*Lógico*: o _booleano_ son expresiones que se evalúan a ser ciertas, es decir, adoptan uno de dos valores: True o False."
   ]
  },
  {
   "cell_type": "code",
   "execution_count": null,
   "metadata": {},
   "outputs": [],
   "source": [
    "\"texto\" == \"texto\""
   ]
  },
  {
   "cell_type": "code",
   "execution_count": null,
   "metadata": {},
   "outputs": [],
   "source": [
    "\"texto\" == \"Texto\""
   ]
  },
  {
   "cell_type": "code",
   "execution_count": null,
   "metadata": {},
   "outputs": [],
   "source": [
    "print(\"texto\" == \"texto\")"
   ]
  },
  {
   "cell_type": "code",
   "execution_count": null,
   "metadata": {},
   "outputs": [],
   "source": [
    "mycart1 = \"este texto\""
   ]
  },
  {
   "cell_type": "code",
   "execution_count": null,
   "metadata": {},
   "outputs": [],
   "source": [
    "mycart1"
   ]
  },
  {
   "cell_type": "code",
   "execution_count": null,
   "metadata": {},
   "outputs": [],
   "source": [
    "mycart = 3"
   ]
  },
  {
   "cell_type": "code",
   "execution_count": null,
   "metadata": {},
   "outputs": [],
   "source": [
    "mycart == mycart1"
   ]
  },
  {
   "cell_type": "code",
   "execution_count": null,
   "metadata": {},
   "outputs": [],
   "source": [
    "\"a\" == \"b\""
   ]
  },
  {
   "cell_type": "code",
   "execution_count": null,
   "metadata": {},
   "outputs": [],
   "source": [
    "\"texto\" != \"Texto\""
   ]
  },
  {
   "cell_type": "code",
   "execution_count": null,
   "metadata": {},
   "outputs": [],
   "source": [
    "10 > 9"
   ]
  },
  {
   "cell_type": "code",
   "execution_count": null,
   "metadata": {},
   "outputs": [],
   "source": [
    "10 >= 9"
   ]
  },
  {
   "cell_type": "code",
   "execution_count": null,
   "metadata": {},
   "outputs": [],
   "source": [
    "10 < 9"
   ]
  },
  {
   "cell_type": "markdown",
   "metadata": {},
   "source": [
    "#### Ejercicio 1: Tipos de datos: preguntas\n",
    "\n",
    "Vamos a probar algunas cosas. \n",
    "Para Python, ¿es igual un número escrito como entero o en formato de coma flotante? \n",
    "¿Y si está escrito como caracteres (*string*)? \n",
    "Prueben lo siguiente:"
   ]
  },
  {
   "cell_type": "code",
   "execution_count": null,
   "metadata": {},
   "outputs": [],
   "source": [
    "17 == 17.0\n"
   ]
  },
  {
   "cell_type": "code",
   "execution_count": null,
   "metadata": {},
   "outputs": [],
   "source": [
    "524 == \"524\""
   ]
  },
  {
   "cell_type": "markdown",
   "metadata": {},
   "source": [
    "¿Los strings o cadenas de caracteres, son sensibles al uso de \" \" o ' ' ? Prueben:"
   ]
  },
  {
   "cell_type": "code",
   "execution_count": null,
   "metadata": {},
   "outputs": [],
   "source": [
    " \"Argentina\" == 'Argentina'"
   ]
  },
  {
   "cell_type": "markdown",
   "metadata": {},
   "source": [
    "¿Los strings, o cadena de caracteres, son sensibles al uso de mayúsculas y minúsculas? Prueben lo siguiente:"
   ]
  },
  {
   "cell_type": "code",
   "execution_count": null,
   "metadata": {},
   "outputs": [],
   "source": [
    "\"Argentina\" == \"ARGENTINA\""
   ]
  },
  {
   "cell_type": "markdown",
   "metadata": {},
   "source": [
    "### Operaciones básicas"
   ]
  },
  {
   "cell_type": "markdown",
   "metadata": {},
   "source": [
    "#### Sumas y restas"
   ]
  },
  {
   "cell_type": "code",
   "execution_count": null,
   "metadata": {},
   "outputs": [],
   "source": [
    "print(200 + 50)\n",
    "print(200.3 - 50.1)"
   ]
  },
  {
   "cell_type": "code",
   "execution_count": null,
   "metadata": {},
   "outputs": [],
   "source": [
    "suma = 30 + 47\n",
    "myint =7\n",
    "myin2 = 50 \n",
    "print(myint+myin2)\n",
    "print('Suma =', suma)"
   ]
  },
  {
   "cell_type": "code",
   "execution_count": null,
   "metadata": {},
   "outputs": [],
   "source": [
    "suma += 22 # Equivale a suma = suma + 22\n",
    "print(suma)"
   ]
  },
  {
   "cell_type": "markdown",
   "metadata": {},
   "source": [
    "#### Multiplicación y división"
   ]
  },
  {
   "cell_type": "code",
   "execution_count": null,
   "metadata": {},
   "outputs": [],
   "source": [
    "print(120*3)\n",
    "print(444.8/4)"
   ]
  },
  {
   "cell_type": "markdown",
   "metadata": {},
   "source": [
    "#### Potencia"
   ]
  },
  {
   "cell_type": "code",
   "execution_count": null,
   "metadata": {},
   "outputs": [],
   "source": [
    "4**2"
   ]
  },
  {
   "cell_type": "code",
   "execution_count": null,
   "metadata": {},
   "outputs": [],
   "source": [
    "3*2+4"
   ]
  },
  {
   "cell_type": "markdown",
   "metadata": {},
   "source": [
    "#### Cociente de una división"
   ]
  },
  {
   "cell_type": "code",
   "execution_count": null,
   "metadata": {},
   "outputs": [],
   "source": [
    "print(16//4)\n",
    "print(28//5)\n",
    "# El resultado es un dato de coma flotante si alguno de los operandos es float o un entero si ambos son enteros\n",
    "print(16.0//4)\n",
    "print(16//4.0)"
   ]
  },
  {
   "cell_type": "markdown",
   "metadata": {},
   "source": [
    "#### Resto de una división"
   ]
  },
  {
   "cell_type": "code",
   "execution_count": null,
   "metadata": {},
   "outputs": [],
   "source": [
    "print(28%5)\n",
    "print(32%8)"
   ]
  },
  {
   "cell_type": "markdown",
   "metadata": {},
   "source": [
    "### Operaciones con strings"
   ]
  },
  {
   "cell_type": "markdown",
   "metadata": {},
   "source": [
    "#### Concatenar (sumar)"
   ]
  },
  {
   "cell_type": "code",
   "execution_count": null,
   "metadata": {},
   "outputs": [],
   "source": [
    "\"Esto es\" + \" concatenar dos strings\""
   ]
  },
  {
   "cell_type": "code",
   "execution_count": null,
   "metadata": {},
   "outputs": [],
   "source": [
    "# podemos concatener mas de 2 objetos strings\n",
    "\"a\" + \" bb\" + \" ccc\""
   ]
  },
  {
   "cell_type": "code",
   "execution_count": null,
   "metadata": {},
   "outputs": [],
   "source": [
    "# Podemos guardar en la memoria objetos string y crear un 3er objeto concatenado\n",
    "apellido = \"Romero\"\n",
    "nombre = 'Noelia'\n",
    "nom_completo = nombre + ' ' + apellido \n",
    "print(nom_completo)"
   ]
  },
  {
   "cell_type": "markdown",
   "metadata": {},
   "source": [
    "#### Repetir (multiplicar)"
   ]
  },
  {
   "cell_type": "code",
   "execution_count": null,
   "metadata": {},
   "outputs": [],
   "source": [
    "'Muy bueno!'*3"
   ]
  },
  {
   "cell_type": "markdown",
   "metadata": {},
   "source": [
    "## Operadores lógicos\n",
    "\n",
    "*Operadores lógicos*: son `and`, `or` y `not` y dan como resultados un valor booleano (True o False)."
   ]
  },
  {
   "cell_type": "code",
   "execution_count": null,
   "metadata": {},
   "outputs": [],
   "source": [
    "4 < 7 and 4 > 1  "
   ]
  },
  {
   "cell_type": "code",
   "execution_count": null,
   "metadata": {},
   "outputs": [],
   "source": [
    "4 == 1 or 4 > 1"
   ]
  },
  {
   "cell_type": "code",
   "execution_count": null,
   "metadata": {},
   "outputs": [],
   "source": [
    "4 == 1 or 4 > 9"
   ]
  },
  {
   "cell_type": "code",
   "execution_count": null,
   "metadata": {},
   "outputs": [],
   "source": [
    "not (4 == 1)"
   ]
  },
  {
   "cell_type": "markdown",
   "metadata": {},
   "source": [
    "## Definición de variables"
   ]
  },
  {
   "cell_type": "markdown",
   "metadata": {},
   "source": [
    "*Variable*: Es un objeto con un _identificador_ (nombre) y un contenido asociado. En Python son fáciles de definir, se hace así:"
   ]
  },
  {
   "cell_type": "code",
   "execution_count": null,
   "metadata": {},
   "outputs": [],
   "source": [
    "mi_x = \"a\"\n",
    "print(mi_x)"
   ]
  },
  {
   "cell_type": "code",
   "execution_count": null,
   "metadata": {},
   "outputs": [],
   "source": [
    "print(mi_variable)"
   ]
  },
  {
   "cell_type": "code",
   "execution_count": null,
   "metadata": {},
   "outputs": [],
   "source": [
    "mi_x = \"a\""
   ]
  },
  {
   "cell_type": "code",
   "execution_count": null,
   "metadata": {},
   "outputs": [],
   "source": [
    "and_x = \"a\""
   ]
  },
  {
   "cell_type": "code",
   "execution_count": null,
   "metadata": {},
   "outputs": [],
   "source": [
    "a = 100\n",
    "b = 17\n",
    "print(a+b)"
   ]
  },
  {
   "cell_type": "markdown",
   "metadata": {},
   "source": [
    "Es una buena práctica que los nombres de las variables tengan un sentido asociado a su contenido."
   ]
  },
  {
   "cell_type": "code",
   "execution_count": null,
   "metadata": {},
   "outputs": [],
   "source": [
    "nombre_universidad = \"Universidad de Buenos Aires\"\n",
    "print(nombre_universidad)"
   ]
  },
  {
   "cell_type": "markdown",
   "metadata": {},
   "source": [
    "#### Variables: algunas consideraciones\n",
    "\n",
    "Hay algunas consideraciones a tener en cuenta respecto a los nombres que se pueden utilizar al definir una variable:\n",
    "- Es sensible al uso de mayúsculas/minúsculas (no son intercambiables).\n",
    "- Solo puede contener valores alfanúmericos o \"_\" \n",
    "- No puede comenzar con un caracter numérico \n",
    "- No usar palabras reservadas (ej. True o False)\n",
    "\n",
    "Algunas buenas prácticas son:\n",
    "- Siempre minúsculas a menos que sea una constante (global en stata)\n",
    "- Se usa snake_case y no CamelCase\n",
    "- No usar caracteres latinos (ej: \"ó\", \"ñ\", \"ü\", etc.)"
   ]
  },
  {
   "cell_type": "code",
   "execution_count": null,
   "metadata": {},
   "outputs": [],
   "source": [
    "# Veamos las palabras reservadas de Python\n",
    "help(\"keywords\")"
   ]
  },
  {
   "cell_type": "code",
   "execution_count": null,
   "metadata": {},
   "outputs": [],
   "source": [
    "help(\"False\")"
   ]
  },
  {
   "cell_type": "markdown",
   "metadata": {},
   "source": [
    "#### Ejercicio 2: Operaciones y tipo de variables\n",
    "\n",
    "Vimos que el operador \"+\" se puede usar para valores numéricos y para strings.  ¿Se puede usar para una combinación de ambos?"
   ]
  },
  {
   "cell_type": "code",
   "execution_count": null,
   "metadata": {},
   "outputs": [],
   "source": [
    "12 + \"34\""
   ]
  },
  {
   "cell_type": "markdown",
   "metadata": {},
   "source": [
    "Al nombrar dos variables de manera similar pero modificando mayúsculas/minúsculas, ¿estamos creando dos variables o pisando el valor de la primera con el valor de la segunda? \n",
    "Prueben abajo:"
   ]
  },
  {
   "cell_type": "code",
   "execution_count": null,
   "metadata": {},
   "outputs": [],
   "source": [
    "resultado = \"a\"\n",
    "RESULTADO = \"b\"\n",
    "print(resultado)\n",
    "print(RESULTADO)\n"
   ]
  },
  {
   "cell_type": "markdown",
   "metadata": {},
   "source": [
    "Vemos otros casos donde los nombres de la variables pueden ser problemáticos\n",
    "¿Alguno de estos nombres de variable es válido?"
   ]
  },
  {
   "cell_type": "code",
   "execution_count": null,
   "metadata": {},
   "outputs": [],
   "source": [
    "2variable = \"a\""
   ]
  },
  {
   "cell_type": "code",
   "execution_count": null,
   "metadata": {},
   "outputs": [],
   "source": [
    "mi-variable = \"a\""
   ]
  },
  {
   "cell_type": "code",
   "execution_count": null,
   "metadata": {},
   "outputs": [],
   "source": [
    "_mi__var_iab_ = \"a\""
   ]
  },
  {
   "cell_type": "code",
   "execution_count": null,
   "metadata": {},
   "outputs": [],
   "source": [
    "_mi__var_iab_\n"
   ]
  },
  {
   "cell_type": "markdown",
   "metadata": {},
   "source": [
    "## Colecciones: listas, tuplas, sets y diccionarios"
   ]
  },
  {
   "cell_type": "markdown",
   "metadata": {},
   "source": [
    "#### Colecciones\n",
    "\n",
    "Una colección en Python es un container que permite agrupar objetos y darles un nombre.\n",
    "\n",
    "Hoy vamos a ver los cuatro tipos de coleciones nativas de Python: listas, diccionarios, sets y tuplas.\n",
    "\n",
    "¿Por qué tantos tipos de colecciones?\n",
    "- Ordenadas vs. sin orden\n",
    "- Valores repetidos vs. valores únicos \n",
    "- Mutables vs. inmutables"
   ]
  },
  {
   "cell_type": "markdown",
   "metadata": {},
   "source": [
    "### Listas\n",
    "\n",
    "Es una secuencia:\n",
    "- Ordenada\n",
    "- Mutable\n",
    "- Admite valores repetidos\n",
    "- Admite distintos tipos de elementos\n",
    "\n",
    "¿Cómo se definen? Con corchetes **[]**"
   ]
  },
  {
   "cell_type": "code",
   "execution_count": null,
   "metadata": {},
   "outputs": [],
   "source": [
    "# Ejemplos: \n",
    "# Lista de código de paises:\n",
    "paises =['ARG', 'BOL', 'BRA', 'CHI', 'PRY', 'URY']\n",
    "# Lista con población\n",
    "pob_millones =[46, 12, 214, 19, 13, 3.5]"
   ]
  },
  {
   "cell_type": "code",
   "execution_count": null,
   "metadata": {},
   "outputs": [],
   "source": [
    "print(paises)"
   ]
  },
  {
   "cell_type": "code",
   "execution_count": null,
   "metadata": {},
   "outputs": [],
   "source": [
    "# Tambien admite el uso de doble comillas \"\"\n",
    "paises2 =[\"ARG\", \"BOL\", \"BRA\", \"CHI\", \"PRY\", \"URY\"]\n"
   ]
  },
  {
   "cell_type": "code",
   "execution_count": null,
   "metadata": {},
   "outputs": [],
   "source": [
    "paises == paises2"
   ]
  },
  {
   "cell_type": "markdown",
   "metadata": {},
   "source": [
    "Para saber el largo de una lista: `len( )`"
   ]
  },
  {
   "cell_type": "code",
   "execution_count": null,
   "metadata": {},
   "outputs": [],
   "source": [
    "len(paises)"
   ]
  },
  {
   "cell_type": "code",
   "execution_count": null,
   "metadata": {},
   "outputs": [],
   "source": [
    "len(pob_millones)"
   ]
  },
  {
   "cell_type": "markdown",
   "metadata": {},
   "source": [
    "Para acceder a un elemento: indexando (desde 0 a N o -1)."
   ]
  },
  {
   "cell_type": "code",
   "execution_count": null,
   "metadata": {},
   "outputs": [],
   "source": [
    "print(\"Primer elemento en la lista de países:\", paises[0])\n",
    "print(\"Segundo elemento en la lista de población:\", pob_millones[1])\n",
    "print(\"Último elemento en la lista de población:\", pob_millones[-1])"
   ]
  },
  {
   "cell_type": "markdown",
   "metadata": {},
   "source": [
    "¿Cómo acceder a un sub-conjunto de elementos?"
   ]
  },
  {
   "cell_type": "code",
   "execution_count": null,
   "metadata": {},
   "outputs": [],
   "source": [
    "paises[:]"
   ]
  },
  {
   "cell_type": "code",
   "execution_count": null,
   "metadata": {},
   "outputs": [],
   "source": [
    "paises[0:len(paises)] # esto es equivalente a [:]"
   ]
  },
  {
   "cell_type": "code",
   "execution_count": null,
   "metadata": {},
   "outputs": [],
   "source": [
    "paises[0:2]"
   ]
  },
  {
   "cell_type": "code",
   "execution_count": null,
   "metadata": {},
   "outputs": [],
   "source": [
    "paises[0:3]"
   ]
  },
  {
   "cell_type": "markdown",
   "metadata": {},
   "source": [
    "#### Ejercicio 3: Jugar con acceder a distintos subconjuntos \n",
    "Probar los siguientes indices entre corchetes"
   ]
  },
  {
   "cell_type": "code",
   "execution_count": null,
   "metadata": {},
   "outputs": [],
   "source": [
    "paises[4:] # Desde la posición 4 en adelante (incluyéndola)"
   ]
  },
  {
   "cell_type": "code",
   "execution_count": null,
   "metadata": {},
   "outputs": [],
   "source": [
    "paises[:3] # Hasta la posición 3 sin incluirla"
   ]
  },
  {
   "cell_type": "code",
   "execution_count": null,
   "metadata": {},
   "outputs": [],
   "source": [
    "paises[2:-2] "
   ]
  },
  {
   "cell_type": "markdown",
   "metadata": {},
   "source": [
    "#### ¿Cómo modificar un elemento? \"Replace\""
   ]
  },
  {
   "cell_type": "code",
   "execution_count": null,
   "metadata": {},
   "outputs": [],
   "source": [
    "print(pob_millones)\n",
    "pob_millones[-2] = 14\n",
    "print(pob_millones)"
   ]
  },
  {
   "cell_type": "markdown",
   "metadata": {},
   "source": [
    "### Listas: métodos básicos"
   ]
  },
  {
   "cell_type": "markdown",
   "metadata": {},
   "source": [
    "Agregar objetos: append, insert"
   ]
  },
  {
   "cell_type": "code",
   "execution_count": null,
   "metadata": {},
   "outputs": [],
   "source": [
    "paises.append('PER') # Se agrega el elemento al final\n",
    "pob_millones.insert(6, 11) # Indicamos dónde -7ma posición- y qué agregar -11- \n",
    "\n",
    "print(paises)\n",
    "print(pob_millones)\n",
    "print(\"La población de \", paises[-1], \"es de \", pob_millones[-1], \" millones\")"
   ]
  },
  {
   "cell_type": "markdown",
   "metadata": {},
   "source": [
    "Unir listas: extend"
   ]
  },
  {
   "cell_type": "code",
   "execution_count": null,
   "metadata": {},
   "outputs": [],
   "source": [
    "paises2=['COL', 'ECU']\n",
    "paises.extend(paises2) # Agrega los elementos al final\n",
    "print(paises) "
   ]
  },
  {
   "cell_type": "markdown",
   "metadata": {},
   "source": [
    "Eliminar objetos: remove, pop"
   ]
  },
  {
   "cell_type": "code",
   "execution_count": null,
   "metadata": {},
   "outputs": [],
   "source": [
    "paises.remove('ECU') # Indicamos qué elemento remover, con el nombre del elemento\n",
    "print(paises)\n",
    "\n",
    "paises.pop(-1) # Indicamos qué elemento borrar indexándolo\n",
    "print(paises)\n",
    "\n",
    "# También podemos indicar qué elementos seleccionar (slice)\n",
    "paises3 = paises[0:3]   \n",
    "paises3"
   ]
  },
  {
   "cell_type": "markdown",
   "metadata": {},
   "source": [
    "#### Ejercicio 4: Jugando con las listas\n",
    "¿Cuál es el resultado de sumar la lista de paises con la lista de población?"
   ]
  },
  {
   "cell_type": "code",
   "execution_count": null,
   "metadata": {},
   "outputs": [],
   "source": [
    "paises + pob_millones "
   ]
  },
  {
   "cell_type": "code",
   "execution_count": null,
   "metadata": {},
   "outputs": [],
   "source": [
    "paises.extend(pob_millones)\n",
    "paises"
   ]
  },
  {
   "cell_type": "code",
   "execution_count": null,
   "metadata": {},
   "outputs": [],
   "source": [
    "paises.append(pob_millones)\n",
    "paises"
   ]
  },
  {
   "cell_type": "markdown",
   "metadata": {},
   "source": [
    "### Tuplas\n",
    "\n",
    "Es una secuencia:\n",
    "- Ordenada\n",
    "- Inmutable\n",
    "- Admite valores repetidos\n",
    "- Admite distintos tipos de elementos\n",
    "- Se usan para mantener juntos varios elementos \n",
    "\n",
    "¿Cómo se define una tupla? Con paréntesis **()**"
   ]
  },
  {
   "cell_type": "code",
   "execution_count": null,
   "metadata": {},
   "outputs": [],
   "source": [
    "# Algunos ejemplos\n",
    "argentina = ('ARG', 44939)\n",
    "bolivia = ('BOL', 11513)\n",
    "brasil = ('BRA', 211050)"
   ]
  },
  {
   "cell_type": "markdown",
   "metadata": {},
   "source": [
    "¿Cómo modificar, agregar o eliminar un elemento?"
   ]
  },
  {
   "cell_type": "code",
   "execution_count": null,
   "metadata": {},
   "outputs": [],
   "source": [
    "argentina[0] = 'ARGEN'"
   ]
  },
  {
   "cell_type": "markdown",
   "metadata": {},
   "source": [
    "¿Cómo saber el largo de una tupla? len()"
   ]
  },
  {
   "cell_type": "code",
   "execution_count": null,
   "metadata": {},
   "outputs": [],
   "source": [
    "len(argentina)"
   ]
  },
  {
   "cell_type": "markdown",
   "metadata": {},
   "source": [
    "#### Tuplas: índices\n",
    "\n",
    "¿Cómo acceder a un elemento? Indexando (desde 0 a N o -1)."
   ]
  },
  {
   "cell_type": "code",
   "execution_count": null,
   "metadata": {},
   "outputs": [],
   "source": [
    "bolivia[0]"
   ]
  },
  {
   "cell_type": "code",
   "execution_count": null,
   "metadata": {},
   "outputs": [],
   "source": [
    "bolivia[1] # equivalente a bolivia[-2]"
   ]
  },
  {
   "cell_type": "markdown",
   "metadata": {},
   "source": [
    "#### Ejercicio 5: Jugando con las Tuplas\n",
    "¿Cómo acceder a un conjuntos de elementos?"
   ]
  },
  {
   "cell_type": "code",
   "execution_count": null,
   "metadata": {},
   "outputs": [],
   "source": [
    "argentina[:]"
   ]
  },
  {
   "cell_type": "code",
   "execution_count": null,
   "metadata": {},
   "outputs": [],
   "source": [
    "argentina[1:]"
   ]
  },
  {
   "cell_type": "code",
   "execution_count": null,
   "metadata": {},
   "outputs": [],
   "source": [
    "argentina[:2] # equivalente a argentina[:-1]"
   ]
  },
  {
   "cell_type": "markdown",
   "metadata": {},
   "source": [
    "### Conjuntos (sets)\n",
    "\n",
    "Es una secuencia:\n",
    "- No ordenada\n",
    "- Mutable\n",
    "- No admite valores repetidos\n",
    "- Admite distintos tipos de elementos\n",
    "\n",
    "¿Cómo se define un set? Con `set([ ])`"
   ]
  },
  {
   "cell_type": "code",
   "execution_count": null,
   "metadata": {},
   "outputs": [],
   "source": [
    "chl_limit = set(['ARG', 'BOL', 'PER'])\n",
    "print(chl_limit)\n",
    "\n",
    "lim = ['URY', 'BRA', 'PRY', 'CHL', 'BOL']\n",
    "arg_limit = set(lim)\n",
    "print(arg_limit)"
   ]
  },
  {
   "cell_type": "markdown",
   "metadata": {},
   "source": [
    "Importante! Pensemos en los sets como los conjuntos en matemática...\n",
    "- Notar que el orden en que vemos los elementos del set no es igual al orden como lo especificamos. Esto es porque los sets son no ordenados. (En realidad hay un orden interno que Python sigue, que tiene que ver con el hash de cada elemento -esto para optimizar las estructuras, después veremos algo más sobre esto-)"
   ]
  },
  {
   "cell_type": "markdown",
   "metadata": {},
   "source": [
    "¿Cómo saber el largo de un set? len( )"
   ]
  },
  {
   "cell_type": "code",
   "execution_count": null,
   "metadata": {},
   "outputs": [],
   "source": [
    "len(arg_limit)"
   ]
  },
  {
   "cell_type": "markdown",
   "metadata": {},
   "source": [
    "#### Sets: no ordenados\n",
    "\n",
    "No se puede acceder ni modificar un elemento"
   ]
  },
  {
   "cell_type": "code",
   "execution_count": null,
   "metadata": {},
   "outputs": [],
   "source": [
    "chl_limit[:]"
   ]
  },
  {
   "cell_type": "code",
   "execution_count": null,
   "metadata": {},
   "outputs": [],
   "source": [
    "chl_limit[1] # no podemos indexar porque no hay un orden"
   ]
  },
  {
   "cell_type": "markdown",
   "metadata": {},
   "source": [
    "#### Sets: métodos básicos"
   ]
  },
  {
   "cell_type": "markdown",
   "metadata": {},
   "source": [
    "Agregar objetos: add()"
   ]
  },
  {
   "cell_type": "code",
   "execution_count": null,
   "metadata": {},
   "outputs": [],
   "source": [
    "arg_limit.add('ARG')\n",
    "chl_limit.add('CHL')\n",
    "print(arg_limit)\n",
    "print(chl_limit)"
   ]
  },
  {
   "cell_type": "markdown",
   "metadata": {},
   "source": [
    "Unir dos sets: union()"
   ]
  },
  {
   "cell_type": "code",
   "execution_count": null,
   "metadata": {},
   "outputs": [],
   "source": [
    "ar_cl_limit = arg_limit.union(chl_limit)\n",
    "print(ar_cl_limit)"
   ]
  },
  {
   "cell_type": "markdown",
   "metadata": {},
   "source": [
    "Notar que si hay valores que ya estaban, no se repiten (porque los sets no admiten valores repetidos)"
   ]
  },
  {
   "cell_type": "markdown",
   "metadata": {},
   "source": [
    "Eliminar objetos: remove, discard, pop"
   ]
  },
  {
   "cell_type": "code",
   "execution_count": null,
   "metadata": {},
   "outputs": [],
   "source": [
    "arg_limit.remove('ARG')\n",
    "print(arg_limit)\n",
    "\n",
    "chl_limit.discard('CHL')\n",
    "print(chl_limit)\n",
    "\n",
    "arg_limit.pop() \n",
    "print(arg_limit)\n",
    "\n",
    "# Volvemos a agregar el que se eliminó\n",
    "arg_limit.add('URY')\n",
    "print(arg_limit)"
   ]
  },
  {
   "cell_type": "markdown",
   "metadata": {},
   "source": [
    "¿Cómo saber la intersección y las diferencias de dos sets?"
   ]
  },
  {
   "cell_type": "code",
   "execution_count": null,
   "metadata": {},
   "outputs": [],
   "source": [
    "arg_limit.intersection(chl_limit)"
   ]
  },
  {
   "cell_type": "code",
   "execution_count": null,
   "metadata": {},
   "outputs": [],
   "source": [
    "arg_limit.difference(chl_limit)"
   ]
  },
  {
   "cell_type": "markdown",
   "metadata": {},
   "source": [
    "¿Cómo saber si un set es subset de otro o disjunto?"
   ]
  },
  {
   "cell_type": "code",
   "execution_count": null,
   "metadata": {},
   "outputs": [],
   "source": [
    "chl_limit.issubset(arg_limit)"
   ]
  },
  {
   "cell_type": "code",
   "execution_count": null,
   "metadata": {},
   "outputs": [],
   "source": [
    "chl_limit.isdisjoint(arg_limit) "
   ]
  },
  {
   "cell_type": "markdown",
   "metadata": {},
   "source": [
    "#### Sets: copias y referencias"
   ]
  },
  {
   "cell_type": "markdown",
   "metadata": {},
   "source": [
    "¿Cómo hacer una referencia de un set?"
   ]
  },
  {
   "cell_type": "code",
   "execution_count": null,
   "metadata": {},
   "outputs": [],
   "source": [
    "arg_limit = set(['URY', 'BRA', 'PRY', 'CHL', 'BOL'])\n",
    "pry_limit = arg_limit\n",
    "pry_limit.remove('CHL')\n",
    "\n",
    "print(pry_limit)\n",
    "print(arg_limit) # Se borra CHL de este set también!"
   ]
  },
  {
   "cell_type": "code",
   "execution_count": null,
   "metadata": {},
   "outputs": [],
   "source": [
    "# Primero agreguemos CHL\n",
    "arg_limit.add('CHL') "
   ]
  },
  {
   "cell_type": "markdown",
   "metadata": {},
   "source": [
    "¿Cómo hacer una copia independiente del set?"
   ]
  },
  {
   "cell_type": "code",
   "execution_count": null,
   "metadata": {},
   "outputs": [],
   "source": [
    "pry_limit = arg_limit.copy()\n",
    "pry_limit.remove('CHL')\n",
    "\n",
    "print(pry_limit)\n",
    "print(arg_limit) # Ahora no se borra CHL"
   ]
  },
  {
   "cell_type": "markdown",
   "metadata": {},
   "source": [
    "#### Ejercicio 6: Sets y tuplas: pregunta\n",
    "¿Cuál es un posible valor de temp1?"
   ]
  },
  {
   "cell_type": "code",
   "execution_count": null,
   "metadata": {},
   "outputs": [],
   "source": [
    "pry_limit = set(['URY', 'BRA', 'BOL'])\n",
    "print(pry_limit)\n",
    "temp1 = pry_limit.pop()"
   ]
  },
  {
   "cell_type": "markdown",
   "metadata": {},
   "source": [
    "a) {'URY', 'BRA', 'BOL'}\n",
    "\n",
    "b) {'BRA', 'BOL'}\n",
    "\n",
    "c) 'URY'\n",
    "\n",
    "d) 'BRA'\n",
    "\n",
    "e) 'BOL'"
   ]
  },
  {
   "cell_type": "code",
   "execution_count": null,
   "metadata": {},
   "outputs": [],
   "source": [
    "print(temp1)"
   ]
  },
  {
   "cell_type": "markdown",
   "metadata": {},
   "source": [
    "### Diccionarios\n",
    "\n",
    "Son conjuntos de *claves:valores* (keys:values). Las claves deben ser únicas (y hashables). \n",
    "Los valores se pueden modificar pero las claves no.\n",
    "¿Cómo se define un diccionario? con **{ }**"
   ]
  },
  {
   "cell_type": "markdown",
   "metadata": {},
   "source": [
    "La función `hash()` asigna un número (pseudo random) a un elemento inmutable. Veamos algunos ejemplos"
   ]
  },
  {
   "cell_type": "code",
   "execution_count": null,
   "metadata": {},
   "outputs": [],
   "source": [
    "hash(\"hola\")"
   ]
  },
  {
   "cell_type": "code",
   "execution_count": null,
   "metadata": {},
   "outputs": [],
   "source": [
    "hash([1, 2, 3])\n",
    "# El error ocurre porque las listas son mutables, por ende no hasheables"
   ]
  },
  {
   "cell_type": "code",
   "execution_count": null,
   "metadata": {},
   "outputs": [],
   "source": [
    "hash((1, 2))"
   ]
  },
  {
   "cell_type": "markdown",
   "metadata": {},
   "source": [
    "Ahora vamos con los diccionarios"
   ]
  },
  {
   "cell_type": "code",
   "execution_count": null,
   "metadata": {},
   "outputs": [],
   "source": [
    "arg_carac = {'cod': 'ARG', 'pob_millones': 45, 'gdp_millones': 'N'}\n",
    "bol_carac = {'cod': 'BOL', 'pob_millones': 11.5, 'gdp_millones': 'N'}\n",
    "print(bol_carac)"
   ]
  },
  {
   "cell_type": "markdown",
   "metadata": {},
   "source": [
    "¿Cómo saber el largo de un dicionario? len( )"
   ]
  },
  {
   "cell_type": "code",
   "execution_count": null,
   "metadata": {},
   "outputs": [],
   "source": [
    "len(bol_carac) "
   ]
  },
  {
   "cell_type": "code",
   "execution_count": null,
   "metadata": {},
   "outputs": [],
   "source": [
    "# Es equivalente a \n",
    "len(bol_carac.items())"
   ]
  },
  {
   "cell_type": "markdown",
   "metadata": {},
   "source": [
    "¿Cómo acceder a un elemento? por la clave o key"
   ]
  },
  {
   "cell_type": "code",
   "execution_count": null,
   "metadata": {},
   "outputs": [],
   "source": [
    "bol_carac['cod']"
   ]
  },
  {
   "cell_type": "code",
   "execution_count": null,
   "metadata": {},
   "outputs": [],
   "source": [
    "bol_carac['gdp_millones']"
   ]
  },
  {
   "cell_type": "markdown",
   "metadata": {},
   "source": [
    "¿Cómo cambiar un valor?"
   ]
  },
  {
   "cell_type": "code",
   "execution_count": null,
   "metadata": {},
   "outputs": [],
   "source": [
    "print(bol_carac)"
   ]
  },
  {
   "cell_type": "code",
   "execution_count": null,
   "metadata": {},
   "outputs": [],
   "source": [
    "bol_carac['gdp_millones'] = 40895"
   ]
  },
  {
   "cell_type": "code",
   "execution_count": null,
   "metadata": {},
   "outputs": [],
   "source": [
    "print(bol_carac)"
   ]
  },
  {
   "cell_type": "markdown",
   "metadata": {},
   "source": [
    "¿Cómo crear una nueva clave:valor?"
   ]
  },
  {
   "cell_type": "code",
   "execution_count": null,
   "metadata": {},
   "outputs": [],
   "source": [
    "bol_carac['gdp_pc'] = bol_carac['gdp_millones']/bol_carac['pob_millones']"
   ]
  },
  {
   "cell_type": "code",
   "execution_count": null,
   "metadata": {},
   "outputs": [],
   "source": [
    "print(bol_carac)"
   ]
  },
  {
   "cell_type": "markdown",
   "metadata": {},
   "source": [
    "¿Cómo borrar una clave:valor?"
   ]
  },
  {
   "cell_type": "code",
   "execution_count": null,
   "metadata": {},
   "outputs": [],
   "source": [
    "bol_carac.pop('gdp_pc')\n",
    "bol_carac"
   ]
  },
  {
   "cell_type": "markdown",
   "metadata": {},
   "source": [
    "### Diccionarios: métodos básicos"
   ]
  },
  {
   "cell_type": "markdown",
   "metadata": {},
   "source": [
    "¿Cómo saber las claves o valores de un diccionario?"
   ]
  },
  {
   "cell_type": "code",
   "execution_count": null,
   "metadata": {},
   "outputs": [],
   "source": [
    "bol_carac.keys()"
   ]
  },
  {
   "cell_type": "code",
   "execution_count": null,
   "metadata": {},
   "outputs": [],
   "source": [
    "bol_carac.values()"
   ]
  },
  {
   "cell_type": "code",
   "execution_count": null,
   "metadata": {},
   "outputs": [],
   "source": [
    "bol_carac.items()"
   ]
  },
  {
   "cell_type": "markdown",
   "metadata": {},
   "source": [
    "¿Cómo saber si una clave está en un diccionario?"
   ]
  },
  {
   "cell_type": "code",
   "execution_count": null,
   "metadata": {},
   "outputs": [],
   "source": [
    "'cod' in bol_carac # equivalente a 'cod' in bol_carac.keys()"
   ]
  },
  {
   "cell_type": "markdown",
   "metadata": {},
   "source": [
    "¿Cómo obtener un valor cuando no se si la clave existe?"
   ]
  },
  {
   "cell_type": "code",
   "execution_count": null,
   "metadata": {},
   "outputs": [],
   "source": [
    "arg_carac[\"gdp\"]"
   ]
  },
  {
   "cell_type": "code",
   "execution_count": null,
   "metadata": {},
   "outputs": [],
   "source": [
    "bol_carac[\"gdp_pc\"]"
   ]
  },
  {
   "cell_type": "code",
   "execution_count": null,
   "metadata": {},
   "outputs": [],
   "source": [
    "# Para que no nos tire error: si el valor no está, entonces 'No value'\n",
    "bol_carac.get(\"gdp_pc\", 'No value') "
   ]
  },
  {
   "cell_type": "markdown",
   "metadata": {},
   "source": [
    "¿Cómo crear un diccionario con los datos de una lista?"
   ]
  },
  {
   "cell_type": "code",
   "execution_count": null,
   "metadata": {},
   "outputs": [],
   "source": [
    "paises = ['ARG', 'BOL', 'BRA', 'CHI', 'PRY', 'URY']\n",
    "print(paises)\n",
    "\n",
    "# Armamos el diccionario usando los códigos de países en la lista como keys\n",
    "info_paises = dict.fromkeys(paises, '')\n",
    "info_paises"
   ]
  },
  {
   "cell_type": "code",
   "execution_count": null,
   "metadata": {},
   "outputs": [],
   "source": [
    "# Qué pasaría si intentamos definir una nueva clave con una lista. Veamos:\n",
    "info_paises[[1, 2, 3]] = [100, 200, 300]"
   ]
  },
  {
   "cell_type": "markdown",
   "metadata": {},
   "source": [
    "Lo que pasó es que la lista no puede ser una key para el diccionario (porque las listas son mutables y por ende no hasheables)"
   ]
  },
  {
   "cell_type": "code",
   "execution_count": null,
   "metadata": {},
   "outputs": [],
   "source": [
    "# Ahora tomamos los códigos de los países para crear las keys y los datos de población para los values\n",
    "pob_millones = [45 , 11.5 , 21 , 18.9 , 7 , 3.5]\n",
    "poblacion = dict(zip(paises, pob_millones))\n",
    "poblacion"
   ]
  },
  {
   "cell_type": "markdown",
   "metadata": {},
   "source": [
    "Un diccionario puede ser valor de otro diccionario"
   ]
  },
  {
   "cell_type": "code",
   "execution_count": null,
   "metadata": {},
   "outputs": [],
   "source": [
    "bra_carac = {'cod':'BRA', 'pob_millones':211, 'gdp_millones':1810612}\n",
    "chl_carac = {'cod':'CHL', 'pob_millones':18.9, 'gdp_millones':352664}\n",
    "pry_carac = {'cod':'PRY', 'pob_millones':7, 'gdp_millones':39197}\n",
    "ury_carac = {'cod':'URY', 'pob_millones':3.4, 'gdp_millones':63741}\n",
    "\n",
    "paises_info = {'argentina':arg_carac,\n",
    "               'bolivia':bol_carac, \n",
    "               'brasil':bra_carac, \n",
    "               'chile':chl_carac, \n",
    "               'paraguay':pry_carac, \n",
    "               'uruguay':ury_carac}\n",
    "paises_info"
   ]
  },
  {
   "cell_type": "code",
   "execution_count": null,
   "metadata": {},
   "outputs": [],
   "source": [
    "paises_info['brasil']"
   ]
  },
  {
   "cell_type": "code",
   "execution_count": null,
   "metadata": {},
   "outputs": [],
   "source": [
    "paises_info['brasil']['pob_millones']"
   ]
  },
  {
   "cell_type": "markdown",
   "metadata": {},
   "source": [
    "#### Ejercicio 7: Jugando con los Diccionarios\n",
    "Hacer la prueba de diccionarios abajo sobre los key repetidos."
   ]
  },
  {
   "cell_type": "code",
   "execution_count": null,
   "metadata": {},
   "outputs": [],
   "source": [
    "dict_prueba = {'a':1, 'a':2}\n",
    "# Cómo creen que será la longitud del diccionario y el valor de 'a'?\n",
    "print(\"Longitud del diccionario:\", len(dict_prueba))\n",
    "dict_prueba['a']"
   ]
  },
  {
   "cell_type": "markdown",
   "metadata": {},
   "source": [
    "Si las keys ya existen, no se repiten sino que se pisan, y con ello, su valor"
   ]
  },
  {
   "cell_type": "markdown",
   "metadata": {},
   "source": [
    "#### En resumen...\n",
    "\n",
    "|          | Listas | Tuplas | Sets | Diccionarios |\n",
    "|:--------|:--------:|:--------:|:--------:|:--------:|\n",
    "| Se definen con   |  [ ]   |  ( )   | set([ ])  | { } |\n",
    "| Ordenados?       |  Sí   |  Sí  |  No  |  No  |\n",
    "| Mutables?        |  Sí   |  No  |  Sí  |  Sí  |\n",
    "| Admite val. repetidos?  | Sí | Sí | No | keys: no, values: sí|\n",
    "| Admite distintos tipos? | Sí | Sí | Sí | keys: sí (hasheable), values: sí|\n",
    "| Uso | P/colecciones simples, que se modifican seguido| P/ datos que no van a cambiar. Puede ser la key de un diccionario. Sirve p/ mantener juntos varios objetos | P/ chequear pertenencia y eliminar duplicados. P/ elementos únicos | P/ asociaciones lógicas de key:value. P/ búsquedas rápidas"
   ]
  },
  {
   "cell_type": "markdown",
   "metadata": {},
   "source": [
    "### Sentencias condicionales y ciclos"
   ]
  },
  {
   "cell_type": "markdown",
   "metadata": {},
   "source": [
    "#### Bucles: for loop\n",
    "    \n",
    "**Bucle**: o *loop* es cuando usamos una sentencia para indicarle a la computadora que repita una serie de instrucciones hasta que se deje de cumplir una regla definida.\n",
    "\n",
    "for loop: para cada X de Y, hacer Z. `for` recorre una **lista**.  "
   ]
  },
  {
   "cell_type": "code",
   "execution_count": null,
   "metadata": {},
   "outputs": [],
   "source": [
    "# Armamos una lista de paises\n",
    "lista_paises = [\"Argentina\", \"Bolivia\", \"Chile\"]\n",
    "\n",
    "# Construimos for loop\n",
    "for pais in lista_paises : # el \":\" es necesario\n",
    "    print (\"Nombre: \" + pais ) # la sangría (indentación) es necesaria"
   ]
  },
  {
   "cell_type": "markdown",
   "metadata": {},
   "source": [
    "for loop con enumerate. `enumerate` en *lists* permite contar el número de \"vuelta\""
   ]
  },
  {
   "cell_type": "code",
   "execution_count": null,
   "metadata": {},
   "outputs": [],
   "source": [
    "for pais in enumerate(lista_paises):\n",
    "    print(pais) # Imprime una tupla con el índice y el país\n"
   ]
  },
  {
   "cell_type": "code",
   "execution_count": null,
   "metadata": {},
   "outputs": [],
   "source": [
    "# Si queremos que sea un string:\n",
    "for n, pais in enumerate(lista_paises):\n",
    "    print(n, ':', pais) \n"
   ]
  },
  {
   "cell_type": "code",
   "execution_count": null,
   "metadata": {},
   "outputs": [],
   "source": [
    "# Si queremos cambiar el índice:\n",
    "for n, pais in enumerate(lista_paises, 100):\n",
    "    print(n, ':', pais) "
   ]
  },
  {
   "cell_type": "code",
   "execution_count": null,
   "metadata": {},
   "outputs": [],
   "source": [
    "# Ahora usando las listas de países y población\n",
    "paises = ['ARG', 'BOL', 'BRA', 'CHL', 'PRY', 'URY']\n",
    "pob_millones = [45 , 11.5 , 21 , 18.9 , 7 , 3.5]\n",
    "for n, pais in enumerate(paises):\n",
    "    print(pais, ':', pob_millones[n]) \n",
    "# En este ejemplo, como ambas listas tienen la misma longitud podemos indexar por el mismo elemento"
   ]
  },
  {
   "cell_type": "markdown",
   "metadata": {},
   "source": [
    "for loop con range. \n",
    "\n",
    "`range()` crea una lista de números enteros para recorrer, `range(start, stop)` crea una lista de enteros entre start y stop, o `range(num)` crea una lista de cero hasta num, o `range (start, stop, step)` recorre una lista en incrementos de a \"step\"."
   ]
  },
  {
   "cell_type": "code",
   "execution_count": null,
   "metadata": {},
   "outputs": [],
   "source": [
    "for i in range(2, 8, 2):\n",
    "    print(i)"
   ]
  },
  {
   "cell_type": "markdown",
   "metadata": {},
   "source": [
    "#### Bucles: while loop\n",
    "\n",
    "while loop: mientras X cumpla la condición Y, hacer Z.  `while`, se ejecuta mientras una condición particular es` True`. "
   ]
  },
  {
   "cell_type": "code",
   "execution_count": null,
   "metadata": {},
   "outputs": [],
   "source": [
    "x = 0\n",
    "\n",
    "while x < 3 :\n",
    "    print(x)\n",
    "    x = x + 1 # es equivalente a x += 1"
   ]
  },
  {
   "cell_type": "code",
   "execution_count": null,
   "metadata": {},
   "outputs": [],
   "source": [
    "# Defino cupo máximo\n",
    "cupos_libres = 3\n",
    "\n",
    "# Ahora el while loop\n",
    "while cupos_libres > 0: \n",
    "    print('Inscripción aceptada')\n",
    "    cupos_libres -= 1\n",
    "print('Cupo lleno') # esta línea esta fuera del loop (después vamos a ver que podríamos meterla dentro del loop)"
   ]
  },
  {
   "cell_type": "markdown",
   "metadata": {},
   "source": [
    "#### Control de flujo\n",
    "\n",
    "Usamos sentencias condicionales para construir programas (scripts que respondan a condiciones definidas)\n",
    "\n",
    "Sentencia condicional: if A, X, elif B, Y, else C, Z"
   ]
  },
  {
   "cell_type": "code",
   "execution_count": null,
   "metadata": {},
   "outputs": [],
   "source": [
    "edad = 35\n",
    "\n",
    "# Acá empieza la sentencia condicional\n",
    "if edad < 18: # el \":\" es importante\n",
    "    print (\"Menor de edad\") # importante la indentación\n",
    "elif edad >= 18 and edad <= 30:\n",
    "    print (\"Mayor de edad\")\n",
    "else:\n",
    "    print (\"No se admiten Mayores de 30\")\n"
   ]
  },
  {
   "cell_type": "markdown",
   "metadata": {},
   "source": [
    "Podemos combinar los tipos de sentencias. En este casos for loop y condicional"
   ]
  },
  {
   "cell_type": "code",
   "execution_count": null,
   "metadata": {},
   "outputs": [],
   "source": [
    "listado_numeros = [10, 11, 12, 13]\n",
    "\n",
    "for numero in listado_numeros:\n",
    "    if numero % 2 == 0: # se acuerdan del módulo?\n",
    "        print(numero, \"es par\")\n",
    "    else:\n",
    "        print(numero, \"es impar\")"
   ]
  },
  {
   "cell_type": "code",
   "execution_count": null,
   "metadata": {},
   "outputs": [],
   "source": [
    "# Defino cupo máximo\n",
    "cupos_libres = 3\n",
    "\n",
    "# Ahora el while loop\n",
    "while cupos_libres > 0: \n",
    "    print(cupos_libres,'Inscripción aceptada')\n",
    "    cupos_libres -= 1\n",
    "    if cupos_libres == 0:\n",
    "        print('Cupo lleno') "
   ]
  },
  {
   "cell_type": "code",
   "execution_count": null,
   "metadata": {},
   "outputs": [],
   "source": []
  }
 ],
 "metadata": {
  "kernelspec": {
   "display_name": "Python [conda env:base] *",
   "language": "python",
   "name": "conda-base-py"
  },
  "language_info": {
   "codemirror_mode": {
    "name": "ipython",
    "version": 3
   },
   "file_extension": ".py",
   "mimetype": "text/x-python",
   "name": "python",
   "nbconvert_exporter": "python",
   "pygments_lexer": "ipython3",
   "version": "3.12.4"
  }
 },
 "nbformat": 4,
 "nbformat_minor": 4
}
