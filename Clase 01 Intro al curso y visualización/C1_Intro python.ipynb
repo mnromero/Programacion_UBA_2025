{
 "cells": [
  {
   "cell_type": "markdown",
   "metadata": {},
   "source": [
    "# Big Data y Machine Learning (UBA) 2025\n",
    "\n",
    "\n",
    "## Clase 1. Introducción a Python\n",
    "\n",
    "El objetivo de esta clase es que puedan familiarizarse con algunos objetos de Python y que empiecen a usar Jupyter Notebook."
   ]
  },
  {
   "cell_type": "markdown",
   "metadata": {},
   "source": [
    "### Sobre Jupyter Notebook (JN)\n",
    "\n",
    "JN trabaja con celdas. Éstas pueden ser de distintos tipos: código (*Code*) y texto (*Markdown*). Así, podemos combinar bloques de texto y bloques de código fácilmente en un mismo archivo (.ipynb). Notar que esta celda dice \"Markdown\" en la barra superior."
   ]
  },
  {
   "cell_type": "code",
   "execution_count": 5,
   "metadata": {},
   "outputs": [
    {
     "name": "stdout",
     "output_type": "stream",
     "text": [
      "Mi primer linea de codigo\n"
     ]
    }
   ],
   "source": [
    "# Esta es una celda de codigo (con # ponemos comentarios). En la siguiente linea tenemos una funcion. \n",
    "# En esta celda de codigo, vemos unos corchetes del lado izquierdo []:\n",
    "print(\"Mi primer linea de codigo\")  "
   ]
  },
  {
   "cell_type": "markdown",
   "metadata": {},
   "source": [
    "En el margen de cada celda vemos un color (verde o azul). El <font color=lightgreen>verde</font> nos indica que estamos en modo edición, mientras que el <font color=blue>azul</font>, que estamos en modo navegación. \n",
    "\n",
    "Cuando estamos en modo navegación (<font color=blue>azul</font>) podemos cambiar de celda, agregar y quitar celdas con las flechas del teclado. Si queremos pasar a modo edición (<font color=lightgreen>verde</font>) presionamos enter o clickeamos. \n",
    "Si estamos en modo edición y queremos pasar a modo navegación, presionamos Esc en el teclado.\n",
    "\n",
    "Para agregar celdas, si estamos en modo navegación, podemos presionar la tecla 'a' para crear una celda sobre la celda actual  y 'b' para crear una celda luego de la celda en la que estamos. Con '$x$' eliminamos la celda actual.\n",
    "Para definir que la celda en la que estamos sea de texto, presionamos la tecla 'm'. Para determinar que sea de código, presionamos 'y'.\n",
    "\n",
    "A diferencia de la consola o de otros programas, el código no se ejecuta apretando *'enter'*. El código no se ejecuta por línea, sino que por bloque o celda. Presionando las teclas *'shift'+'enter'* corremos el código de la celda actual y pasamos a la siguiente. Presionando *'control'+'enter'* (o *'Cmd+return'* en Mac) corremos el código y nos mantenemos en la misma celda. "
   ]
  },
  {
   "cell_type": "markdown",
   "metadata": {},
   "source": [
    "# Ahora sí, sobre algunos objetos en Python\n",
    "## Datos numéricos, de texto y booleanos\n",
    "\n",
    "### <u>Datos numéricos<u>\n",
    "\n",
    "**Enteros**: o *integer*, son valores númericos enteros, positivos o negativos, de longitud ilimitada.\n",
    "\n",
    "**De coma flotante**: o *float* son valores númericos con decimales, positivos o negativos. En su versión nativa guarda hasta 16 decimales."
   ]
  },
  {
   "cell_type": "code",
   "execution_count": 11,
   "metadata": {
    "scrolled": true
   },
   "outputs": [
    {
     "data": {
      "text/plain": [
       "-10"
      ]
     },
     "execution_count": 11,
     "metadata": {},
     "output_type": "execute_result"
    }
   ],
   "source": [
    "# Enteros\n",
    "-10\n"
   ]
  },
  {
   "cell_type": "code",
   "execution_count": 15,
   "metadata": {},
   "outputs": [
    {
     "data": {
      "text/plain": [
       "1.689355"
      ]
     },
     "execution_count": 15,
     "metadata": {},
     "output_type": "execute_result"
    }
   ],
   "source": [
    "# De coma flotante\n",
    "1.689355"
   ]
  },
  {
   "cell_type": "code",
   "execution_count": 19,
   "metadata": {},
   "outputs": [],
   "source": [
    "# Creamos un objeto con el número 3\n",
    "myint = 3"
   ]
  },
  {
   "cell_type": "code",
   "execution_count": 21,
   "metadata": {},
   "outputs": [
    {
     "name": "stdout",
     "output_type": "stream",
     "text": [
      "3\n"
     ]
    }
   ],
   "source": [
    "print(myint)"
   ]
  },
  {
   "cell_type": "code",
   "execution_count": 23,
   "metadata": {},
   "outputs": [
    {
     "data": {
      "text/plain": [
       "3"
      ]
     },
     "execution_count": 23,
     "metadata": {},
     "output_type": "execute_result"
    }
   ],
   "source": [
    "myint"
   ]
  },
  {
   "cell_type": "code",
   "execution_count": 29,
   "metadata": {},
   "outputs": [],
   "source": [
    "# Cuidado al convertir uno al otro: \n",
    "myfloat = float(myint)"
   ]
  },
  {
   "cell_type": "code",
   "execution_count": 31,
   "metadata": {},
   "outputs": [
    {
     "name": "stdout",
     "output_type": "stream",
     "text": [
      "3.0\n"
     ]
    }
   ],
   "source": [
    "print(myfloat)"
   ]
  },
  {
   "cell_type": "code",
   "execution_count": 33,
   "metadata": {},
   "outputs": [],
   "source": [
    "# Reescribimos sobre el objeto creado (OJO)\n",
    "myint = int(7.8)"
   ]
  },
  {
   "cell_type": "code",
   "execution_count": 35,
   "metadata": {},
   "outputs": [
    {
     "name": "stdout",
     "output_type": "stream",
     "text": [
      "7\n"
     ]
    }
   ],
   "source": [
    "print(myint)"
   ]
  },
  {
   "cell_type": "code",
   "execution_count": 37,
   "metadata": {},
   "outputs": [
    {
     "name": "stdout",
     "output_type": "stream",
     "text": [
      "36\n",
      "37\n"
     ]
    }
   ],
   "source": [
    "print(int(36.89))\n",
    "print(round(36.89))"
   ]
  },
  {
   "cell_type": "markdown",
   "metadata": {},
   "source": [
    "Noten que:\n",
    "- el programa nos resalta las palabras de distintos colores. `print` es un termino **\"protegido\"** y lo resalta en verde. El color dependerá del programa que usemos.\n",
    "- los comentarios se hacen usando #\n",
    "- para hacer comentarios más largos podemos usar los DocStrings (son otros tipo de comentarios, se usan más cuando se quiere dar una descripción de un módulo, función, etc. Esos se definen con comillas. Lo veremos más adelante)"
   ]
  },
  {
   "cell_type": "markdown",
   "metadata": {},
   "source": [
    "### <u>Datos  de Texto<u>\n",
    "\n",
    "*Caracteres*: son valores enmarcados entre comillas simples (' ') o dobles (\" \"). Al estar enmarcados, los valores son interpretados como texto (y no como números o operadores arimétricos). \n",
    "\n",
    "*Cadenas de caracteres*: o _string_ son una sucesión de caracteres enmarcados entre '' o \"\"."
   ]
  },
  {
   "cell_type": "code",
   "execution_count": 39,
   "metadata": {},
   "outputs": [
    {
     "name": "stdout",
     "output_type": "stream",
     "text": [
      "A\n",
      "b\n",
      "10\n",
      "r\n"
     ]
    }
   ],
   "source": [
    "# Caracteres\n",
    "print(\"A\")\n",
    "print(\"b\")\n",
    "print(\"10\")\n",
    "print('r')"
   ]
  },
  {
   "cell_type": "code",
   "execution_count": 41,
   "metadata": {},
   "outputs": [
    {
     "name": "stdout",
     "output_type": "stream",
     "text": [
      "Hola, mundo!\n",
      "Bienvenidos al curso de Big Data\n"
     ]
    }
   ],
   "source": [
    "# Cadenas de caracteres\n",
    "print(\"Hola, mundo!\")\n",
    "print(\"Bienvenidos al curso de Big Data\")"
   ]
  },
  {
   "cell_type": "markdown",
   "metadata": {},
   "source": [
    "### <u>Booleanos<u>\n",
    "\n",
    "*Lógico*: o _booleano_ son expresiones que se evalúan a ser ciertas, es decir, adoptan uno de dos valores: True o False."
   ]
  },
  {
   "cell_type": "code",
   "execution_count": 43,
   "metadata": {},
   "outputs": [
    {
     "data": {
      "text/plain": [
       "True"
      ]
     },
     "execution_count": 43,
     "metadata": {},
     "output_type": "execute_result"
    }
   ],
   "source": [
    "\"texto\" == \"texto\""
   ]
  },
  {
   "cell_type": "code",
   "execution_count": 45,
   "metadata": {},
   "outputs": [
    {
     "data": {
      "text/plain": [
       "False"
      ]
     },
     "execution_count": 45,
     "metadata": {},
     "output_type": "execute_result"
    }
   ],
   "source": [
    "\"texto\" == \"Texto\""
   ]
  },
  {
   "cell_type": "code",
   "execution_count": 47,
   "metadata": {},
   "outputs": [
    {
     "name": "stdout",
     "output_type": "stream",
     "text": [
      "True\n"
     ]
    }
   ],
   "source": [
    "print(\"texto\" == \"texto\")"
   ]
  },
  {
   "cell_type": "code",
   "execution_count": 49,
   "metadata": {},
   "outputs": [],
   "source": [
    "mycart1 = \"este texto\""
   ]
  },
  {
   "cell_type": "code",
   "execution_count": 53,
   "metadata": {},
   "outputs": [
    {
     "data": {
      "text/plain": [
       "'este texto'"
      ]
     },
     "execution_count": 53,
     "metadata": {},
     "output_type": "execute_result"
    }
   ],
   "source": [
    "mycart1"
   ]
  },
  {
   "cell_type": "code",
   "execution_count": 55,
   "metadata": {},
   "outputs": [],
   "source": [
    "mycart = 3"
   ]
  },
  {
   "cell_type": "code",
   "execution_count": 57,
   "metadata": {},
   "outputs": [
    {
     "data": {
      "text/plain": [
       "False"
      ]
     },
     "execution_count": 57,
     "metadata": {},
     "output_type": "execute_result"
    }
   ],
   "source": [
    "mycart == mycart1"
   ]
  },
  {
   "cell_type": "code",
   "execution_count": 59,
   "metadata": {},
   "outputs": [
    {
     "data": {
      "text/plain": [
       "False"
      ]
     },
     "execution_count": 59,
     "metadata": {},
     "output_type": "execute_result"
    }
   ],
   "source": [
    "\"a\" == \"b\""
   ]
  },
  {
   "cell_type": "code",
   "execution_count": 61,
   "metadata": {},
   "outputs": [
    {
     "data": {
      "text/plain": [
       "True"
      ]
     },
     "execution_count": 61,
     "metadata": {},
     "output_type": "execute_result"
    }
   ],
   "source": [
    "\"texto\" != \"Texto\""
   ]
  },
  {
   "cell_type": "code",
   "execution_count": 63,
   "metadata": {},
   "outputs": [
    {
     "data": {
      "text/plain": [
       "True"
      ]
     },
     "execution_count": 63,
     "metadata": {},
     "output_type": "execute_result"
    }
   ],
   "source": [
    "10 > 9"
   ]
  },
  {
   "cell_type": "code",
   "execution_count": 65,
   "metadata": {},
   "outputs": [
    {
     "data": {
      "text/plain": [
       "True"
      ]
     },
     "execution_count": 65,
     "metadata": {},
     "output_type": "execute_result"
    }
   ],
   "source": [
    "10 >= 9"
   ]
  },
  {
   "cell_type": "code",
   "execution_count": 67,
   "metadata": {},
   "outputs": [
    {
     "data": {
      "text/plain": [
       "False"
      ]
     },
     "execution_count": 67,
     "metadata": {},
     "output_type": "execute_result"
    }
   ],
   "source": [
    "10 < 9"
   ]
  },
  {
   "cell_type": "markdown",
   "metadata": {},
   "source": [
    "#### Ejercicio 1: Tipos de datos: preguntas\n",
    "\n",
    "Vamos a probar algunas cosas. \n",
    "Para Python, ¿es igual un número escrito como entero o en formato de coma flotante? \n",
    "¿Y si está escrito como caracteres (*string*)? \n",
    "Prueben lo siguiente:"
   ]
  },
  {
   "cell_type": "code",
   "execution_count": null,
   "metadata": {},
   "outputs": [],
   "source": [
    "17 == 17.0\n"
   ]
  },
  {
   "cell_type": "code",
   "execution_count": null,
   "metadata": {},
   "outputs": [],
   "source": [
    "524 == \"524\""
   ]
  },
  {
   "cell_type": "markdown",
   "metadata": {},
   "source": [
    "¿Los strings o cadenas de caracteres, son sensibles al uso de \" \" o ' ' ? Prueben:"
   ]
  },
  {
   "cell_type": "code",
   "execution_count": null,
   "metadata": {},
   "outputs": [],
   "source": [
    " \"Argentina\" == 'Argentina'"
   ]
  },
  {
   "cell_type": "markdown",
   "metadata": {},
   "source": [
    "¿Los strings, o cadena de caracteres, son sensibles al uso de mayúsculas y minúsculas? Prueben lo siguiente:"
   ]
  },
  {
   "cell_type": "code",
   "execution_count": null,
   "metadata": {},
   "outputs": [],
   "source": [
    "\"Argentina\" == \"ARGENTINA\""
   ]
  },
  {
   "cell_type": "markdown",
   "metadata": {},
   "source": [
    "### Operaciones básicas"
   ]
  },
  {
   "cell_type": "markdown",
   "metadata": {},
   "source": [
    "#### Sumas y restas"
   ]
  },
  {
   "cell_type": "code",
   "execution_count": 69,
   "metadata": {},
   "outputs": [
    {
     "name": "stdout",
     "output_type": "stream",
     "text": [
      "250\n",
      "150.20000000000002\n"
     ]
    }
   ],
   "source": [
    "print(200 + 50)\n",
    "print(200.3 - 50.1)"
   ]
  },
  {
   "cell_type": "code",
   "execution_count": 71,
   "metadata": {},
   "outputs": [
    {
     "name": "stdout",
     "output_type": "stream",
     "text": [
      "57\n",
      "Suma = 77\n"
     ]
    }
   ],
   "source": [
    "suma = 30 + 47\n",
    "myint =7\n",
    "myin2 = 50 \n",
    "print(myint+myin2)\n",
    "print('Suma =', suma)"
   ]
  },
  {
   "cell_type": "code",
   "execution_count": 73,
   "metadata": {},
   "outputs": [
    {
     "name": "stdout",
     "output_type": "stream",
     "text": [
      "99\n"
     ]
    }
   ],
   "source": [
    "suma += 22 # Equivale a suma = suma + 22\n",
    "print(suma)"
   ]
  },
  {
   "cell_type": "markdown",
   "metadata": {},
   "source": [
    "#### Multiplicación y división"
   ]
  },
  {
   "cell_type": "code",
   "execution_count": 75,
   "metadata": {},
   "outputs": [
    {
     "name": "stdout",
     "output_type": "stream",
     "text": [
      "360\n",
      "111.2\n"
     ]
    }
   ],
   "source": [
    "print(120*3)\n",
    "print(444.8/4)"
   ]
  },
  {
   "cell_type": "markdown",
   "metadata": {},
   "source": [
    "#### Potencia"
   ]
  },
  {
   "cell_type": "code",
   "execution_count": 77,
   "metadata": {},
   "outputs": [
    {
     "data": {
      "text/plain": [
       "16"
      ]
     },
     "execution_count": 77,
     "metadata": {},
     "output_type": "execute_result"
    }
   ],
   "source": [
    "4**2"
   ]
  },
  {
   "cell_type": "code",
   "execution_count": 79,
   "metadata": {},
   "outputs": [
    {
     "data": {
      "text/plain": [
       "10"
      ]
     },
     "execution_count": 79,
     "metadata": {},
     "output_type": "execute_result"
    }
   ],
   "source": [
    "3*2+4"
   ]
  },
  {
   "cell_type": "markdown",
   "metadata": {},
   "source": [
    "#### Cociente de una división"
   ]
  },
  {
   "cell_type": "code",
   "execution_count": 81,
   "metadata": {},
   "outputs": [
    {
     "name": "stdout",
     "output_type": "stream",
     "text": [
      "4\n",
      "5\n",
      "4.0\n",
      "4.0\n"
     ]
    }
   ],
   "source": [
    "print(16//4)\n",
    "print(28//5)\n",
    "# El resultado es un dato de coma flotante si alguno de los operandos es float o un entero si ambos son enteros\n",
    "print(16.0//4)\n",
    "print(16//4.0)"
   ]
  },
  {
   "cell_type": "markdown",
   "metadata": {},
   "source": [
    "#### Resto de una división"
   ]
  },
  {
   "cell_type": "code",
   "execution_count": 83,
   "metadata": {},
   "outputs": [
    {
     "name": "stdout",
     "output_type": "stream",
     "text": [
      "3\n",
      "0\n"
     ]
    }
   ],
   "source": [
    "print(28%5)\n",
    "print(32%8)"
   ]
  },
  {
   "cell_type": "markdown",
   "metadata": {},
   "source": [
    "### Operaciones con strings"
   ]
  },
  {
   "cell_type": "markdown",
   "metadata": {},
   "source": [
    "#### Concatenar (sumar)"
   ]
  },
  {
   "cell_type": "code",
   "execution_count": 89,
   "metadata": {},
   "outputs": [
    {
     "data": {
      "text/plain": [
       "'Esto es concatenar dos strings'"
      ]
     },
     "execution_count": 89,
     "metadata": {},
     "output_type": "execute_result"
    }
   ],
   "source": [
    "\"Esto es\" + \" concatenar dos strings\""
   ]
  },
  {
   "cell_type": "code",
   "execution_count": 91,
   "metadata": {},
   "outputs": [
    {
     "data": {
      "text/plain": [
       "'a bb ccc'"
      ]
     },
     "execution_count": 91,
     "metadata": {},
     "output_type": "execute_result"
    }
   ],
   "source": [
    "# podemos concatener mas de 2 objetos strings\n",
    "\"a\" + \" bb\" + \" ccc\""
   ]
  },
  {
   "cell_type": "code",
   "execution_count": 95,
   "metadata": {},
   "outputs": [
    {
     "name": "stdout",
     "output_type": "stream",
     "text": [
      "Noelia Romero\n"
     ]
    }
   ],
   "source": [
    "# Podemos guardar en la memoria objetos string y crear un 3er objeto concatenado\n",
    "apellido = \"Romero\"\n",
    "nombre = 'Noelia'\n",
    "nom_completo = nombre + ' ' + apellido \n",
    "print(nom_completo)"
   ]
  },
  {
   "cell_type": "markdown",
   "metadata": {},
   "source": [
    "#### Repetir (multiplicar)"
   ]
  },
  {
   "cell_type": "code",
   "execution_count": 97,
   "metadata": {},
   "outputs": [
    {
     "data": {
      "text/plain": [
       "'Muy bueno!Muy bueno!Muy bueno!'"
      ]
     },
     "execution_count": 97,
     "metadata": {},
     "output_type": "execute_result"
    }
   ],
   "source": [
    "'Muy bueno!'*3"
   ]
  },
  {
   "cell_type": "markdown",
   "metadata": {},
   "source": [
    "## Operadores lógicos\n",
    "\n",
    "*Operadores lógicos*: son `and`, `or` y `not` y dan como resultados un valor booleano (True o False)."
   ]
  },
  {
   "cell_type": "code",
   "execution_count": 99,
   "metadata": {},
   "outputs": [
    {
     "data": {
      "text/plain": [
       "True"
      ]
     },
     "execution_count": 99,
     "metadata": {},
     "output_type": "execute_result"
    }
   ],
   "source": [
    "4 < 7 and 4 > 1  "
   ]
  },
  {
   "cell_type": "code",
   "execution_count": 101,
   "metadata": {},
   "outputs": [
    {
     "data": {
      "text/plain": [
       "True"
      ]
     },
     "execution_count": 101,
     "metadata": {},
     "output_type": "execute_result"
    }
   ],
   "source": [
    "4 == 1 or 4 > 1"
   ]
  },
  {
   "cell_type": "code",
   "execution_count": 103,
   "metadata": {},
   "outputs": [
    {
     "data": {
      "text/plain": [
       "False"
      ]
     },
     "execution_count": 103,
     "metadata": {},
     "output_type": "execute_result"
    }
   ],
   "source": [
    "4 == 1 or 4 > 9"
   ]
  },
  {
   "cell_type": "code",
   "execution_count": 105,
   "metadata": {},
   "outputs": [
    {
     "data": {
      "text/plain": [
       "True"
      ]
     },
     "execution_count": 105,
     "metadata": {},
     "output_type": "execute_result"
    }
   ],
   "source": [
    "not (4 == 1)"
   ]
  },
  {
   "cell_type": "markdown",
   "metadata": {},
   "source": [
    "## Definición de variables"
   ]
  },
  {
   "cell_type": "markdown",
   "metadata": {},
   "source": [
    "*Variable*: Es un objeto con un _identificador_ (nombre) y un contenido asociado. En Python son fáciles de definir, se hace así:"
   ]
  },
  {
   "cell_type": "code",
   "execution_count": 107,
   "metadata": {},
   "outputs": [
    {
     "name": "stdout",
     "output_type": "stream",
     "text": [
      "a\n"
     ]
    }
   ],
   "source": [
    "mi_x = \"a\"\n",
    "print(mi_x)"
   ]
  },
  {
   "cell_type": "code",
   "execution_count": 109,
   "metadata": {},
   "outputs": [
    {
     "ename": "NameError",
     "evalue": "name 'mi_variable' is not defined",
     "output_type": "error",
     "traceback": [
      "\u001b[0;31m---------------------------------------------------------------------------\u001b[0m",
      "\u001b[0;31mNameError\u001b[0m                                 Traceback (most recent call last)",
      "Cell \u001b[0;32mIn[109], line 1\u001b[0m\n\u001b[0;32m----> 1\u001b[0m \u001b[38;5;28mprint\u001b[39m(mi_variable)\n",
      "\u001b[0;31mNameError\u001b[0m: name 'mi_variable' is not defined"
     ]
    }
   ],
   "source": [
    "print(mi_variable)"
   ]
  },
  {
   "cell_type": "code",
   "execution_count": 111,
   "metadata": {},
   "outputs": [],
   "source": [
    "mi_x = \"a\""
   ]
  },
  {
   "cell_type": "code",
   "execution_count": 119,
   "metadata": {},
   "outputs": [],
   "source": [
    "and_x = \"a\""
   ]
  },
  {
   "cell_type": "code",
   "execution_count": 121,
   "metadata": {},
   "outputs": [
    {
     "name": "stdout",
     "output_type": "stream",
     "text": [
      "117\n"
     ]
    }
   ],
   "source": [
    "a = 100\n",
    "b = 17\n",
    "print(a+b)"
   ]
  },
  {
   "cell_type": "markdown",
   "metadata": {},
   "source": [
    "Es una buena práctica que los nombres de las variables tengan un sentido asociado a su contenido."
   ]
  },
  {
   "cell_type": "code",
   "execution_count": 123,
   "metadata": {},
   "outputs": [
    {
     "name": "stdout",
     "output_type": "stream",
     "text": [
      "Universidad de Buenos Aires\n"
     ]
    }
   ],
   "source": [
    "nombre_universidad = \"Universidad de Buenos Aires\"\n",
    "print(nombre_universidad)"
   ]
  },
  {
   "cell_type": "markdown",
   "metadata": {},
   "source": [
    "#### Variables: algunas consideraciones\n",
    "\n",
    "Hay algunas consideraciones a tener en cuenta respecto a los nombres que se pueden utilizar al definir una variable:\n",
    "- Es sensible al uso de mayúsculas/minúsculas (no son intercambiables).\n",
    "- Solo puede contener valores alfanúmericos o \"_\" \n",
    "- No puede comenzar con un caracter numérico \n",
    "- No usar palabras reservadas (ej. True o False)\n",
    "\n",
    "Algunas buenas prácticas son:\n",
    "- Siempre minúsculas a menos que sea una constante (global en stata)\n",
    "- Se usa snake_case y no CamelCase\n",
    "- No usar caracteres latinos (ej: \"ó\", \"ñ\", \"ü\", etc.)"
   ]
  },
  {
   "cell_type": "code",
   "execution_count": 125,
   "metadata": {},
   "outputs": [
    {
     "name": "stdout",
     "output_type": "stream",
     "text": [
      "\n",
      "Here is a list of the Python keywords.  Enter any keyword to get more help.\n",
      "\n",
      "False               class               from                or\n",
      "None                continue            global              pass\n",
      "True                def                 if                  raise\n",
      "and                 del                 import              return\n",
      "as                  elif                in                  try\n",
      "assert              else                is                  while\n",
      "async               except              lambda              with\n",
      "await               finally             nonlocal            yield\n",
      "break               for                 not                 \n",
      "\n"
     ]
    }
   ],
   "source": [
    "# Veamos las palabras reservadas de Python\n",
    "help(\"keywords\")"
   ]
  },
  {
   "cell_type": "code",
   "execution_count": 127,
   "metadata": {},
   "outputs": [
    {
     "name": "stdout",
     "output_type": "stream",
     "text": [
      "Help on bool object:\n",
      "\n",
      "class bool(int)\n",
      " |  bool(x) -> bool\n",
      " |\n",
      " |  Returns True when the argument x is true, False otherwise.\n",
      " |  The builtins True and False are the only two instances of the class bool.\n",
      " |  The class bool is a subclass of the class int, and cannot be subclassed.\n",
      " |\n",
      " |  Method resolution order:\n",
      " |      bool\n",
      " |      int\n",
      " |      object\n",
      " |\n",
      " |  Methods defined here:\n",
      " |\n",
      " |  __and__(self, value, /)\n",
      " |      Return self&value.\n",
      " |\n",
      " |  __invert__(self, /)\n",
      " |      ~self\n",
      " |\n",
      " |  __or__(self, value, /)\n",
      " |      Return self|value.\n",
      " |\n",
      " |  __rand__(self, value, /)\n",
      " |      Return value&self.\n",
      " |\n",
      " |  __repr__(self, /)\n",
      " |      Return repr(self).\n",
      " |\n",
      " |  __ror__(self, value, /)\n",
      " |      Return value|self.\n",
      " |\n",
      " |  __rxor__(self, value, /)\n",
      " |      Return value^self.\n",
      " |\n",
      " |  __xor__(self, value, /)\n",
      " |      Return self^value.\n",
      " |\n",
      " |  ----------------------------------------------------------------------\n",
      " |  Static methods defined here:\n",
      " |\n",
      " |  __new__(*args, **kwargs)\n",
      " |      Create and return a new object.  See help(type) for accurate signature.\n",
      " |\n",
      " |  ----------------------------------------------------------------------\n",
      " |  Methods inherited from int:\n",
      " |\n",
      " |  __abs__(self, /)\n",
      " |      abs(self)\n",
      " |\n",
      " |  __add__(self, value, /)\n",
      " |      Return self+value.\n",
      " |\n",
      " |  __bool__(self, /)\n",
      " |      True if self else False\n",
      " |\n",
      " |  __ceil__(...)\n",
      " |      Ceiling of an Integral returns itself.\n",
      " |\n",
      " |  __divmod__(self, value, /)\n",
      " |      Return divmod(self, value).\n",
      " |\n",
      " |  __eq__(self, value, /)\n",
      " |      Return self==value.\n",
      " |\n",
      " |  __float__(self, /)\n",
      " |      float(self)\n",
      " |\n",
      " |  __floor__(...)\n",
      " |      Flooring an Integral returns itself.\n",
      " |\n",
      " |  __floordiv__(self, value, /)\n",
      " |      Return self//value.\n",
      " |\n",
      " |  __format__(self, format_spec, /)\n",
      " |      Convert to a string according to format_spec.\n",
      " |\n",
      " |  __ge__(self, value, /)\n",
      " |      Return self>=value.\n",
      " |\n",
      " |  __getattribute__(self, name, /)\n",
      " |      Return getattr(self, name).\n",
      " |\n",
      " |  __getnewargs__(self, /)\n",
      " |\n",
      " |  __gt__(self, value, /)\n",
      " |      Return self>value.\n",
      " |\n",
      " |  __hash__(self, /)\n",
      " |      Return hash(self).\n",
      " |\n",
      " |  __index__(self, /)\n",
      " |      Return self converted to an integer, if self is suitable for use as an index into a list.\n",
      " |\n",
      " |  __int__(self, /)\n",
      " |      int(self)\n",
      " |\n",
      " |  __le__(self, value, /)\n",
      " |      Return self<=value.\n",
      " |\n",
      " |  __lshift__(self, value, /)\n",
      " |      Return self<<value.\n",
      " |\n",
      " |  __lt__(self, value, /)\n",
      " |      Return self<value.\n",
      " |\n",
      " |  __mod__(self, value, /)\n",
      " |      Return self%value.\n",
      " |\n",
      " |  __mul__(self, value, /)\n",
      " |      Return self*value.\n",
      " |\n",
      " |  __ne__(self, value, /)\n",
      " |      Return self!=value.\n",
      " |\n",
      " |  __neg__(self, /)\n",
      " |      -self\n",
      " |\n",
      " |  __pos__(self, /)\n",
      " |      +self\n",
      " |\n",
      " |  __pow__(self, value, mod=None, /)\n",
      " |      Return pow(self, value, mod).\n",
      " |\n",
      " |  __radd__(self, value, /)\n",
      " |      Return value+self.\n",
      " |\n",
      " |  __rdivmod__(self, value, /)\n",
      " |      Return divmod(value, self).\n",
      " |\n",
      " |  __rfloordiv__(self, value, /)\n",
      " |      Return value//self.\n",
      " |\n",
      " |  __rlshift__(self, value, /)\n",
      " |      Return value<<self.\n",
      " |\n",
      " |  __rmod__(self, value, /)\n",
      " |      Return value%self.\n",
      " |\n",
      " |  __rmul__(self, value, /)\n",
      " |      Return value*self.\n",
      " |\n",
      " |  __round__(...)\n",
      " |      Rounding an Integral returns itself.\n",
      " |\n",
      " |      Rounding with an ndigits argument also returns an integer.\n",
      " |\n",
      " |  __rpow__(self, value, mod=None, /)\n",
      " |      Return pow(value, self, mod).\n",
      " |\n",
      " |  __rrshift__(self, value, /)\n",
      " |      Return value>>self.\n",
      " |\n",
      " |  __rshift__(self, value, /)\n",
      " |      Return self>>value.\n",
      " |\n",
      " |  __rsub__(self, value, /)\n",
      " |      Return value-self.\n",
      " |\n",
      " |  __rtruediv__(self, value, /)\n",
      " |      Return value/self.\n",
      " |\n",
      " |  __sizeof__(self, /)\n",
      " |      Returns size in memory, in bytes.\n",
      " |\n",
      " |  __sub__(self, value, /)\n",
      " |      Return self-value.\n",
      " |\n",
      " |  __truediv__(self, value, /)\n",
      " |      Return self/value.\n",
      " |\n",
      " |  __trunc__(...)\n",
      " |      Truncating an Integral returns itself.\n",
      " |\n",
      " |  as_integer_ratio(self, /)\n",
      " |      Return a pair of integers, whose ratio is equal to the original int.\n",
      " |\n",
      " |      The ratio is in lowest terms and has a positive denominator.\n",
      " |\n",
      " |      >>> (10).as_integer_ratio()\n",
      " |      (10, 1)\n",
      " |      >>> (-10).as_integer_ratio()\n",
      " |      (-10, 1)\n",
      " |      >>> (0).as_integer_ratio()\n",
      " |      (0, 1)\n",
      " |\n",
      " |  bit_count(self, /)\n",
      " |      Number of ones in the binary representation of the absolute value of self.\n",
      " |\n",
      " |      Also known as the population count.\n",
      " |\n",
      " |      >>> bin(13)\n",
      " |      '0b1101'\n",
      " |      >>> (13).bit_count()\n",
      " |      3\n",
      " |\n",
      " |  bit_length(self, /)\n",
      " |      Number of bits necessary to represent self in binary.\n",
      " |\n",
      " |      >>> bin(37)\n",
      " |      '0b100101'\n",
      " |      >>> (37).bit_length()\n",
      " |      6\n",
      " |\n",
      " |  conjugate(...)\n",
      " |      Returns self, the complex conjugate of any int.\n",
      " |\n",
      " |  is_integer(self, /)\n",
      " |      Returns True. Exists for duck type compatibility with float.is_integer.\n",
      " |\n",
      " |  to_bytes(self, /, length=1, byteorder='big', *, signed=False)\n",
      " |      Return an array of bytes representing an integer.\n",
      " |\n",
      " |      length\n",
      " |        Length of bytes object to use.  An OverflowError is raised if the\n",
      " |        integer is not representable with the given number of bytes.  Default\n",
      " |        is length 1.\n",
      " |      byteorder\n",
      " |        The byte order used to represent the integer.  If byteorder is 'big',\n",
      " |        the most significant byte is at the beginning of the byte array.  If\n",
      " |        byteorder is 'little', the most significant byte is at the end of the\n",
      " |        byte array.  To request the native byte order of the host system, use\n",
      " |        `sys.byteorder' as the byte order value.  Default is to use 'big'.\n",
      " |      signed\n",
      " |        Determines whether two's complement is used to represent the integer.\n",
      " |        If signed is False and a negative integer is given, an OverflowError\n",
      " |        is raised.\n",
      " |\n",
      " |  ----------------------------------------------------------------------\n",
      " |  Class methods inherited from int:\n",
      " |\n",
      " |  from_bytes(bytes, byteorder='big', *, signed=False)\n",
      " |      Return the integer represented by the given array of bytes.\n",
      " |\n",
      " |      bytes\n",
      " |        Holds the array of bytes to convert.  The argument must either\n",
      " |        support the buffer protocol or be an iterable object producing bytes.\n",
      " |        Bytes and bytearray are examples of built-in objects that support the\n",
      " |        buffer protocol.\n",
      " |      byteorder\n",
      " |        The byte order used to represent the integer.  If byteorder is 'big',\n",
      " |        the most significant byte is at the beginning of the byte array.  If\n",
      " |        byteorder is 'little', the most significant byte is at the end of the\n",
      " |        byte array.  To request the native byte order of the host system, use\n",
      " |        `sys.byteorder' as the byte order value.  Default is to use 'big'.\n",
      " |      signed\n",
      " |        Indicates whether two's complement is used to represent the integer.\n",
      " |\n",
      " |  ----------------------------------------------------------------------\n",
      " |  Data descriptors inherited from int:\n",
      " |\n",
      " |  denominator\n",
      " |      the denominator of a rational number in lowest terms\n",
      " |\n",
      " |  imag\n",
      " |      the imaginary part of a complex number\n",
      " |\n",
      " |  numerator\n",
      " |      the numerator of a rational number in lowest terms\n",
      " |\n",
      " |  real\n",
      " |      the real part of a complex number\n",
      "\n"
     ]
    }
   ],
   "source": [
    "help(\"False\")"
   ]
  },
  {
   "cell_type": "markdown",
   "metadata": {},
   "source": [
    "#### Ejercicio 2: Operaciones y tipo de variables\n",
    "\n",
    "Vimos que el operador \"+\" se puede usar para valores numéricos y para strings.  ¿Se puede usar para una combinación de ambos?"
   ]
  },
  {
   "cell_type": "code",
   "execution_count": null,
   "metadata": {},
   "outputs": [],
   "source": [
    "12 + \"34\""
   ]
  },
  {
   "cell_type": "markdown",
   "metadata": {},
   "source": [
    "Al nombrar dos variables de manera similar pero modificando mayúsculas/minúsculas, ¿estamos creando dos variables o pisando el valor de la primera con el valor de la segunda? \n",
    "Prueben abajo:"
   ]
  },
  {
   "cell_type": "code",
   "execution_count": null,
   "metadata": {},
   "outputs": [],
   "source": [
    "resultado = \"a\"\n",
    "RESULTADO = \"b\"\n",
    "print(resultado)\n",
    "print(RESULTADO)\n"
   ]
  },
  {
   "cell_type": "markdown",
   "metadata": {},
   "source": [
    "Vemos otros casos donde los nombres de la variables pueden ser problemáticos\n",
    "¿Alguno de estos nombres de variable es válido?"
   ]
  },
  {
   "cell_type": "code",
   "execution_count": null,
   "metadata": {},
   "outputs": [],
   "source": [
    "2variable = \"a\""
   ]
  },
  {
   "cell_type": "code",
   "execution_count": null,
   "metadata": {},
   "outputs": [],
   "source": [
    "mi-variable = \"a\""
   ]
  },
  {
   "cell_type": "code",
   "execution_count": null,
   "metadata": {},
   "outputs": [],
   "source": [
    "_mi__var_iab_ = \"a\""
   ]
  },
  {
   "cell_type": "code",
   "execution_count": null,
   "metadata": {},
   "outputs": [],
   "source": [
    "_mi__var_iab_\n"
   ]
  },
  {
   "cell_type": "markdown",
   "metadata": {},
   "source": [
    "## Colecciones: listas, tuplas, sets y diccionarios"
   ]
  },
  {
   "cell_type": "markdown",
   "metadata": {},
   "source": [
    "#### Colecciones\n",
    "\n",
    "Una colección en Python es un container que permite agrupar objetos y darles un nombre.\n",
    "\n",
    "Hoy vamos a ver los cuatro tipos de coleciones nativas de Python: listas, diccionarios, sets y tuplas.\n",
    "\n",
    "¿Por qué tantos tipos de colecciones?\n",
    "- Ordenadas vs. sin orden\n",
    "- Valores repetidos vs. valores únicos \n",
    "- Mutables vs. inmutables"
   ]
  },
  {
   "cell_type": "markdown",
   "metadata": {},
   "source": [
    "### Listas\n",
    "\n",
    "Es una secuencia:\n",
    "- Ordenada\n",
    "- Mutable\n",
    "- Admite valores repetidos\n",
    "- Admite distintos tipos de elementos\n",
    "\n",
    "¿Cómo se definen? Con corchetes **[]**"
   ]
  },
  {
   "cell_type": "code",
   "execution_count": 129,
   "metadata": {},
   "outputs": [],
   "source": [
    "# Ejemplos: \n",
    "# Lista de código de paises:\n",
    "paises =['ARG', 'BOL', 'BRA', 'CHI', 'PRY', 'URY']\n",
    "# Lista con población\n",
    "pob_millones =[46, 12, 214, 19, 13, 3.5]"
   ]
  },
  {
   "cell_type": "code",
   "execution_count": 131,
   "metadata": {},
   "outputs": [
    {
     "name": "stdout",
     "output_type": "stream",
     "text": [
      "['ARG', 'BOL', 'BRA', 'CHI', 'PRY', 'URY']\n"
     ]
    }
   ],
   "source": [
    "print(paises)"
   ]
  },
  {
   "cell_type": "code",
   "execution_count": 133,
   "metadata": {},
   "outputs": [],
   "source": [
    "# Tambien admite el uso de doble comillas \"\"\n",
    "paises2 =[\"ARG\", \"BOL\", \"BRA\", \"CHI\", \"PRY\", \"URY\"]\n"
   ]
  },
  {
   "cell_type": "code",
   "execution_count": 135,
   "metadata": {},
   "outputs": [
    {
     "data": {
      "text/plain": [
       "True"
      ]
     },
     "execution_count": 135,
     "metadata": {},
     "output_type": "execute_result"
    }
   ],
   "source": [
    "paises == paises2"
   ]
  },
  {
   "cell_type": "markdown",
   "metadata": {},
   "source": [
    "Para saber el largo de una lista: `len( )`"
   ]
  },
  {
   "cell_type": "code",
   "execution_count": 137,
   "metadata": {},
   "outputs": [
    {
     "data": {
      "text/plain": [
       "6"
      ]
     },
     "execution_count": 137,
     "metadata": {},
     "output_type": "execute_result"
    }
   ],
   "source": [
    "len(paises)"
   ]
  },
  {
   "cell_type": "code",
   "execution_count": 139,
   "metadata": {},
   "outputs": [
    {
     "data": {
      "text/plain": [
       "6"
      ]
     },
     "execution_count": 139,
     "metadata": {},
     "output_type": "execute_result"
    }
   ],
   "source": [
    "len(pob_millones)"
   ]
  },
  {
   "cell_type": "markdown",
   "metadata": {},
   "source": [
    "Para acceder a un elemento: indexando (desde 0 a N o -1)."
   ]
  },
  {
   "cell_type": "code",
   "execution_count": 141,
   "metadata": {},
   "outputs": [
    {
     "name": "stdout",
     "output_type": "stream",
     "text": [
      "Primer elemento en la lista de países: ARG\n",
      "Segundo elemento en la lista de población: 12\n",
      "Último elemento en la lista de población: 3.5\n"
     ]
    }
   ],
   "source": [
    "print(\"Primer elemento en la lista de países:\", paises[0])\n",
    "print(\"Segundo elemento en la lista de población:\", pob_millones[1])\n",
    "print(\"Último elemento en la lista de población:\", pob_millones[-1])"
   ]
  },
  {
   "cell_type": "markdown",
   "metadata": {},
   "source": [
    "¿Cómo acceder a un sub-conjunto de elementos?"
   ]
  },
  {
   "cell_type": "code",
   "execution_count": 143,
   "metadata": {},
   "outputs": [
    {
     "data": {
      "text/plain": [
       "['ARG', 'BOL', 'BRA', 'CHI', 'PRY', 'URY']"
      ]
     },
     "execution_count": 143,
     "metadata": {},
     "output_type": "execute_result"
    }
   ],
   "source": [
    "paises[:]"
   ]
  },
  {
   "cell_type": "code",
   "execution_count": 145,
   "metadata": {},
   "outputs": [
    {
     "data": {
      "text/plain": [
       "['ARG', 'BOL', 'BRA', 'CHI', 'PRY', 'URY']"
      ]
     },
     "execution_count": 145,
     "metadata": {},
     "output_type": "execute_result"
    }
   ],
   "source": [
    "paises[0:len(paises)] # esto es equivalente a [:]"
   ]
  },
  {
   "cell_type": "code",
   "execution_count": 147,
   "metadata": {},
   "outputs": [
    {
     "data": {
      "text/plain": [
       "['ARG', 'BOL']"
      ]
     },
     "execution_count": 147,
     "metadata": {},
     "output_type": "execute_result"
    }
   ],
   "source": [
    "paises[0:2]"
   ]
  },
  {
   "cell_type": "code",
   "execution_count": 149,
   "metadata": {},
   "outputs": [
    {
     "data": {
      "text/plain": [
       "['ARG', 'BOL', 'BRA']"
      ]
     },
     "execution_count": 149,
     "metadata": {},
     "output_type": "execute_result"
    }
   ],
   "source": [
    "paises[0:3]"
   ]
  },
  {
   "cell_type": "markdown",
   "metadata": {},
   "source": [
    "#### Ejercicio 3: Jugar con acceder a distintos subconjuntos \n",
    "Probar los siguientes indices entre corchetes"
   ]
  },
  {
   "cell_type": "code",
   "execution_count": null,
   "metadata": {},
   "outputs": [],
   "source": [
    "paises[4:] # Desde la posición 4 en adelante (incluyéndola)"
   ]
  },
  {
   "cell_type": "code",
   "execution_count": null,
   "metadata": {},
   "outputs": [],
   "source": [
    "paises[:3] # Hasta la posición 3 sin incluirla"
   ]
  },
  {
   "cell_type": "code",
   "execution_count": null,
   "metadata": {},
   "outputs": [],
   "source": [
    "paises[2:-2] "
   ]
  },
  {
   "cell_type": "markdown",
   "metadata": {},
   "source": [
    "#### ¿Cómo modificar un elemento? \"Replace\""
   ]
  },
  {
   "cell_type": "code",
   "execution_count": 151,
   "metadata": {},
   "outputs": [
    {
     "name": "stdout",
     "output_type": "stream",
     "text": [
      "[46, 12, 214, 19, 13, 3.5]\n",
      "[46, 12, 214, 19, 14, 3.5]\n"
     ]
    }
   ],
   "source": [
    "print(pob_millones)\n",
    "pob_millones[-2] = 14\n",
    "print(pob_millones)"
   ]
  },
  {
   "cell_type": "markdown",
   "metadata": {},
   "source": [
    "### Listas: métodos básicos"
   ]
  },
  {
   "cell_type": "markdown",
   "metadata": {},
   "source": [
    "Agregar objetos: append, insert"
   ]
  },
  {
   "cell_type": "code",
   "execution_count": 153,
   "metadata": {},
   "outputs": [
    {
     "name": "stdout",
     "output_type": "stream",
     "text": [
      "['ARG', 'BOL', 'BRA', 'CHI', 'PRY', 'URY', 'PER']\n",
      "[46, 12, 214, 19, 14, 3.5, 11]\n",
      "La población de  PER es de  11  millones\n"
     ]
    }
   ],
   "source": [
    "paises.append('PER') # Se agrega el elemento al final\n",
    "pob_millones.insert(6, 11) # Indicamos dónde -7ma posición- y qué agregar -11- \n",
    "\n",
    "print(paises)\n",
    "print(pob_millones)\n",
    "print(\"La población de \", paises[-1], \"es de \", pob_millones[-1], \" millones\")"
   ]
  },
  {
   "cell_type": "markdown",
   "metadata": {},
   "source": [
    "Unir listas: extend"
   ]
  },
  {
   "cell_type": "code",
   "execution_count": 155,
   "metadata": {},
   "outputs": [
    {
     "name": "stdout",
     "output_type": "stream",
     "text": [
      "['ARG', 'BOL', 'BRA', 'CHI', 'PRY', 'URY', 'PER', 'COL', 'ECU']\n"
     ]
    }
   ],
   "source": [
    "paises2=['COL', 'ECU']\n",
    "paises.extend(paises2) # Agrega los elementos al final\n",
    "print(paises) "
   ]
  },
  {
   "cell_type": "markdown",
   "metadata": {},
   "source": [
    "Eliminar objetos: remove, pop"
   ]
  },
  {
   "cell_type": "code",
   "execution_count": 157,
   "metadata": {},
   "outputs": [
    {
     "name": "stdout",
     "output_type": "stream",
     "text": [
      "['ARG', 'BOL', 'BRA', 'CHI', 'PRY', 'URY', 'PER', 'COL']\n",
      "['ARG', 'BOL', 'BRA', 'CHI', 'PRY', 'URY', 'PER']\n"
     ]
    },
    {
     "data": {
      "text/plain": [
       "['ARG', 'BOL', 'BRA']"
      ]
     },
     "execution_count": 157,
     "metadata": {},
     "output_type": "execute_result"
    }
   ],
   "source": [
    "paises.remove('ECU') # Indicamos qué elemento remover, con el nombre del elemento\n",
    "print(paises)\n",
    "\n",
    "paises.pop(-1) # Indicamos qué elemento borrar indexándolo\n",
    "print(paises)\n",
    "\n",
    "# También podemos indicar qué elementos seleccionar (slice)\n",
    "paises3 = paises[0:3]   \n",
    "paises3"
   ]
  },
  {
   "cell_type": "markdown",
   "metadata": {},
   "source": [
    "#### Ejercicio 4: Jugando con las listas\n",
    "¿Cuál es el resultado de sumar la lista de paises con la lista de población?"
   ]
  },
  {
   "cell_type": "code",
   "execution_count": null,
   "metadata": {},
   "outputs": [],
   "source": [
    "paises + pob_millones "
   ]
  },
  {
   "cell_type": "code",
   "execution_count": null,
   "metadata": {},
   "outputs": [],
   "source": [
    "paises.extend(pob_millones)\n",
    "paises"
   ]
  },
  {
   "cell_type": "code",
   "execution_count": null,
   "metadata": {},
   "outputs": [],
   "source": [
    "paises.append(pob_millones)\n",
    "paises"
   ]
  },
  {
   "cell_type": "markdown",
   "metadata": {},
   "source": [
    "### Tuplas\n",
    "\n",
    "Es una secuencia:\n",
    "- Ordenada\n",
    "- Inmutable\n",
    "- Admite valores repetidos\n",
    "- Admite distintos tipos de elementos\n",
    "- Se usan para mantener juntos varios elementos \n",
    "\n",
    "¿Cómo se define una tupla? Con paréntesis **()**"
   ]
  },
  {
   "cell_type": "code",
   "execution_count": 159,
   "metadata": {},
   "outputs": [],
   "source": [
    "# Algunos ejemplos\n",
    "argentina = ('ARG', 44939)\n",
    "bolivia = ('BOL', 11513)\n",
    "brasil = ('BRA', 211050)"
   ]
  },
  {
   "cell_type": "markdown",
   "metadata": {},
   "source": [
    "¿Cómo modificar, agregar o eliminar un elemento?"
   ]
  },
  {
   "cell_type": "code",
   "execution_count": 161,
   "metadata": {},
   "outputs": [
    {
     "ename": "TypeError",
     "evalue": "'tuple' object does not support item assignment",
     "output_type": "error",
     "traceback": [
      "\u001b[0;31m---------------------------------------------------------------------------\u001b[0m",
      "\u001b[0;31mTypeError\u001b[0m                                 Traceback (most recent call last)",
      "Cell \u001b[0;32mIn[161], line 1\u001b[0m\n\u001b[0;32m----> 1\u001b[0m argentina[\u001b[38;5;241m0\u001b[39m] \u001b[38;5;241m=\u001b[39m \u001b[38;5;124m'\u001b[39m\u001b[38;5;124mARGEN\u001b[39m\u001b[38;5;124m'\u001b[39m\n",
      "\u001b[0;31mTypeError\u001b[0m: 'tuple' object does not support item assignment"
     ]
    }
   ],
   "source": [
    "argentina[0] = 'ARGEN'"
   ]
  },
  {
   "cell_type": "markdown",
   "metadata": {},
   "source": [
    "¿Cómo saber el largo de una tupla? len()"
   ]
  },
  {
   "cell_type": "code",
   "execution_count": 163,
   "metadata": {},
   "outputs": [
    {
     "data": {
      "text/plain": [
       "2"
      ]
     },
     "execution_count": 163,
     "metadata": {},
     "output_type": "execute_result"
    }
   ],
   "source": [
    "len(argentina)"
   ]
  },
  {
   "cell_type": "markdown",
   "metadata": {},
   "source": [
    "#### Tuplas: índices\n",
    "\n",
    "¿Cómo acceder a un elemento? Indexando (desde 0 a N o -1)."
   ]
  },
  {
   "cell_type": "code",
   "execution_count": 165,
   "metadata": {},
   "outputs": [
    {
     "data": {
      "text/plain": [
       "'BOL'"
      ]
     },
     "execution_count": 165,
     "metadata": {},
     "output_type": "execute_result"
    }
   ],
   "source": [
    "bolivia[0]"
   ]
  },
  {
   "cell_type": "code",
   "execution_count": 167,
   "metadata": {},
   "outputs": [
    {
     "data": {
      "text/plain": [
       "11513"
      ]
     },
     "execution_count": 167,
     "metadata": {},
     "output_type": "execute_result"
    }
   ],
   "source": [
    "bolivia[1] # equivalente a bolivia[-2]"
   ]
  },
  {
   "cell_type": "markdown",
   "metadata": {},
   "source": [
    "#### Ejercicio 5: Jugando con las Tuplas\n",
    "¿Cómo acceder a un conjuntos de elementos?"
   ]
  },
  {
   "cell_type": "code",
   "execution_count": null,
   "metadata": {},
   "outputs": [],
   "source": [
    "argentina[:]"
   ]
  },
  {
   "cell_type": "code",
   "execution_count": null,
   "metadata": {},
   "outputs": [],
   "source": [
    "argentina[1:]"
   ]
  },
  {
   "cell_type": "code",
   "execution_count": null,
   "metadata": {},
   "outputs": [],
   "source": [
    "argentina[:2] # equivalente a argentina[:-1]"
   ]
  },
  {
   "cell_type": "markdown",
   "metadata": {},
   "source": [
    "### Conjuntos (sets)\n",
    "\n",
    "Es una secuencia:\n",
    "- No ordenada\n",
    "- Mutable\n",
    "- No admite valores repetidos\n",
    "- Admite distintos tipos de elementos\n",
    "\n",
    "¿Cómo se define un set? Con `set([ ])`"
   ]
  },
  {
   "cell_type": "code",
   "execution_count": 169,
   "metadata": {},
   "outputs": [
    {
     "name": "stdout",
     "output_type": "stream",
     "text": [
      "{'ARG', 'PER', 'BOL'}\n",
      "{'PRY', 'URY', 'CHL', 'BRA', 'BOL'}\n"
     ]
    }
   ],
   "source": [
    "chl_limit = set(['ARG', 'BOL', 'PER'])\n",
    "print(chl_limit)\n",
    "\n",
    "lim = ['URY', 'BRA', 'PRY', 'CHL', 'BOL']\n",
    "arg_limit = set(lim)\n",
    "print(arg_limit)"
   ]
  },
  {
   "cell_type": "markdown",
   "metadata": {},
   "source": [
    "Importante! Pensemos en los sets como los conjuntos en matemática...\n",
    "- Notar que el orden en que vemos los elementos del set no es igual al orden como lo especificamos. Esto es porque los sets son no ordenados. (En realidad hay un orden interno que Python sigue, que tiene que ver con el hash de cada elemento -esto para optimizar las estructuras, después veremos algo más sobre esto-)"
   ]
  },
  {
   "cell_type": "markdown",
   "metadata": {},
   "source": [
    "¿Cómo saber el largo de un set? len( )"
   ]
  },
  {
   "cell_type": "code",
   "execution_count": 171,
   "metadata": {},
   "outputs": [
    {
     "data": {
      "text/plain": [
       "5"
      ]
     },
     "execution_count": 171,
     "metadata": {},
     "output_type": "execute_result"
    }
   ],
   "source": [
    "len(arg_limit)"
   ]
  },
  {
   "cell_type": "markdown",
   "metadata": {},
   "source": [
    "#### Sets: no ordenados\n",
    "\n",
    "No se puede acceder ni modificar un elemento"
   ]
  },
  {
   "cell_type": "code",
   "execution_count": 173,
   "metadata": {},
   "outputs": [
    {
     "ename": "TypeError",
     "evalue": "'set' object is not subscriptable",
     "output_type": "error",
     "traceback": [
      "\u001b[0;31m---------------------------------------------------------------------------\u001b[0m",
      "\u001b[0;31mTypeError\u001b[0m                                 Traceback (most recent call last)",
      "Cell \u001b[0;32mIn[173], line 1\u001b[0m\n\u001b[0;32m----> 1\u001b[0m chl_limit[:]\n",
      "\u001b[0;31mTypeError\u001b[0m: 'set' object is not subscriptable"
     ]
    }
   ],
   "source": [
    "chl_limit[:]"
   ]
  },
  {
   "cell_type": "code",
   "execution_count": 175,
   "metadata": {},
   "outputs": [
    {
     "ename": "TypeError",
     "evalue": "'set' object is not subscriptable",
     "output_type": "error",
     "traceback": [
      "\u001b[0;31m---------------------------------------------------------------------------\u001b[0m",
      "\u001b[0;31mTypeError\u001b[0m                                 Traceback (most recent call last)",
      "Cell \u001b[0;32mIn[175], line 1\u001b[0m\n\u001b[0;32m----> 1\u001b[0m chl_limit[\u001b[38;5;241m1\u001b[39m]\n",
      "\u001b[0;31mTypeError\u001b[0m: 'set' object is not subscriptable"
     ]
    }
   ],
   "source": [
    "chl_limit[1] # no podemos indexar porque no hay un orden"
   ]
  },
  {
   "cell_type": "markdown",
   "metadata": {},
   "source": [
    "#### Sets: métodos básicos"
   ]
  },
  {
   "cell_type": "markdown",
   "metadata": {},
   "source": [
    "Agregar objetos: add()"
   ]
  },
  {
   "cell_type": "code",
   "execution_count": 177,
   "metadata": {},
   "outputs": [
    {
     "name": "stdout",
     "output_type": "stream",
     "text": [
      "{'PRY', 'ARG', 'URY', 'CHL', 'BRA', 'BOL'}\n",
      "{'ARG', 'PER', 'CHL', 'BOL'}\n"
     ]
    }
   ],
   "source": [
    "arg_limit.add('ARG')\n",
    "chl_limit.add('CHL')\n",
    "print(arg_limit)\n",
    "print(chl_limit)"
   ]
  },
  {
   "cell_type": "markdown",
   "metadata": {},
   "source": [
    "Unir dos sets: union()"
   ]
  },
  {
   "cell_type": "code",
   "execution_count": 179,
   "metadata": {},
   "outputs": [
    {
     "name": "stdout",
     "output_type": "stream",
     "text": [
      "{'PRY', 'ARG', 'URY', 'CHL', 'BRA', 'PER', 'BOL'}\n"
     ]
    }
   ],
   "source": [
    "ar_cl_limit = arg_limit.union(chl_limit)\n",
    "print(ar_cl_limit)"
   ]
  },
  {
   "cell_type": "markdown",
   "metadata": {},
   "source": [
    "Notar que si hay valores que ya estaban, no se repiten (porque los sets no admiten valores repetidos)"
   ]
  },
  {
   "cell_type": "markdown",
   "metadata": {},
   "source": [
    "Eliminar objetos: remove, discard, pop"
   ]
  },
  {
   "cell_type": "code",
   "execution_count": 181,
   "metadata": {},
   "outputs": [
    {
     "name": "stdout",
     "output_type": "stream",
     "text": [
      "{'PRY', 'URY', 'CHL', 'BRA', 'BOL'}\n",
      "{'ARG', 'PER', 'BOL'}\n",
      "{'URY', 'CHL', 'BRA', 'BOL'}\n",
      "{'URY', 'CHL', 'BRA', 'BOL'}\n"
     ]
    }
   ],
   "source": [
    "arg_limit.remove('ARG')\n",
    "print(arg_limit)\n",
    "\n",
    "chl_limit.discard('CHL')\n",
    "print(chl_limit)\n",
    "\n",
    "arg_limit.pop() \n",
    "print(arg_limit)\n",
    "\n",
    "# Volvemos a agregar el que se eliminó\n",
    "arg_limit.add('URY')\n",
    "print(arg_limit)"
   ]
  },
  {
   "cell_type": "markdown",
   "metadata": {},
   "source": [
    "¿Cómo saber la intersección y las diferencias de dos sets?"
   ]
  },
  {
   "cell_type": "code",
   "execution_count": 183,
   "metadata": {},
   "outputs": [
    {
     "data": {
      "text/plain": [
       "{'BOL'}"
      ]
     },
     "execution_count": 183,
     "metadata": {},
     "output_type": "execute_result"
    }
   ],
   "source": [
    "arg_limit.intersection(chl_limit)"
   ]
  },
  {
   "cell_type": "code",
   "execution_count": 185,
   "metadata": {},
   "outputs": [
    {
     "data": {
      "text/plain": [
       "{'BRA', 'CHL', 'URY'}"
      ]
     },
     "execution_count": 185,
     "metadata": {},
     "output_type": "execute_result"
    }
   ],
   "source": [
    "arg_limit.difference(chl_limit)"
   ]
  },
  {
   "cell_type": "markdown",
   "metadata": {},
   "source": [
    "¿Cómo saber si un set es subset de otro o disjunto?"
   ]
  },
  {
   "cell_type": "code",
   "execution_count": 187,
   "metadata": {},
   "outputs": [
    {
     "data": {
      "text/plain": [
       "False"
      ]
     },
     "execution_count": 187,
     "metadata": {},
     "output_type": "execute_result"
    }
   ],
   "source": [
    "chl_limit.issubset(arg_limit)"
   ]
  },
  {
   "cell_type": "code",
   "execution_count": 189,
   "metadata": {},
   "outputs": [
    {
     "data": {
      "text/plain": [
       "False"
      ]
     },
     "execution_count": 189,
     "metadata": {},
     "output_type": "execute_result"
    }
   ],
   "source": [
    "chl_limit.isdisjoint(arg_limit) "
   ]
  },
  {
   "cell_type": "markdown",
   "metadata": {},
   "source": [
    "#### Sets: copias y referencias"
   ]
  },
  {
   "cell_type": "markdown",
   "metadata": {},
   "source": [
    "¿Cómo hacer una referencia de un set?"
   ]
  },
  {
   "cell_type": "code",
   "execution_count": 191,
   "metadata": {},
   "outputs": [
    {
     "name": "stdout",
     "output_type": "stream",
     "text": [
      "{'PRY', 'URY', 'BRA', 'BOL'}\n",
      "{'PRY', 'URY', 'BRA', 'BOL'}\n"
     ]
    }
   ],
   "source": [
    "arg_limit = set(['URY', 'BRA', 'PRY', 'CHL', 'BOL'])\n",
    "pry_limit = arg_limit\n",
    "pry_limit.remove('CHL')\n",
    "\n",
    "print(pry_limit)\n",
    "print(arg_limit) # Se borra CHL de este set también!"
   ]
  },
  {
   "cell_type": "code",
   "execution_count": 193,
   "metadata": {},
   "outputs": [],
   "source": [
    "# Primero agreguemos CHL\n",
    "arg_limit.add('CHL') "
   ]
  },
  {
   "cell_type": "markdown",
   "metadata": {},
   "source": [
    "¿Cómo hacer una copia independiente del set?"
   ]
  },
  {
   "cell_type": "code",
   "execution_count": 195,
   "metadata": {},
   "outputs": [
    {
     "name": "stdout",
     "output_type": "stream",
     "text": [
      "{'BRA', 'PRY', 'BOL', 'URY'}\n",
      "{'PRY', 'URY', 'CHL', 'BRA', 'BOL'}\n"
     ]
    }
   ],
   "source": [
    "pry_limit = arg_limit.copy()\n",
    "pry_limit.remove('CHL')\n",
    "\n",
    "print(pry_limit)\n",
    "print(arg_limit) # Ahora no se borra CHL"
   ]
  },
  {
   "cell_type": "markdown",
   "metadata": {},
   "source": [
    "#### Ejercicio 6: Sets y tuplas: pregunta\n",
    "¿Cuál es un posible valor de temp1?"
   ]
  },
  {
   "cell_type": "code",
   "execution_count": null,
   "metadata": {},
   "outputs": [],
   "source": [
    "pry_limit = set(['URY', 'BRA', 'BOL'])\n",
    "print(pry_limit)\n",
    "temp1 = pry_limit.pop()"
   ]
  },
  {
   "cell_type": "markdown",
   "metadata": {},
   "source": [
    "a) {'URY', 'BRA', 'BOL'}\n",
    "\n",
    "b) {'BRA', 'BOL'}\n",
    "\n",
    "c) 'URY'\n",
    "\n",
    "d) 'BRA'\n",
    "\n",
    "e) 'BOL'"
   ]
  },
  {
   "cell_type": "code",
   "execution_count": null,
   "metadata": {},
   "outputs": [],
   "source": [
    "print(temp1)"
   ]
  },
  {
   "cell_type": "markdown",
   "metadata": {},
   "source": [
    "### Diccionarios\n",
    "\n",
    "Son conjuntos de *claves:valores* (keys:values). Las claves deben ser únicas (y hashables). \n",
    "Los valores se pueden modificar pero las claves no.\n",
    "¿Cómo se define un diccionario? con **{ }**"
   ]
  },
  {
   "cell_type": "markdown",
   "metadata": {},
   "source": [
    "La función `hash()` asigna un número (pseudo random) a un elemento inmutable. Veamos algunos ejemplos"
   ]
  },
  {
   "cell_type": "code",
   "execution_count": 197,
   "metadata": {},
   "outputs": [
    {
     "data": {
      "text/plain": [
       "-8113395628796693866"
      ]
     },
     "execution_count": 197,
     "metadata": {},
     "output_type": "execute_result"
    }
   ],
   "source": [
    "hash(\"hola\")"
   ]
  },
  {
   "cell_type": "code",
   "execution_count": 199,
   "metadata": {},
   "outputs": [
    {
     "ename": "TypeError",
     "evalue": "unhashable type: 'list'",
     "output_type": "error",
     "traceback": [
      "\u001b[0;31m---------------------------------------------------------------------------\u001b[0m",
      "\u001b[0;31mTypeError\u001b[0m                                 Traceback (most recent call last)",
      "Cell \u001b[0;32mIn[199], line 1\u001b[0m\n\u001b[0;32m----> 1\u001b[0m \u001b[38;5;28mhash\u001b[39m([\u001b[38;5;241m1\u001b[39m, \u001b[38;5;241m2\u001b[39m, \u001b[38;5;241m3\u001b[39m])\n",
      "\u001b[0;31mTypeError\u001b[0m: unhashable type: 'list'"
     ]
    }
   ],
   "source": [
    "hash([1, 2, 3])\n",
    "# El error ocurre porque las listas son mutables, por ende no hasheables"
   ]
  },
  {
   "cell_type": "code",
   "execution_count": 201,
   "metadata": {},
   "outputs": [
    {
     "data": {
      "text/plain": [
       "-3550055125485641917"
      ]
     },
     "execution_count": 201,
     "metadata": {},
     "output_type": "execute_result"
    }
   ],
   "source": [
    "hash((1, 2))"
   ]
  },
  {
   "cell_type": "markdown",
   "metadata": {},
   "source": [
    "Ahora vamos con los diccionarios"
   ]
  },
  {
   "cell_type": "code",
   "execution_count": 203,
   "metadata": {},
   "outputs": [
    {
     "name": "stdout",
     "output_type": "stream",
     "text": [
      "{'cod': 'BOL', 'pob_millones': 11.5, 'gdp_millones': 'N'}\n"
     ]
    }
   ],
   "source": [
    "arg_carac = {'cod': 'ARG', 'pob_millones': 45, 'gdp_millones': 'N'}\n",
    "bol_carac = {'cod': 'BOL', 'pob_millones': 11.5, 'gdp_millones': 'N'}\n",
    "print(bol_carac)"
   ]
  },
  {
   "cell_type": "markdown",
   "metadata": {},
   "source": [
    "¿Cómo saber el largo de un dicionario? len( )"
   ]
  },
  {
   "cell_type": "code",
   "execution_count": 205,
   "metadata": {},
   "outputs": [
    {
     "data": {
      "text/plain": [
       "3"
      ]
     },
     "execution_count": 205,
     "metadata": {},
     "output_type": "execute_result"
    }
   ],
   "source": [
    "len(bol_carac) "
   ]
  },
  {
   "cell_type": "code",
   "execution_count": 207,
   "metadata": {},
   "outputs": [
    {
     "data": {
      "text/plain": [
       "3"
      ]
     },
     "execution_count": 207,
     "metadata": {},
     "output_type": "execute_result"
    }
   ],
   "source": [
    "# Es equivalente a \n",
    "len(bol_carac.items())"
   ]
  },
  {
   "cell_type": "markdown",
   "metadata": {},
   "source": [
    "¿Cómo acceder a un elemento? por la clave o key"
   ]
  },
  {
   "cell_type": "code",
   "execution_count": 209,
   "metadata": {},
   "outputs": [
    {
     "data": {
      "text/plain": [
       "'BOL'"
      ]
     },
     "execution_count": 209,
     "metadata": {},
     "output_type": "execute_result"
    }
   ],
   "source": [
    "bol_carac['cod']"
   ]
  },
  {
   "cell_type": "code",
   "execution_count": 211,
   "metadata": {},
   "outputs": [
    {
     "data": {
      "text/plain": [
       "'N'"
      ]
     },
     "execution_count": 211,
     "metadata": {},
     "output_type": "execute_result"
    }
   ],
   "source": [
    "bol_carac['gdp_millones']"
   ]
  },
  {
   "cell_type": "markdown",
   "metadata": {},
   "source": [
    "¿Cómo cambiar un valor?"
   ]
  },
  {
   "cell_type": "code",
   "execution_count": 213,
   "metadata": {},
   "outputs": [
    {
     "name": "stdout",
     "output_type": "stream",
     "text": [
      "{'cod': 'BOL', 'pob_millones': 11.5, 'gdp_millones': 'N'}\n"
     ]
    }
   ],
   "source": [
    "print(bol_carac)"
   ]
  },
  {
   "cell_type": "code",
   "execution_count": 215,
   "metadata": {},
   "outputs": [],
   "source": [
    "bol_carac['gdp_millones'] = 40895"
   ]
  },
  {
   "cell_type": "code",
   "execution_count": 217,
   "metadata": {},
   "outputs": [
    {
     "name": "stdout",
     "output_type": "stream",
     "text": [
      "{'cod': 'BOL', 'pob_millones': 11.5, 'gdp_millones': 40895}\n"
     ]
    }
   ],
   "source": [
    "print(bol_carac)"
   ]
  },
  {
   "cell_type": "markdown",
   "metadata": {},
   "source": [
    "¿Cómo crear una nueva clave:valor?"
   ]
  },
  {
   "cell_type": "code",
   "execution_count": 221,
   "metadata": {},
   "outputs": [],
   "source": [
    "bol_carac['gdp_pc'] = bol_carac['gdp_millones']/bol_carac['pob_millones']"
   ]
  },
  {
   "cell_type": "code",
   "execution_count": 223,
   "metadata": {},
   "outputs": [
    {
     "name": "stdout",
     "output_type": "stream",
     "text": [
      "{'cod': 'BOL', 'pob_millones': 11.5, 'gdp_millones': 40895, 'gdp_pc': 3556.086956521739}\n"
     ]
    }
   ],
   "source": [
    "print(bol_carac)"
   ]
  },
  {
   "cell_type": "markdown",
   "metadata": {},
   "source": [
    "¿Cómo borrar una clave:valor?"
   ]
  },
  {
   "cell_type": "code",
   "execution_count": 225,
   "metadata": {},
   "outputs": [
    {
     "data": {
      "text/plain": [
       "{'cod': 'BOL', 'pob_millones': 11.5, 'gdp_millones': 40895}"
      ]
     },
     "execution_count": 225,
     "metadata": {},
     "output_type": "execute_result"
    }
   ],
   "source": [
    "bol_carac.pop('gdp_pc')\n",
    "bol_carac"
   ]
  },
  {
   "cell_type": "markdown",
   "metadata": {},
   "source": [
    "### Diccionarios: métodos básicos"
   ]
  },
  {
   "cell_type": "markdown",
   "metadata": {},
   "source": [
    "¿Cómo saber las claves o valores de un diccionario?"
   ]
  },
  {
   "cell_type": "code",
   "execution_count": 227,
   "metadata": {},
   "outputs": [
    {
     "data": {
      "text/plain": [
       "dict_keys(['cod', 'pob_millones', 'gdp_millones'])"
      ]
     },
     "execution_count": 227,
     "metadata": {},
     "output_type": "execute_result"
    }
   ],
   "source": [
    "bol_carac.keys()"
   ]
  },
  {
   "cell_type": "code",
   "execution_count": 229,
   "metadata": {},
   "outputs": [
    {
     "data": {
      "text/plain": [
       "dict_values(['BOL', 11.5, 40895])"
      ]
     },
     "execution_count": 229,
     "metadata": {},
     "output_type": "execute_result"
    }
   ],
   "source": [
    "bol_carac.values()"
   ]
  },
  {
   "cell_type": "code",
   "execution_count": 231,
   "metadata": {},
   "outputs": [
    {
     "data": {
      "text/plain": [
       "dict_items([('cod', 'BOL'), ('pob_millones', 11.5), ('gdp_millones', 40895)])"
      ]
     },
     "execution_count": 231,
     "metadata": {},
     "output_type": "execute_result"
    }
   ],
   "source": [
    "bol_carac.items()"
   ]
  },
  {
   "cell_type": "markdown",
   "metadata": {},
   "source": [
    "¿Cómo saber si una clave está en un diccionario?"
   ]
  },
  {
   "cell_type": "code",
   "execution_count": 233,
   "metadata": {},
   "outputs": [
    {
     "data": {
      "text/plain": [
       "True"
      ]
     },
     "execution_count": 233,
     "metadata": {},
     "output_type": "execute_result"
    }
   ],
   "source": [
    "'cod' in bol_carac # equivalente a 'cod' in bol_carac.keys()"
   ]
  },
  {
   "cell_type": "markdown",
   "metadata": {},
   "source": [
    "¿Cómo obtener un valor cuando no se si la clave existe?"
   ]
  },
  {
   "cell_type": "code",
   "execution_count": 235,
   "metadata": {},
   "outputs": [
    {
     "ename": "KeyError",
     "evalue": "'gdp'",
     "output_type": "error",
     "traceback": [
      "\u001b[0;31m---------------------------------------------------------------------------\u001b[0m",
      "\u001b[0;31mKeyError\u001b[0m                                  Traceback (most recent call last)",
      "Cell \u001b[0;32mIn[235], line 1\u001b[0m\n\u001b[0;32m----> 1\u001b[0m arg_carac[\u001b[38;5;124m\"\u001b[39m\u001b[38;5;124mgdp\u001b[39m\u001b[38;5;124m\"\u001b[39m]\n",
      "\u001b[0;31mKeyError\u001b[0m: 'gdp'"
     ]
    }
   ],
   "source": [
    "arg_carac[\"gdp\"]"
   ]
  },
  {
   "cell_type": "code",
   "execution_count": 237,
   "metadata": {},
   "outputs": [
    {
     "ename": "KeyError",
     "evalue": "'gdp_pc'",
     "output_type": "error",
     "traceback": [
      "\u001b[0;31m---------------------------------------------------------------------------\u001b[0m",
      "\u001b[0;31mKeyError\u001b[0m                                  Traceback (most recent call last)",
      "Cell \u001b[0;32mIn[237], line 1\u001b[0m\n\u001b[0;32m----> 1\u001b[0m bol_carac[\u001b[38;5;124m\"\u001b[39m\u001b[38;5;124mgdp_pc\u001b[39m\u001b[38;5;124m\"\u001b[39m]\n",
      "\u001b[0;31mKeyError\u001b[0m: 'gdp_pc'"
     ]
    }
   ],
   "source": [
    "bol_carac[\"gdp_pc\"]"
   ]
  },
  {
   "cell_type": "code",
   "execution_count": 239,
   "metadata": {},
   "outputs": [
    {
     "data": {
      "text/plain": [
       "'No value'"
      ]
     },
     "execution_count": 239,
     "metadata": {},
     "output_type": "execute_result"
    }
   ],
   "source": [
    "# Para que no nos tire error: si el valor no está, entonces 'No value'\n",
    "bol_carac.get(\"gdp_pc\", 'No value') "
   ]
  },
  {
   "cell_type": "markdown",
   "metadata": {},
   "source": [
    "¿Cómo crear un diccionario con los datos de una lista?"
   ]
  },
  {
   "cell_type": "code",
   "execution_count": 241,
   "metadata": {},
   "outputs": [
    {
     "name": "stdout",
     "output_type": "stream",
     "text": [
      "['ARG', 'BOL', 'BRA', 'CHI', 'PRY', 'URY']\n"
     ]
    },
    {
     "data": {
      "text/plain": [
       "{'ARG': '', 'BOL': '', 'BRA': '', 'CHI': '', 'PRY': '', 'URY': ''}"
      ]
     },
     "execution_count": 241,
     "metadata": {},
     "output_type": "execute_result"
    }
   ],
   "source": [
    "paises = ['ARG', 'BOL', 'BRA', 'CHI', 'PRY', 'URY']\n",
    "print(paises)\n",
    "\n",
    "# Armamos el diccionario usando los códigos de países en la lista como keys\n",
    "info_paises = dict.fromkeys(paises, '')\n",
    "info_paises"
   ]
  },
  {
   "cell_type": "code",
   "execution_count": 243,
   "metadata": {},
   "outputs": [
    {
     "ename": "TypeError",
     "evalue": "unhashable type: 'list'",
     "output_type": "error",
     "traceback": [
      "\u001b[0;31m---------------------------------------------------------------------------\u001b[0m",
      "\u001b[0;31mTypeError\u001b[0m                                 Traceback (most recent call last)",
      "Cell \u001b[0;32mIn[243], line 2\u001b[0m\n\u001b[1;32m      1\u001b[0m \u001b[38;5;66;03m# Qué pasaría si intentamos definir una nueva clave con una lista. Veamos:\u001b[39;00m\n\u001b[0;32m----> 2\u001b[0m info_paises[[\u001b[38;5;241m1\u001b[39m, \u001b[38;5;241m2\u001b[39m, \u001b[38;5;241m3\u001b[39m]] \u001b[38;5;241m=\u001b[39m [\u001b[38;5;241m100\u001b[39m, \u001b[38;5;241m200\u001b[39m, \u001b[38;5;241m300\u001b[39m]\n",
      "\u001b[0;31mTypeError\u001b[0m: unhashable type: 'list'"
     ]
    }
   ],
   "source": [
    "# Qué pasaría si intentamos definir una nueva clave con una lista. Veamos:\n",
    "info_paises[[1, 2, 3]] = [100, 200, 300]"
   ]
  },
  {
   "cell_type": "markdown",
   "metadata": {},
   "source": [
    "Lo que pasó es que la lista no puede ser una key para el diccionario (porque las listas son mutables y por ende no hasheables)"
   ]
  },
  {
   "cell_type": "code",
   "execution_count": 245,
   "metadata": {},
   "outputs": [
    {
     "data": {
      "text/plain": [
       "{'ARG': 45, 'BOL': 11.5, 'BRA': 21, 'CHI': 18.9, 'PRY': 7, 'URY': 3.5}"
      ]
     },
     "execution_count": 245,
     "metadata": {},
     "output_type": "execute_result"
    }
   ],
   "source": [
    "# Ahora tomamos los códigos de los países para crear las keys y los datos de población para los values\n",
    "pob_millones = [45 , 11.5 , 21 , 18.9 , 7 , 3.5]\n",
    "poblacion = dict(zip(paises, pob_millones))\n",
    "poblacion"
   ]
  },
  {
   "cell_type": "markdown",
   "metadata": {},
   "source": [
    "Un diccionario puede ser valor de otro diccionario"
   ]
  },
  {
   "cell_type": "code",
   "execution_count": 247,
   "metadata": {},
   "outputs": [
    {
     "data": {
      "text/plain": [
       "{'argentina': {'cod': 'ARG', 'pob_millones': 45, 'gdp_millones': 'N'},\n",
       " 'bolivia': {'cod': 'BOL', 'pob_millones': 11.5, 'gdp_millones': 40895},\n",
       " 'brasil': {'cod': 'BRA', 'pob_millones': 211, 'gdp_millones': 1810612},\n",
       " 'chile': {'cod': 'CHL', 'pob_millones': 18.9, 'gdp_millones': 352664},\n",
       " 'paraguay': {'cod': 'PRY', 'pob_millones': 7, 'gdp_millones': 39197},\n",
       " 'uruguay': {'cod': 'URY', 'pob_millones': 3.4, 'gdp_millones': 63741}}"
      ]
     },
     "execution_count": 247,
     "metadata": {},
     "output_type": "execute_result"
    }
   ],
   "source": [
    "bra_carac = {'cod':'BRA', 'pob_millones':211, 'gdp_millones':1810612}\n",
    "chl_carac = {'cod':'CHL', 'pob_millones':18.9, 'gdp_millones':352664}\n",
    "pry_carac = {'cod':'PRY', 'pob_millones':7, 'gdp_millones':39197}\n",
    "ury_carac = {'cod':'URY', 'pob_millones':3.4, 'gdp_millones':63741}\n",
    "\n",
    "paises_info = {'argentina':arg_carac,\n",
    "               'bolivia':bol_carac, \n",
    "               'brasil':bra_carac, \n",
    "               'chile':chl_carac, \n",
    "               'paraguay':pry_carac, \n",
    "               'uruguay':ury_carac}\n",
    "paises_info"
   ]
  },
  {
   "cell_type": "code",
   "execution_count": 249,
   "metadata": {},
   "outputs": [
    {
     "data": {
      "text/plain": [
       "{'cod': 'BRA', 'pob_millones': 211, 'gdp_millones': 1810612}"
      ]
     },
     "execution_count": 249,
     "metadata": {},
     "output_type": "execute_result"
    }
   ],
   "source": [
    "paises_info['brasil']"
   ]
  },
  {
   "cell_type": "code",
   "execution_count": 251,
   "metadata": {},
   "outputs": [
    {
     "data": {
      "text/plain": [
       "211"
      ]
     },
     "execution_count": 251,
     "metadata": {},
     "output_type": "execute_result"
    }
   ],
   "source": [
    "paises_info['brasil']['pob_millones']"
   ]
  },
  {
   "cell_type": "markdown",
   "metadata": {},
   "source": [
    "#### Ejercicio 7: Jugando con los Diccionarios\n",
    "Hacer la prueba de diccionarios abajo sobre los key repetidos."
   ]
  },
  {
   "cell_type": "code",
   "execution_count": null,
   "metadata": {},
   "outputs": [],
   "source": [
    "dict_prueba = {'a':1, 'a':2}\n",
    "# Cómo creen que será la longitud del diccionario y el valor de 'a'?\n",
    "print(\"Longitud del diccionario:\", len(dict_prueba))\n",
    "dict_prueba['a']"
   ]
  },
  {
   "cell_type": "markdown",
   "metadata": {},
   "source": [
    "Si las keys ya existen, no se repiten sino que se pisan, y con ello, su valor"
   ]
  },
  {
   "cell_type": "markdown",
   "metadata": {},
   "source": [
    "#### En resumen...\n",
    "\n",
    "|          | Listas | Tuplas | Sets | Diccionarios |\n",
    "|:--------|:--------:|:--------:|:--------:|:--------:|\n",
    "| Se definen con   |  [ ]   |  ( )   | set([ ])  | { } |\n",
    "| Ordenados?       |  Sí   |  Sí  |  No  |  No  |\n",
    "| Mutables?        |  Sí   |  No  |  Sí  |  Sí  |\n",
    "| Admite val. repetidos?  | Sí | Sí | No | keys: no, values: sí|\n",
    "| Admite distintos tipos? | Sí | Sí | Sí | keys: sí (hasheable), values: sí|\n",
    "| Uso | P/colecciones simples, que se modifican seguido| P/ datos que no van a cambiar. Puede ser la key de un diccionario. Sirve p/ mantener juntos varios objetos | P/ chequear pertenencia y eliminar duplicados. P/ elementos únicos | P/ asociaciones lógicas de key:value. P/ búsquedas rápidas"
   ]
  },
  {
   "cell_type": "markdown",
   "metadata": {},
   "source": [
    "### Sentencias condicionales y ciclos"
   ]
  },
  {
   "cell_type": "markdown",
   "metadata": {},
   "source": [
    "#### Bucles: for loop\n",
    "    \n",
    "**Bucle**: o *loop* es cuando usamos una sentencia para indicarle a la computadora que repita una serie de instrucciones hasta que se deje de cumplir una regla definida.\n",
    "\n",
    "for loop: para cada X de Y, hacer Z. `for` recorre una **lista**.  "
   ]
  },
  {
   "cell_type": "code",
   "execution_count": 255,
   "metadata": {},
   "outputs": [
    {
     "name": "stdout",
     "output_type": "stream",
     "text": [
      "Nombre: Argentina\n",
      "Nombre: Bolivia\n",
      "Nombre: Chile\n"
     ]
    }
   ],
   "source": [
    "# Armamos una lista de paises\n",
    "lista_paises = [\"Argentina\", \"Bolivia\", \"Chile\"]\n",
    "\n",
    "# Construimos for loop\n",
    "for pais in lista_paises : # el \":\" es necesario\n",
    "    print (\"Nombre: \" + pais ) # la sangría (indentación) es necesaria"
   ]
  },
  {
   "cell_type": "markdown",
   "metadata": {},
   "source": [
    "for loop con enumerate. `enumerate` en *lists* permite contar el número de \"vuelta\""
   ]
  },
  {
   "cell_type": "code",
   "execution_count": 257,
   "metadata": {},
   "outputs": [
    {
     "name": "stdout",
     "output_type": "stream",
     "text": [
      "(0, 'Argentina')\n",
      "(1, 'Bolivia')\n",
      "(2, 'Chile')\n"
     ]
    }
   ],
   "source": [
    "for pais in enumerate(lista_paises):\n",
    "    print(pais) # Imprime una tupla con el índice y el país\n"
   ]
  },
  {
   "cell_type": "code",
   "execution_count": 259,
   "metadata": {},
   "outputs": [
    {
     "name": "stdout",
     "output_type": "stream",
     "text": [
      "0 : Argentina\n",
      "1 : Bolivia\n",
      "2 : Chile\n"
     ]
    }
   ],
   "source": [
    "# Si queremos que sea un string:\n",
    "for n, pais in enumerate(lista_paises):\n",
    "    print(n, ':', pais) \n"
   ]
  },
  {
   "cell_type": "code",
   "execution_count": 261,
   "metadata": {},
   "outputs": [
    {
     "name": "stdout",
     "output_type": "stream",
     "text": [
      "100 : Argentina\n",
      "101 : Bolivia\n",
      "102 : Chile\n"
     ]
    }
   ],
   "source": [
    "# Si queremos cambiar el índice:\n",
    "for n, pais in enumerate(lista_paises, 100):\n",
    "    print(n, ':', pais) "
   ]
  },
  {
   "cell_type": "code",
   "execution_count": 263,
   "metadata": {},
   "outputs": [
    {
     "name": "stdout",
     "output_type": "stream",
     "text": [
      "ARG : 45\n",
      "BOL : 11.5\n",
      "BRA : 21\n",
      "CHL : 18.9\n",
      "PRY : 7\n",
      "URY : 3.5\n"
     ]
    }
   ],
   "source": [
    "# Ahora usando las listas de países y población\n",
    "paises = ['ARG', 'BOL', 'BRA', 'CHL', 'PRY', 'URY']\n",
    "pob_millones = [45 , 11.5 , 21 , 18.9 , 7 , 3.5]\n",
    "for n, pais in enumerate(paises):\n",
    "    print(pais, ':', pob_millones[n]) \n",
    "# En este ejemplo, como ambas listas tienen la misma longitud podemos indexar por el mismo elemento"
   ]
  },
  {
   "cell_type": "markdown",
   "metadata": {},
   "source": [
    "for loop con range. \n",
    "\n",
    "`range()` crea una lista de números enteros para recorrer, `range(start, stop)` crea una lista de enteros entre start y stop, o `range(num)` crea una lista de cero hasta num, o `range (start, stop, step)` recorre una lista en incrementos de a \"step\"."
   ]
  },
  {
   "cell_type": "code",
   "execution_count": 265,
   "metadata": {},
   "outputs": [
    {
     "name": "stdout",
     "output_type": "stream",
     "text": [
      "2\n",
      "4\n",
      "6\n"
     ]
    }
   ],
   "source": [
    "for i in range(2, 8, 2):\n",
    "    print(i)"
   ]
  },
  {
   "cell_type": "markdown",
   "metadata": {},
   "source": [
    "#### Bucles: while loop\n",
    "\n",
    "while loop: mientras X cumpla la condición Y, hacer Z.  `while`, se ejecuta mientras una condición particular es` True`. "
   ]
  },
  {
   "cell_type": "code",
   "execution_count": 273,
   "metadata": {},
   "outputs": [
    {
     "name": "stdout",
     "output_type": "stream",
     "text": [
      "0\n",
      "1\n",
      "2\n"
     ]
    }
   ],
   "source": [
    "x = 0\n",
    "\n",
    "while x < 3 :\n",
    "    print(x)\n",
    "    x = x + 1 # es equivalente a x += 1"
   ]
  },
  {
   "cell_type": "code",
   "execution_count": 275,
   "metadata": {},
   "outputs": [
    {
     "name": "stdout",
     "output_type": "stream",
     "text": [
      "Inscripción aceptada\n",
      "Inscripción aceptada\n",
      "Inscripción aceptada\n",
      "Cupo lleno\n"
     ]
    }
   ],
   "source": [
    "# Defino cupo máximo\n",
    "cupos_libres = 3\n",
    "\n",
    "# Ahora el while loop\n",
    "while cupos_libres > 0: \n",
    "    print('Inscripción aceptada')\n",
    "    cupos_libres -= 1\n",
    "print('Cupo lleno') # esta línea esta fuera del loop (después vamos a ver que podríamos meterla dentro del loop)"
   ]
  },
  {
   "cell_type": "markdown",
   "metadata": {},
   "source": [
    "#### Control de flujo\n",
    "\n",
    "Usamos sentencias condicionales para construir programas (scripts que respondan a condiciones definidas)\n",
    "\n",
    "Sentencia condicional: if A, X, elif B, Y, else C, Z"
   ]
  },
  {
   "cell_type": "code",
   "execution_count": 281,
   "metadata": {},
   "outputs": [
    {
     "name": "stdout",
     "output_type": "stream",
     "text": [
      "No se admiten Mayores de 30\n"
     ]
    }
   ],
   "source": [
    "edad = 35\n",
    "\n",
    "# Acá empieza la sentencia condicional\n",
    "if edad < 18: # el \":\" es importante\n",
    "    print (\"Menor de edad\") # importante la indentación\n",
    "elif edad >= 18 and edad <= 30:\n",
    "    print (\"Mayor de edad\")\n",
    "else:\n",
    "    print (\"No se admiten Mayores de 30\")\n"
   ]
  },
  {
   "cell_type": "markdown",
   "metadata": {},
   "source": [
    "Podemos combinar los tipos de sentencias. En este casos for loop y condicional"
   ]
  },
  {
   "cell_type": "code",
   "execution_count": 283,
   "metadata": {},
   "outputs": [
    {
     "name": "stdout",
     "output_type": "stream",
     "text": [
      "10 es par\n",
      "11 es impar\n",
      "12 es par\n",
      "13 es impar\n"
     ]
    }
   ],
   "source": [
    "listado_numeros = [10, 11, 12, 13]\n",
    "\n",
    "for numero in listado_numeros:\n",
    "    if numero % 2 == 0: # se acuerdan del módulo?\n",
    "        print(numero, \"es par\")\n",
    "    else:\n",
    "        print(numero, \"es impar\")"
   ]
  },
  {
   "cell_type": "code",
   "execution_count": 285,
   "metadata": {},
   "outputs": [
    {
     "name": "stdout",
     "output_type": "stream",
     "text": [
      "3 Inscripción aceptada\n",
      "2 Inscripción aceptada\n",
      "1 Inscripción aceptada\n",
      "Cupo lleno\n"
     ]
    }
   ],
   "source": [
    "# Defino cupo máximo\n",
    "cupos_libres = 3\n",
    "\n",
    "# Ahora el while loop\n",
    "while cupos_libres > 0: \n",
    "    print(cupos_libres,'Inscripción aceptada')\n",
    "    cupos_libres -= 1\n",
    "    if cupos_libres == 0:\n",
    "        print('Cupo lleno') "
   ]
  },
  {
   "cell_type": "code",
   "execution_count": null,
   "metadata": {},
   "outputs": [],
   "source": []
  }
 ],
 "metadata": {
  "kernelspec": {
   "display_name": "Python [conda env:base] *",
   "language": "python",
   "name": "conda-base-py"
  },
  "language_info": {
   "codemirror_mode": {
    "name": "ipython",
    "version": 3
   },
   "file_extension": ".py",
   "mimetype": "text/x-python",
   "name": "python",
   "nbconvert_exporter": "python",
   "pygments_lexer": "ipython3",
   "version": "3.12.4"
  }
 },
 "nbformat": 4,
 "nbformat_minor": 4
}
